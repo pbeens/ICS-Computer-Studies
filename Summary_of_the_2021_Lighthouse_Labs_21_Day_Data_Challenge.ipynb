{
  "nbformat": 4,
  "nbformat_minor": 0,
  "metadata": {
    "colab": {
      "name": "Summary of the 2021 Lighthouse Labs 21 Day Data Challenge.ipynb",
      "provenance": [],
      "toc_visible": true
    },
    "kernelspec": {
      "name": "python3",
      "display_name": "Python 3"
    }
  },
  "cells": [
    {
      "cell_type": "markdown",
      "metadata": {
        "id": "tEkQd-7YWWva"
      },
      "source": [
        "Welcome to my attempt to summarize the knowledge and skills learned during the 2021 Lighthouse Labs 21 Day Data Challenge. Some examples are pulled directly from their tutorials, and some are my own. \r\n",
        "\r\n",
        "The daily titles are not the same as the titles used on their website. I have done this to clarify what is being learned in each session.\r\n",
        "\r\n",
        "If you spot any mistakes or feel anything can be clarified, please contact me at pbeens@gmail.com. Thanks! "
      ]
    },
    {
      "cell_type": "markdown",
      "metadata": {
        "id": "XHOQ5onvNbdB"
      },
      "source": [
        "#Day 1: Variables, f-Strings"
      ]
    },
    {
      "cell_type": "markdown",
      "metadata": {
        "id": "ViAuiDijNA3y"
      },
      "source": [
        "Link: https://data-challenge.lighthouselabs.ca/challenge/1\r\n",
        "\r\n",
        "Challenge 1 started with an overview of variables, such as:"
      ]
    },
    {
      "cell_type": "code",
      "metadata": {
        "id": "UFG6j55JNMLz"
      },
      "source": [
        "var_a = 'This is a string.'\r\n",
        "var_b = 21\r\n",
        "var_c = ['This','is','a','list','on', 'the',21,'day data challenge.']"
      ],
      "execution_count": 1,
      "outputs": []
    },
    {
      "cell_type": "markdown",
      "metadata": {
        "id": "ANarHBi0NpuZ"
      },
      "source": [
        "Note that strings can be surrounded by single quotes or double quotes, dependent on your style (I like single quotes) or the situation (such as when the string contains a quote).\r\n",
        "\r\n",
        "This was followed by an introduction to f-strings, which I highly recommend everyone learns how to use right away. The example given:"
      ]
    },
    {
      "cell_type": "code",
      "metadata": {
        "colab": {
          "base_uri": "https://localhost:8080/"
        },
        "id": "6faaOVc6N06J",
        "outputId": "d0eb496e-f580-40a6-f08e-3e154464c92c"
      },
      "source": [
        "x = 'string'\r\n",
        "y = 2021\r\n",
        "\r\n",
        "print(f'This is a {x} format and the year is {y}.')"
      ],
      "execution_count": 2,
      "outputs": [
        {
          "output_type": "stream",
          "text": [
            "This is a string format and the year is 2021.\n"
          ],
          "name": "stdout"
        }
      ]
    },
    {
      "cell_type": "markdown",
      "metadata": {
        "id": "cXDOM2_gO88M"
      },
      "source": [
        "Note the 'f' preceding the first quote of the string and that the variables are contained within braces. \r\n",
        "\r\n",
        "For more information about f-strings, see https://zetcode.com/python/fstring/."
      ]
    },
    {
      "cell_type": "markdown",
      "metadata": {
        "id": "sQOuy2B9O_7u"
      },
      "source": [
        "#Day 2: Data Types, Lists, sum(), round(), Simple Math"
      ]
    },
    {
      "cell_type": "markdown",
      "metadata": {
        "id": "MYMlK1xRQbnH"
      },
      "source": [
        "Link: https://data-challenge.lighthouselabs.ca/challenge/2"
      ]
    },
    {
      "cell_type": "markdown",
      "metadata": {
        "id": "Y8PXO3SIDgO9"
      },
      "source": [
        "## Numeric Data Types\r\n",
        "There are two types of numeric data types: integer (whole number) and float, like fractions or decimals. "
      ]
    },
    {
      "cell_type": "markdown",
      "metadata": {
        "id": "DY0mM2ucDb5Y"
      },
      "source": [
        "## Lists \r\n",
        "Lists are a sequence of variables separated by commas and contained within brackets, such as:"
      ]
    },
    {
      "cell_type": "code",
      "metadata": {
        "id": "wmtKXCFzOZn_"
      },
      "source": [
        "list_of_int = [1,2,3,4,5] #list of integers\r\n",
        "list_of_string = ['string1','string2', 'string3'] #list of strings\r\n",
        "list_of_anything = [1, 'string', 3.2] #list with an integer, string, and float."
      ],
      "execution_count": 3,
      "outputs": []
    },
    {
      "cell_type": "markdown",
      "metadata": {
        "id": "nm733OrZROUw"
      },
      "source": [
        "Note that lists can include multiple data types. Lists can even contain other lists.\r\n",
        "\r\n",
        "Lists are indexed numerically. The first index number is 0 (zero), so the first element of a list would be accessed like this:"
      ]
    },
    {
      "cell_type": "code",
      "metadata": {
        "colab": {
          "base_uri": "https://localhost:8080/"
        },
        "id": "MkbWCXELRidV",
        "outputId": "6c2a4664-d6c1-4960-bbd5-b51a1f06dd6b"
      },
      "source": [
        "lst = ['a', 'town', 'red', 4]\r\n",
        "print(lst[0])"
      ],
      "execution_count": 4,
      "outputs": [
        {
          "output_type": "stream",
          "text": [
            "a\n"
          ],
          "name": "stdout"
        }
      ]
    },
    {
      "cell_type": "markdown",
      "metadata": {
        "id": "Q1tsWTH6SHbs"
      },
      "source": [
        "## sum()\r\n",
        "The contents of a numeric list can easily be added by using the `sum()` function:"
      ]
    },
    {
      "cell_type": "code",
      "metadata": {
        "colab": {
          "base_uri": "https://localhost:8080/"
        },
        "id": "Ic-ihhd6N6D8",
        "outputId": "da584f13-8b06-413a-a9d9-dcf0c93f5958"
      },
      "source": [
        "lst = [1, 2, 4, 3.245, 99]\r\n",
        "print(sum(lst))"
      ],
      "execution_count": 5,
      "outputs": [
        {
          "output_type": "stream",
          "text": [
            "109.245\n"
          ],
          "name": "stdout"
        }
      ]
    },
    {
      "cell_type": "markdown",
      "metadata": {
        "id": "wL3YBmRNSyT2"
      },
      "source": [
        "## Simple Math\r\n",
        "\r\n",
        "Let's do some simple math:"
      ]
    },
    {
      "cell_type": "code",
      "metadata": {
        "colab": {
          "base_uri": "https://localhost:8080/"
        },
        "id": "xngsRgJzS0UK",
        "outputId": "146792d6-5a2e-498b-ece0-b6bc1ef140c8"
      },
      "source": [
        "a = 34.2\r\n",
        "b = 21.72\r\n",
        "\r\n",
        "print(a + b) # addition\r\n",
        "print(a - b) # subtraction\r\n",
        "print(a * b) # multiplication\r\n",
        "print(a / b) # division\r\n",
        "print(2 ** 3) # exponentiation\r\n",
        "print(5 // 2) # integer division\r\n",
        "print(5 % 2) # remainder (modulus)"
      ],
      "execution_count": 6,
      "outputs": [
        {
          "output_type": "stream",
          "text": [
            "55.92\n",
            "12.480000000000004\n",
            "742.8240000000001\n",
            "1.5745856353591163\n",
            "8\n",
            "2\n",
            "1\n"
          ],
          "name": "stdout"
        }
      ]
    },
    {
      "cell_type": "markdown",
      "metadata": {
        "id": "foO6_KleT1h-"
      },
      "source": [
        "If any of the results above look strange, it's because of the way computers do math. For further reading about this, see:\r\n",
        "https://stackoverflow.com/questions/21895756/why-are-floating-point-numbers-inaccurate\r\n"
      ]
    },
    {
      "cell_type": "markdown",
      "metadata": {
        "id": "kiDbNVBBD3dB"
      },
      "source": [
        "## Comments\r\n",
        "Did you notice the comments in the code above? Anything after a \"`#`\" is a comment. Use lots of comments in your code! "
      ]
    },
    {
      "cell_type": "markdown",
      "metadata": {
        "id": "3Gucnnc7Dvrb"
      },
      "source": [
        "## round()\r\n",
        "If we want to round any of the results, we can use the `round()` function:"
      ]
    },
    {
      "cell_type": "code",
      "metadata": {
        "colab": {
          "base_uri": "https://localhost:8080/"
        },
        "id": "ocWMVVPJT9uY",
        "outputId": "ed013d0c-f33c-42fd-db1b-a6579dd52895"
      },
      "source": [
        "print(a / b)            # no rounding\r\n",
        "print(round(a / b, 2))  # 2 decimals places"
      ],
      "execution_count": 7,
      "outputs": [
        {
          "output_type": "stream",
          "text": [
            "1.5745856353591163\n",
            "1.57\n"
          ],
          "name": "stdout"
        }
      ]
    },
    {
      "cell_type": "markdown",
      "metadata": {
        "id": "xgXkI3PY4k4L"
      },
      "source": [
        "#Day 3: List Slicing, Dictionaries, and Indexing"
      ]
    },
    {
      "cell_type": "markdown",
      "metadata": {
        "id": "KKur4uM35zgV"
      },
      "source": [
        "Link: https://data-challenge.lighthouselabs.ca/challenge/3"
      ]
    },
    {
      "cell_type": "markdown",
      "metadata": {
        "id": "4w-2AcyZCqmM"
      },
      "source": [
        "## List Slicing"
      ]
    },
    {
      "cell_type": "markdown",
      "metadata": {
        "id": "6ouaMBkbCoFb"
      },
      "source": [
        "Revisiting lists, sometimes we need to extract more than one item in the list. Recall that lists are indexed starting at 0, as is shown in this previous example:"
      ]
    },
    {
      "cell_type": "code",
      "metadata": {
        "colab": {
          "base_uri": "https://localhost:8080/"
        },
        "id": "dxyY_HjQ-Dsu",
        "outputId": "c654e5fa-5d51-4822-8bfe-5872c50d67f4"
      },
      "source": [
        "lst = [1, 2, 4, 3.245, 99]\r\n",
        "print(lst[0])"
      ],
      "execution_count": 8,
      "outputs": [
        {
          "output_type": "stream",
          "text": [
            "1\n"
          ],
          "name": "stdout"
        }
      ]
    },
    {
      "cell_type": "markdown",
      "metadata": {
        "id": "RbxVaG2W-vTz"
      },
      "source": [
        "Let's now work on extracting more than one item. We'll use a list of fruits and extract different portions. Note that lists can be indexed from the front (index 0) or from the end (index -1). The first index is the start of the *slice* (inclusive), the second index is the end of the slice, but it does not include that indexed item (exclusive)."
      ]
    },
    {
      "cell_type": "code",
      "metadata": {
        "colab": {
          "base_uri": "https://localhost:8080/"
        },
        "id": "M346lM_C-l_e",
        "outputId": "d36e5841-0141-4a40-b508-130fe453268b"
      },
      "source": [
        "fruits = ['Apple', 'Pear', 'Orange', 'Banana', 'Kiwi', 'Grapefruit', 'Kumquat']\r\n",
        "print(fruits[0:2]) # 'Apple', 'Pear'\r\n",
        "print(fruits[1:3]) # 'Pear', 'Orange'\r\n",
        "print(fruits[-3:-1]) # 'Pear', 'Orange'"
      ],
      "execution_count": 9,
      "outputs": [
        {
          "output_type": "stream",
          "text": [
            "['Apple', 'Pear']\n",
            "['Pear', 'Orange']\n",
            "['Kiwi', 'Grapefruit']\n"
          ],
          "name": "stdout"
        }
      ]
    },
    {
      "cell_type": "markdown",
      "metadata": {
        "id": "UIu-o3c4Bg_x"
      },
      "source": [
        "Note that you leave the first part of the argument (the part in the brackets) blank, the slice starts at [0]. If you leave the second part of the argument blank, it ends at the last item:"
      ]
    },
    {
      "cell_type": "code",
      "metadata": {
        "colab": {
          "base_uri": "https://localhost:8080/"
        },
        "id": "z4MHKC8IBSX0",
        "outputId": "da01ba7b-f78d-4fc7-e944-5fb2a8604ba8"
      },
      "source": [
        "print(fruits[:2]) # 'Apple', 'Pear', same as [0:2]\r\n",
        "print(fruits[4:]) # 'Kiwi', 'Grapefruit', 'Kumquat'"
      ],
      "execution_count": 10,
      "outputs": [
        {
          "output_type": "stream",
          "text": [
            "['Apple', 'Pear']\n",
            "['Kiwi', 'Grapefruit', 'Kumquat']\n"
          ],
          "name": "stdout"
        }
      ]
    },
    {
      "cell_type": "markdown",
      "metadata": {
        "id": "5FgmzYuKCKft"
      },
      "source": [
        "What if you want to print the slice backwards? Simple. Just add :-1 to the arguments, as in:"
      ]
    },
    {
      "cell_type": "code",
      "metadata": {
        "colab": {
          "base_uri": "https://localhost:8080/"
        },
        "id": "2JdQDh84AAsC",
        "outputId": "e1635b45-2272-4068-fa45-654ff55be614"
      },
      "source": [
        "print(fruits[::-1])"
      ],
      "execution_count": 11,
      "outputs": [
        {
          "output_type": "stream",
          "text": [
            "['Kumquat', 'Grapefruit', 'Kiwi', 'Banana', 'Orange', 'Pear', 'Apple']\n"
          ],
          "name": "stdout"
        }
      ]
    },
    {
      "cell_type": "markdown",
      "metadata": {
        "id": "hL-eYz5wEXTj"
      },
      "source": [
        "What if you want to print every 2nd item? Check this out:"
      ]
    },
    {
      "cell_type": "code",
      "metadata": {
        "colab": {
          "base_uri": "https://localhost:8080/"
        },
        "id": "UeGro5S2Eevl",
        "outputId": "cf29f086-b64c-44ca-996d-74182b291b38"
      },
      "source": [
        "print(fruits[::2])"
      ],
      "execution_count": 12,
      "outputs": [
        {
          "output_type": "stream",
          "text": [
            "['Apple', 'Orange', 'Kiwi', 'Kumquat']\n"
          ],
          "name": "stdout"
        }
      ]
    },
    {
      "cell_type": "code",
      "metadata": {
        "id": "ed0G5wAWEhKd"
      },
      "source": [
        ""
      ],
      "execution_count": 12,
      "outputs": []
    }
  ]
}