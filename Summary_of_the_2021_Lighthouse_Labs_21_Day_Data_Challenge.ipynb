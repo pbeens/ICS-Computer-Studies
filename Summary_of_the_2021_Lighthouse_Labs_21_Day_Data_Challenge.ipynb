{
  "nbformat": 4,
  "nbformat_minor": 0,
  "metadata": {
    "colab": {
      "name": "Summary of the 2021 Lighthouse Labs 21 Day Data Challenge.ipynb",
      "provenance": [],
      "toc_visible": true,
      "authorship_tag": "ABX9TyMjYTLBANlTupoytGamTfSS",
      "include_colab_link": true
    },
    "kernelspec": {
      "name": "python3",
      "display_name": "Python 3"
    }
  },
  "cells": [
    {
      "cell_type": "markdown",
      "metadata": {
        "id": "view-in-github",
        "colab_type": "text"
      },
      "source": [
        "<a href=\"https://colab.research.google.com/github/pbeens/ICS-Computer-Studies/blob/master/Summary_of_the_2021_Lighthouse_Labs_21_Day_Data_Challenge.ipynb\" target=\"_parent\"><img src=\"https://colab.research.google.com/assets/colab-badge.svg\" alt=\"Open In Colab\"/></a>"
      ]
    },
    {
      "cell_type": "markdown",
      "metadata": {
        "id": "XHOQ5onvNbdB"
      },
      "source": [
        "#Challenge 1: Variables, f-Strings"
      ]
    },
    {
      "cell_type": "markdown",
      "metadata": {
        "id": "ViAuiDijNA3y"
      },
      "source": [
        "Link: https://data-challenge.lighthouselabs.ca/challenge/1\r\n",
        "\r\n",
        "Challenge 1 started with an overview of variables, such as:"
      ]
    },
    {
      "cell_type": "code",
      "metadata": {
        "id": "UFG6j55JNMLz"
      },
      "source": [
        "var_a = 'This is a string.'\r\n",
        "var_b = 21\r\n",
        "var_c = ['This','is','a','list','on', 'the',21,'day data challenge.']"
      ],
      "execution_count": 1,
      "outputs": []
    },
    {
      "cell_type": "markdown",
      "metadata": {
        "id": "ANarHBi0NpuZ"
      },
      "source": [
        "Note that strings can be surrounded by single quotes or double quotes, dependent on your style (I like single quotes) or the situation (such as when the string contains a quote).\r\n",
        "\r\n",
        "This was followed by an introduction to f-strings, which I highly recommend everyone learns how to use right away. The example given:"
      ]
    },
    {
      "cell_type": "code",
      "metadata": {
        "colab": {
          "base_uri": "https://localhost:8080/"
        },
        "id": "6faaOVc6N06J",
        "outputId": "19cac542-db24-48db-f51f-14f7c79839a1"
      },
      "source": [
        "x = 'string'\r\n",
        "y = 2021\r\n",
        "\r\n",
        "print(f'This is a {x} format and the year is {y}.')"
      ],
      "execution_count": 2,
      "outputs": [
        {
          "output_type": "stream",
          "text": [
            "This is a string format and the year is 2021.\n"
          ],
          "name": "stdout"
        }
      ]
    },
    {
      "cell_type": "markdown",
      "metadata": {
        "id": "cXDOM2_gO88M"
      },
      "source": [
        "Note the 'f' preceding the first quote of the string and that the variables are contained within braces. \r\n",
        "\r\n",
        "For more information about f-strings, see https://zetcode.com/python/fstring/."
      ]
    },
    {
      "cell_type": "markdown",
      "metadata": {
        "id": "sQOuy2B9O_7u"
      },
      "source": [
        "#Challenge 2: Data Types, "
      ]
    },
    {
      "cell_type": "code",
      "metadata": {
        "id": "wmtKXCFzOZn_"
      },
      "source": [
        ""
      ],
      "execution_count": null,
      "outputs": []
    },
    {
      "cell_type": "code",
      "metadata": {
        "id": "Ic-ihhd6N6D8"
      },
      "source": [
        ""
      ],
      "execution_count": null,
      "outputs": []
    }
  ]
}