{
  "nbformat": 4,
  "nbformat_minor": 0,
  "metadata": {
    "colab": {
      "name": "Summary of the 2021 Lighthouse Labs 21 Day Data Challenge.ipynb",
      "provenance": [],
      "toc_visible": true,
      "authorship_tag": "ABX9TyOVDxunvzPpAnquf7ICPS4q",
      "include_colab_link": true
    },
    "kernelspec": {
      "name": "python3",
      "display_name": "Python 3"
    }
  },
  "cells": [
    {
      "cell_type": "markdown",
      "metadata": {
        "id": "view-in-github",
        "colab_type": "text"
      },
      "source": [
        "<a href=\"https://colab.research.google.com/github/pbeens/ICS-Computer-Studies/blob/master/Summary_of_the_2021_Lighthouse_Labs_21_Day_Data_Challenge.ipynb\" target=\"_parent\"><img src=\"https://colab.research.google.com/assets/colab-badge.svg\" alt=\"Open In Colab\"/></a>"
      ]
    },
    {
      "cell_type": "markdown",
      "metadata": {
        "id": "tEkQd-7YWWva"
      },
      "source": [
        "Welcome to my attempt to summarize the knowledge and skills learned during the 2021 Lighthouse Labs 21 Day Data Challenge. Some examples are pulled directly from their tutorials, and some are my own. \r\n",
        "\r\n",
        "The daily titles are not the same as the titles used on their website. I have done this to clarify what is being learned in each session.\r\n",
        "\r\n",
        "If you spot any mistakes or feel anything can be clarified, please contact me at pbeens@gmail.com. Thanks! "
      ]
    },
    {
      "cell_type": "markdown",
      "metadata": {
        "id": "XHOQ5onvNbdB"
      },
      "source": [
        "#Challenge 1: Variables, f-Strings"
      ]
    },
    {
      "cell_type": "markdown",
      "metadata": {
        "id": "ViAuiDijNA3y"
      },
      "source": [
        "Link: https://data-challenge.lighthouselabs.ca/challenge/1\r\n",
        "\r\n",
        "Challenge 1 started with an overview of variables, such as:"
      ]
    },
    {
      "cell_type": "code",
      "metadata": {
        "id": "UFG6j55JNMLz"
      },
      "source": [
        "var_a = 'This is a string.'\r\n",
        "var_b = 21\r\n",
        "var_c = ['This','is','a','list','on', 'the',21,'day data challenge.']"
      ],
      "execution_count": 1,
      "outputs": []
    },
    {
      "cell_type": "markdown",
      "metadata": {
        "id": "ANarHBi0NpuZ"
      },
      "source": [
        "Note that strings can be surrounded by single quotes or double quotes, dependent on your style (I like single quotes) or the situation (such as when the string contains a quote).\r\n",
        "\r\n",
        "This was followed by an introduction to f-strings, which I highly recommend everyone learns how to use right away. The example given:"
      ]
    },
    {
      "cell_type": "code",
      "metadata": {
        "colab": {
          "base_uri": "https://localhost:8080/"
        },
        "id": "6faaOVc6N06J",
        "outputId": "19cac542-db24-48db-f51f-14f7c79839a1"
      },
      "source": [
        "x = 'string'\r\n",
        "y = 2021\r\n",
        "\r\n",
        "print(f'This is a {x} format and the year is {y}.')"
      ],
      "execution_count": 2,
      "outputs": [
        {
          "output_type": "stream",
          "text": [
            "This is a string format and the year is 2021.\n"
          ],
          "name": "stdout"
        }
      ]
    },
    {
      "cell_type": "markdown",
      "metadata": {
        "id": "cXDOM2_gO88M"
      },
      "source": [
        "Note the 'f' preceding the first quote of the string and that the variables are contained within braces. \r\n",
        "\r\n",
        "For more information about f-strings, see https://zetcode.com/python/fstring/."
      ]
    },
    {
      "cell_type": "markdown",
      "metadata": {
        "id": "sQOuy2B9O_7u"
      },
      "source": [
        "#Challenge 2: Data Types, Lists, sum(), round(), Simple Math"
      ]
    },
    {
      "cell_type": "markdown",
      "metadata": {
        "id": "MYMlK1xRQbnH"
      },
      "source": [
        "Link: https://data-challenge.lighthouselabs.ca/challenge/2\r\n",
        "\r\n",
        "There are two types of numeric data types: integer (whole number) and float, like fractions or decimals. \r\n",
        "\r\n",
        "Lists are a sequence of variables separated by commas and contained within brackets, such as:"
      ]
    },
    {
      "cell_type": "code",
      "metadata": {
        "id": "wmtKXCFzOZn_"
      },
      "source": [
        "list_of_int = [1,2,3,4,5] #list of integers\r\n",
        "list_of_string = ['string1','string2', 'string3'] #list of strings\r\n",
        "list_of_anything = [1, 'string', 3.2] #list with an integer, string, and float."
      ],
      "execution_count": 3,
      "outputs": []
    },
    {
      "cell_type": "markdown",
      "metadata": {
        "id": "nm733OrZROUw"
      },
      "source": [
        "Note that lists can include multiple data types. Lists can even contain other lists.\r\n",
        "\r\n",
        "Lists are indexed numerically. The first index number is 0 (zero), so the first element of a list would be accessed like this:"
      ]
    },
    {
      "cell_type": "code",
      "metadata": {
        "colab": {
          "base_uri": "https://localhost:8080/"
        },
        "id": "MkbWCXELRidV",
        "outputId": "6fc71cac-8fcb-4721-b462-c0d7585fc8e1"
      },
      "source": [
        "lst = ['a', 'town', 'red', 4]\r\n",
        "print(lst[0])"
      ],
      "execution_count": 4,
      "outputs": [
        {
          "output_type": "stream",
          "text": [
            "a\n"
          ],
          "name": "stdout"
        }
      ]
    },
    {
      "cell_type": "markdown",
      "metadata": {
        "id": "Q1tsWTH6SHbs"
      },
      "source": [
        "The contents of a numberic list can easily be added by using the `sum()` function:"
      ]
    },
    {
      "cell_type": "code",
      "metadata": {
        "colab": {
          "base_uri": "https://localhost:8080/"
        },
        "id": "Ic-ihhd6N6D8",
        "outputId": "e8eae4f3-643d-4e9d-f1c5-e51ef8b67e41"
      },
      "source": [
        "lst = [1, 2, 4, 3.245, 99]\r\n",
        "print(sum(lst))"
      ],
      "execution_count": 9,
      "outputs": [
        {
          "output_type": "stream",
          "text": [
            "109.245\n"
          ],
          "name": "stdout"
        }
      ]
    },
    {
      "cell_type": "markdown",
      "metadata": {
        "id": "wL3YBmRNSyT2"
      },
      "source": [
        "Some simple math:"
      ]
    },
    {
      "cell_type": "code",
      "metadata": {
        "colab": {
          "base_uri": "https://localhost:8080/"
        },
        "id": "xngsRgJzS0UK",
        "outputId": "b30fea49-5e86-4fd9-8df7-3cc219876be5"
      },
      "source": [
        "a = 34.2\r\n",
        "b = 21.72\r\n",
        "\r\n",
        "print(a + b) # addition\r\n",
        "print(a - b) # subtraction\r\n",
        "print(a * b) # multiplication\r\n",
        "print(a / b) # division\r\n",
        "print(2 ** 3) # exponentiation\r\n",
        "print(5 // 2) # integer division\r\n",
        "print(5 % 2) # remainder (modulus)"
      ],
      "execution_count": 20,
      "outputs": [
        {
          "output_type": "stream",
          "text": [
            "55.92\n",
            "12.480000000000004\n",
            "742.8240000000001\n",
            "1.5745856353591163\n",
            "8\n",
            "2\n",
            "1\n"
          ],
          "name": "stdout"
        }
      ]
    },
    {
      "cell_type": "markdown",
      "metadata": {
        "id": "foO6_KleT1h-"
      },
      "source": [
        "If any of the results above look strange, it's because of the way computers do math. For further reading about this, see:\r\n",
        "https://stackoverflow.com/questions/21895756/why-are-floating-point-numbers-inaccurate\r\n",
        "\r\n",
        "Did you notice the comments in the code above? Anything after a \"`#`\" is a comment. Use lots of comments in your code! \r\n",
        "\r\n",
        "If we want to round any of the results, we can use the `round()` function:"
      ]
    },
    {
      "cell_type": "code",
      "metadata": {
        "colab": {
          "base_uri": "https://localhost:8080/"
        },
        "id": "ocWMVVPJT9uY",
        "outputId": "8ec3a10f-003c-4f8b-de44-15fede5796bd"
      },
      "source": [
        "print(a / b)            # no rounding\r\n",
        "print(round(a / b, 2))  # 2 decimals places"
      ],
      "execution_count": 15,
      "outputs": [
        {
          "output_type": "stream",
          "text": [
            "1.5745856353591163\n",
            "1.57\n"
          ],
          "name": "stdout"
        }
      ]
    },
    {
      "cell_type": "code",
      "metadata": {
        "id": "ErAAf5wSULxt"
      },
      "source": [
        ""
      ],
      "execution_count": null,
      "outputs": []
    }
  ]
}