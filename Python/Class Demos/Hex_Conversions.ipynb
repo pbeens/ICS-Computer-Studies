{
  "nbformat": 4,
  "nbformat_minor": 0,
  "metadata": {
    "colab": {
      "name": "Hex Conversions.ipynb",
      "version": "0.3.2",
      "provenance": [],
      "collapsed_sections": []
    },
    "kernelspec": {
      "name": "python3",
      "display_name": "Python 3"
    }
  },
  "cells": [
    {
      "cell_type": "markdown",
      "metadata": {
        "id": "qrPu6JyW-2C8",
        "colab_type": "text"
      },
      "source": [
        "**Decimal to Hexadecimal**\n",
        "\n",
        "---\n",
        "\n"
      ]
    },
    {
      "cell_type": "code",
      "metadata": {
        "id": "Y1SMyok99oWS",
        "colab_type": "code",
        "colab": {
          "base_uri": "https://localhost:8080/",
          "height": 34
        },
        "outputId": "c1dfff8f-1ae5-434d-fc04-a028291dabf9"
      },
      "source": [
        "dec_num = 254\n",
        "print('{:X}'.format(dec_num))"
      ],
      "execution_count": 1,
      "outputs": [
        {
          "output_type": "stream",
          "text": [
            "FE\n"
          ],
          "name": "stdout"
        }
      ]
    },
    {
      "cell_type": "markdown",
      "metadata": {
        "id": "FjNZAGWQ_vem",
        "colab_type": "text"
      },
      "source": [
        "Note that I have used the format() function here together with the {:X} placeholder which tells Python to print the number as Hexadecimal.\n",
        "\n",
        "There is a hex() function available but it prepends the output with \"0x\" which may be a nuisance for what you are doing."
      ]
    },
    {
      "cell_type": "markdown",
      "metadata": {
        "id": "fDTIzrBD-9K7",
        "colab_type": "text"
      },
      "source": [
        "**HexHexadecimal to Decimal**\n",
        "\n",
        "---\n",
        "\n"
      ]
    },
    {
      "cell_type": "code",
      "metadata": {
        "id": "eqQwnxam9yZT",
        "colab_type": "code",
        "colab": {
          "base_uri": "https://localhost:8080/",
          "height": 34
        },
        "outputId": "1abb9e87-fec8-4035-858e-b42d5666cd53"
      },
      "source": [
        "hex_string = 'FE'\n",
        "print(int(hex_string, 16))"
      ],
      "execution_count": 2,
      "outputs": [
        {
          "output_type": "stream",
          "text": [
            "254\n"
          ],
          "name": "stdout"
        }
      ]
    },
    {
      "cell_type": "markdown",
      "metadata": {
        "id": "vYBiYRSW_a3A",
        "colab_type": "text"
      },
      "source": [
        "Note the use of \", 16\" in the int() function? That tells python that we are converting from  a Hex string as opposed to an integer string."
      ]
    },
    {
      "cell_type": "markdown",
      "metadata": {
        "id": "hj7pW8hSJO20",
        "colab_type": "text"
      },
      "source": [
        "The original of this file can be found at https://colab.research.google.com/drive/1LhwqcRlAbCs1JTLagCLsjC3WdwrKGsW8"
      ]
    }
  ]
}