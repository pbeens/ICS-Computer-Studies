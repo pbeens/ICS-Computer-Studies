{
  "nbformat": 4,
  "nbformat_minor": 0,
  "metadata": {
    "colab": {
      "name": "Coursera Introduction to Data Science with Python.ipynb",
      "provenance": [],
      "collapsed_sections": [],
      "toc_visible": true,
      "authorship_tag": "ABX9TyMPHmIpT65dsfTL39MwO/+c",
      "include_colab_link": true
    },
    "kernelspec": {
      "name": "python3",
      "display_name": "Python 3"
    }
  },
  "cells": [
    {
      "cell_type": "markdown",
      "metadata": {
        "id": "view-in-github",
        "colab_type": "text"
      },
      "source": [
        "<a href=\"https://colab.research.google.com/github/pbeens/ICS-Computer-Studies/blob/master/Coursera_Introduction_to_Data_Science_with_Python.ipynb\" target=\"_parent\"><img src=\"https://colab.research.google.com/assets/colab-badge.svg\" alt=\"Open In Colab\"/></a>"
      ]
    },
    {
      "cell_type": "markdown",
      "metadata": {
        "id": "uH9yHUZBhSYr"
      },
      "source": [
        "# Week 1"
      ]
    },
    {
      "cell_type": "markdown",
      "metadata": {
        "id": "zjQJRVwalplP"
      },
      "source": [
        "Outline: https://www.coursera.org/learn/python-data-analysis/home/week/1\n",
        "\n",
        "Forum: https://www.coursera.org/learn/python-data-analysis/discussions/weeks/1"
      ]
    },
    {
      "cell_type": "markdown",
      "metadata": {
        "id": "FCPkwWNnhXHo"
      },
      "source": [
        "## Introduction to Specialization"
      ]
    },
    {
      "cell_type": "markdown",
      "metadata": {
        "id": "8upVd8SPhdX-"
      },
      "source": [
        "Video: https://www.coursera.org/learn/python-data-analysis/lecture/TPrDp/introduction-to-specialization\n",
        "\n",
        "- Basic Python\n",
        "- Pandas\n",
        "- Advanced Querying and Manipulation\n",
        "- Basic statistical analysis"
      ]
    },
    {
      "cell_type": "markdown",
      "metadata": {
        "id": "Xkv6An9HhbjQ"
      },
      "source": [
        "## Introduction to the Course"
      ]
    },
    {
      "cell_type": "markdown",
      "metadata": {
        "id": "XVfPAMhxiEkd"
      },
      "source": [
        "Video: https://www.coursera.org/learn/python-data-analysis/lecture/MIvLe/introduction-to-the-course\n",
        "\n",
        "- Data manipulation\n",
        "- Pandas library, defacto standard\n",
        "- Tutorial-style videos, using Jupyter\n",
        "- Strategy for learning: take your own notes using Jupyter"
      ]
    },
    {
      "cell_type": "markdown",
      "metadata": {
        "id": "ufsfPhxpl4iL"
      },
      "source": [
        "## Syllabus"
      ]
    },
    {
      "cell_type": "markdown",
      "metadata": {
        "id": "ICIPM_hhl7LI"
      },
      "source": [
        "Link: https://www.coursera.org/learn/python-data-analysis/supplement/DNjE6/syllabus\n",
        "\n",
        "- Prerequisites\n",
        "- Grading and assignments\n",
        "- Code of Conduct\n",
        "- Working offline\n",
        "- Accessibility\n",
        "- Help!"
      ]
    },
    {
      "cell_type": "markdown",
      "metadata": {
        "id": "7ZpqZwvumSNm"
      },
      "source": [
        "## Notice for Auditing Learners: Assignment Submission"
      ]
    },
    {
      "cell_type": "markdown",
      "metadata": {
        "id": "6QahSlw_mUVH"
      },
      "source": [
        "Can't submit assignments unless you are a verified (paid?) learner. A link is available to pursue this path."
      ]
    },
    {
      "cell_type": "markdown",
      "metadata": {
        "id": "nvdAQyEvmli4"
      },
      "source": [
        "## The Coursera Jupyter Notebook System"
      ]
    },
    {
      "cell_type": "markdown",
      "metadata": {
        "id": "i1Ab_F2Amr0N"
      },
      "source": [
        "Video: https://www.coursera.org/learn/python-data-analysis/lecture/nWh1K/the-coursera-jupyter-notebook-system\n",
        "\n",
        "- code cells and markdown cells\n",
        "- code cells retain what they did in previous cells.\n",
        "- Kernal/Runtime > Interrupt to stop a running process or infinite loop\n"
      ]
    },
    {
      "cell_type": "markdown",
      "metadata": {
        "id": "EFyyrUfMpeHs"
      },
      "source": [
        "## Your Personal Jupyter Notebook Workspace"
      ]
    },
    {
      "cell_type": "markdown",
      "metadata": {
        "id": "37KPxvP8qo8k"
      },
      "source": [
        "Link: https://www.coursera.org/learn/python-data-analysis/ungradedLab/33VUU/your-personal-jupyter-notebook-workspace"
      ]
    },
    {
      "cell_type": "markdown",
      "metadata": {
        "id": "6SFUe1ztqtRZ"
      },
      "source": [
        "## Week 1 Textbook Reading Assignment"
      ]
    },
    {
      "cell_type": "markdown",
      "metadata": {
        "id": "UOah4Tr7qxo7"
      },
      "source": [
        "Link: https://www.coursera.org/learn/python-data-analysis/supplement/fP74v/week-1-textbook-reading-assignment\n",
        "\n",
        "- Chapter Two: Python Language Basics, IPython, and Jupyter Notebooks\n",
        "- Chapter Three: Built-In Data Structures, Functions, and Files\n",
        "- Chapter 4: NumPy Basics: Arrays and Vectorized Computation\n",
        "- Appendix A: Advanced NumPy (optional)"
      ]
    },
    {
      "cell_type": "markdown",
      "metadata": {
        "id": "GKyux24K1DlK"
      },
      "source": [
        "### Magic Commands"
      ]
    },
    {
      "cell_type": "code",
      "metadata": {
        "colab": {
          "base_uri": "https://localhost:8080/"
        },
        "id": "jjLNwTHHtldG",
        "outputId": "6d4eb9c5-040a-43d8-d3bc-7b3c7f7fb8c4"
      },
      "source": [
        "# Jupyter has magic commands!\n",
        "import numpy as np\n",
        "%timeit a = np.random.randn(100, 100)\n",
        "\n",
        "# magic commands can be assigned to variables\n",
        "foo = %pwd\n",
        "print(f'pwd: {foo}')"
      ],
      "execution_count": null,
      "outputs": [
        {
          "output_type": "stream",
          "text": [
            "The slowest run took 4.05 times longer than the fastest. This could mean that an intermediate result is being cached.\n",
            "1000 loops, best of 5: 420 µs per loop\n",
            "pwd: /content\n"
          ],
          "name": "stdout"
        }
      ]
    },
    {
      "cell_type": "markdown",
      "metadata": {
        "id": "8bt9E3HBu485"
      },
      "source": [
        "- %quickref\n",
        "- %magic\n",
        "- %debug\n",
        "- %hist\n",
        "%pdb\n",
        "%paste\n",
        "%cpaste\n",
        "%reset\n",
        "%page OBJECT %run script.py %prun statement %time statement %timeit statement\n",
        "%who, %who_ls, %whos \n",
        "%xdel variable\n"
      ]
    },
    {
      "cell_type": "code",
      "metadata": {
        "id": "6lIBMyv7zS3L"
      },
      "source": [
        "# May be useful later...\n",
        "%matplotlib inline"
      ],
      "execution_count": null,
      "outputs": []
    },
    {
      "cell_type": "markdown",
      "metadata": {
        "id": "3oUBfY7wzu5v"
      },
      "source": [
        "## 50 years of Data Science, David Donoho (Optional)"
      ]
    },
    {
      "cell_type": "markdown",
      "metadata": {
        "id": "TOEdem4Rzwg_"
      },
      "source": [
        "Link: http://courses.csail.mit.edu/18.337/2015/docs/50YearsDataScience.pdf"
      ]
    },
    {
      "cell_type": "markdown",
      "metadata": {
        "id": "114iW3gD0xA7"
      },
      "source": [
        "## Python Functions"
      ]
    },
    {
      "cell_type": "markdown",
      "metadata": {
        "id": "sChy79Pm00ri"
      },
      "source": [
        "Video: https://www.coursera.org/learn/python-data-analysis/lecture/v7PKy/python-functions\n",
        "\n",
        "High-level, interpretted language. Often used interactively, especially in Jupyter. Dynamically-typed, meaning variables are not declared as a specific type. \n",
        "\n",
        "Jupyter is stateful, meaning it retains values run in previous cells. \n",
        "\n",
        "A function returns None if not specified. "
      ]
    },
    {
      "cell_type": "markdown",
      "metadata": {
        "id": "2IFbtFcj12lN"
      },
      "source": [
        "### Examples Demo'd"
      ]
    },
    {
      "cell_type": "code",
      "metadata": {
        "colab": {
          "base_uri": "https://localhost:8080/"
        },
        "id": "r9nM0nQIz0mZ",
        "outputId": "715c6ada-d1bc-4f5e-e42a-bdc5b8b39fad"
      },
      "source": [
        "x = 1\n",
        "y = 2\n",
        "x + y"
      ],
      "execution_count": null,
      "outputs": [
        {
          "output_type": "execute_result",
          "data": {
            "text/plain": [
              "3"
            ]
          },
          "metadata": {
            "tags": []
          },
          "execution_count": 3
        }
      ]
    },
    {
      "cell_type": "code",
      "metadata": {
        "colab": {
          "base_uri": "https://localhost:8080/"
        },
        "id": "2mW6JhL_1zit",
        "outputId": "a2cad9a6-317e-48dc-f653-ee765b01c472"
      },
      "source": [
        "x"
      ],
      "execution_count": null,
      "outputs": [
        {
          "output_type": "execute_result",
          "data": {
            "text/plain": [
              "1"
            ]
          },
          "metadata": {
            "tags": []
          },
          "execution_count": 4
        }
      ]
    },
    {
      "cell_type": "code",
      "metadata": {
        "colab": {
          "base_uri": "https://localhost:8080/"
        },
        "id": "E2eXkgLK16NF",
        "outputId": "647f06e6-3242-405c-fdfc-b4738fb50b28"
      },
      "source": [
        "# a function, with optional 3rd parameter\n",
        "def add_numbers(x, y, z=None):\n",
        "  if (z == None):\n",
        "    return x + y\n",
        "  else:\n",
        "    return x + y + z\n",
        "\n",
        "print(add_numbers(2, 4, 2))\n",
        "print(add_numbers(2, 4))"
      ],
      "execution_count": null,
      "outputs": [
        {
          "output_type": "stream",
          "text": [
            "8\n",
            "6\n"
          ],
          "name": "stdout"
        }
      ]
    },
    {
      "cell_type": "markdown",
      "metadata": {
        "id": "FKKc2p8G3TOk"
      },
      "source": [
        "## Python Types and Sequences"
      ]
    },
    {
      "cell_type": "markdown",
      "metadata": {
        "id": "XJTJmYo83U8g"
      },
      "source": [
        "Video: https://www.coursera.org/learn/python-data-analysis/lecture/fZ466/python-types-and-sequences\n",
        "\n",
        "`type()` shows which type a variable is\n",
        "\n",
        "Tuple is immutable (cannot be changed). Created with parentheses. \n",
        "\n",
        "Lists are mutable and created with brackets. `append()` lets you add items to the list.\n",
        "\n",
        "Lists and tuples are iterable types, typically using a `for` loop. Can be accessed via an index. Can be accessed via slicing. "
      ]
    },
    {
      "cell_type": "code",
      "metadata": {
        "colab": {
          "base_uri": "https://localhost:8080/"
        },
        "id": "AiQgkFQAjpvc",
        "outputId": "a2b1e2d4-53a1-4d44-822e-0b277fcd8730"
      },
      "source": [
        "x = (1, 'a', 2, 'b')\n",
        "print(type(x))\n",
        "x = [1, 'a', 2, 'b']\n",
        "print(type(x))\n",
        "x.append(3.3)\n",
        "print(x)\n",
        "for item in x:\n",
        "  print(item)\n",
        "print(len(x))\n",
        "print('a' in x)\n",
        "print(x[0], x[0:1], x[0:2], x[:2], x[-2:])"
      ],
      "execution_count": null,
      "outputs": [
        {
          "output_type": "stream",
          "text": [
            "<class 'tuple'>\n",
            "<class 'list'>\n",
            "[1, 'a', 2, 'b', 3.3]\n",
            "1\n",
            "a\n",
            "2\n",
            "b\n",
            "3.3\n",
            "5\n",
            "True\n",
            "1 [1] [1, 'a'] [1, 'a'] ['b', 3.3]\n"
          ],
          "name": "stdout"
        }
      ]
    },
    {
      "cell_type": "markdown",
      "metadata": {
        "id": "lSQoNDBTlA1B"
      },
      "source": [
        "Strings can be split:"
      ]
    },
    {
      "cell_type": "code",
      "metadata": {
        "colab": {
          "base_uri": "https://localhost:8080/"
        },
        "id": "zFGM3AWBlEi_",
        "outputId": "8014fb10-e83a-4b29-d911-1348fe8420da"
      },
      "source": [
        "items = 'A B C D'.split()\n",
        "print(items)"
      ],
      "execution_count": null,
      "outputs": [
        {
          "output_type": "stream",
          "text": [
            "['A', 'B', 'C', 'D']\n"
          ],
          "name": "stdout"
        }
      ]
    },
    {
      "cell_type": "markdown",
      "metadata": {
        "id": "POqQJU3rl2GF"
      },
      "source": [
        "Dictionaries"
      ]
    },
    {
      "cell_type": "code",
      "metadata": {
        "colab": {
          "base_uri": "https://localhost:8080/"
        },
        "id": "nl6prTxVmUd_",
        "outputId": "5f217f83-041f-4872-e861-b937d874cd3e"
      },
      "source": [
        "# example from https://www.w3schools.com/python/python_dictionaries.asp\n",
        "thisdict = {\n",
        "  \"brand\": \"Ford\",\n",
        "  \"model\": \"Mustang\",\n",
        "  \"year\": 1964\n",
        "}\n",
        "for spec, data in thisdict.items():\n",
        "  print(spec, data)"
      ],
      "execution_count": null,
      "outputs": [
        {
          "output_type": "stream",
          "text": [
            "brand Ford\n",
            "model Mustang\n",
            "year 1964\n"
          ],
          "name": "stdout"
        }
      ]
    },
    {
      "cell_type": "code",
      "metadata": {
        "id": "YfKV6qmt2Ohk",
        "colab": {
          "base_uri": "https://localhost:8080/"
        },
        "outputId": "07c26765-55e8-41d4-ab4d-9260a3ff540b"
      },
      "source": [
        "for data in thisdict.values():\n",
        "  print(data)"
      ],
      "execution_count": null,
      "outputs": [
        {
          "output_type": "stream",
          "text": [
            "Ford\n",
            "Mustang\n",
            "1964\n"
          ],
          "name": "stdout"
        }
      ]
    },
    {
      "cell_type": "code",
      "metadata": {
        "colab": {
          "base_uri": "https://localhost:8080/"
        },
        "id": "0sVLhO0mmvDZ",
        "outputId": "4341f395-86fc-40aa-bce5-cb76b70c54ff"
      },
      "source": [
        "for key in thisdict.keys():\n",
        "  print(key)"
      ],
      "execution_count": null,
      "outputs": [
        {
          "output_type": "stream",
          "text": [
            "brand\n",
            "model\n",
            "year\n"
          ],
          "name": "stdout"
        }
      ]
    },
    {
      "cell_type": "markdown",
      "metadata": {
        "id": "m6-V5ObcnRjS"
      },
      "source": [
        "Multiple assignments can be done at once."
      ]
    },
    {
      "cell_type": "code",
      "metadata": {
        "colab": {
          "base_uri": "https://localhost:8080/"
        },
        "id": "rv_24TJgnWLq",
        "outputId": "ff9b5d2e-e831-4ecc-a807-e5582ee33637"
      },
      "source": [
        "a, b, c = 1, \"abc\", [4, 5]\n",
        "print(a)\n",
        "print(b)\n",
        "print(c)"
      ],
      "execution_count": null,
      "outputs": [
        {
          "output_type": "stream",
          "text": [
            "1\n",
            "abc\n",
            "[4, 5]\n"
          ],
          "name": "stdout"
        }
      ]
    },
    {
      "cell_type": "markdown",
      "metadata": {
        "id": "g-A2eM26nqiA"
      },
      "source": [
        "## Python More on Strings"
      ]
    },
    {
      "cell_type": "markdown",
      "metadata": {
        "id": "lK5nkyv7ns4S"
      },
      "source": [
        "Video: https://www.coursera.org/learn/python-data-analysis/lecture/HPh3O/python-more-on-strings\n",
        "\n",
        "Strings are Unicode-based. They used to be based on ASCII which was too limited. UTF solves this problem by allowing over a million characters. \n",
        "\n",
        "Python allows placeholders for variables when concatenating strings. The video covers `format()` but we can now use f-strings."
      ]
    },
    {
      "cell_type": "markdown",
      "metadata": {
        "id": "DMjiolkXo2y9"
      },
      "source": [
        "## Python Demonstration: Reading and Writing CSV files"
      ]
    },
    {
      "cell_type": "markdown",
      "metadata": {
        "id": "WcZBH0hbo4mc"
      },
      "source": [
        "Video: https://www.coursera.org/learn/python-data-analysis/lecture/ktRTE/python-demonstration-reading-and-writing-csv-files\n",
        "\n"
      ]
    },
    {
      "cell_type": "code",
      "metadata": {
        "id": "E6_Hl8WJnrqp"
      },
      "source": [
        "# This block will let you upload a file from your local computer.\n",
        "# Instead, we will clone a GitHub repository, in the next cell.\n",
        "import csv\n",
        "# mpg.csv\n",
        "from google.colab import files\n",
        "# uploaded = files.upload() # Use GitHub clone instead!"
      ],
      "execution_count": null,
      "outputs": []
    },
    {
      "cell_type": "code",
      "metadata": {
        "colab": {
          "base_uri": "https://localhost:8080/"
        },
        "id": "o82sg48uVxsB",
        "outputId": "344d736f-da06-469f-da0e-216111052cce"
      },
      "source": [
        "!git clone https://github.com/pbeens/Coursera-Introduction-to-Data-Science-with-Python.git"
      ],
      "execution_count": null,
      "outputs": [
        {
          "output_type": "stream",
          "text": [
            "Cloning into 'Coursera-Introduction-to-Data-Science-with-Python'...\n",
            "remote: Enumerating objects: 117, done.\u001b[K\n",
            "remote: Counting objects: 100% (117/117), done.\u001b[K\n",
            "remote: Compressing objects: 100% (106/106), done.\u001b[K\n",
            "remote: Total 117 (delta 20), reused 42 (delta 9), pack-reused 0\u001b[K\n",
            "Receiving objects: 100% (117/117), 11.65 MiB | 9.66 MiB/s, done.\n",
            "Resolving deltas: 100% (20/20), done.\n"
          ],
          "name": "stdout"
        }
      ]
    },
    {
      "cell_type": "code",
      "metadata": {
        "colab": {
          "base_uri": "https://localhost:8080/"
        },
        "id": "VQviJymc8ZDF",
        "outputId": "6baf0843-ce03-4817-dab8-d4628aa8e445"
      },
      "source": [
        "# Testing another way to get a file from online\n",
        "import urllib.request\n",
        "url = 'https://gist.githubusercontent.com/pbeens/09530d2a47a926940216b971ecdce369/raw/50f899381a90c94cfd130dc41599fb3d51a2d372/mpg.csv'\n",
        "urllib.request.urlretrieve(url, \"mpg.csv\")"
      ],
      "execution_count": null,
      "outputs": [
        {
          "output_type": "execute_result",
          "data": {
            "text/plain": [
              "('mpg.csv', <http.client.HTTPMessage at 0x7feaa73b7c10>)"
            ]
          },
          "metadata": {
            "tags": []
          },
          "execution_count": 14
        }
      ]
    },
    {
      "cell_type": "code",
      "metadata": {
        "colab": {
          "base_uri": "https://localhost:8080/"
        },
        "id": "U3mQmc-8sia4",
        "outputId": "925c81f6-7296-4021-9120-0d2f7d96174d"
      },
      "source": [
        "import csv\n",
        "\n",
        "# %precision 2 # not working in this cell for some reason\n",
        "mpg_file = '/content/Coursera-Introduction-to-Data-Science-with-Python/resources/datasets/mpg.csv'\n",
        "with open(mpg_file) as csvfile:\n",
        "  mpg = list(csv.DictReader(csvfile))\n",
        "\n",
        "# let's look at the first entry\n",
        "print(mpg[:1])\n",
        "\n",
        "# how many entries?\n",
        "print(len(mpg))\n",
        "\n",
        "# the keys\n",
        "print(mpg[0].keys())\n",
        "\n",
        "# avg mpg, city and highway\n",
        "cty_mpg_avg = sum(float(d['cty']) for d in mpg) / len(mpg) # uses list comprehension\n",
        "print(f'{cty_mpg_avg:.2f}') # Note: %precision 2 did not work \n",
        "hwy_mpg_avg = sum(float(d['hwy']) for d in mpg) / len(mpg) # uses list comprehension\n",
        "print(f'{hwy_mpg_avg:.2f}')\n",
        "\n",
        "# cylinder mpg study\n",
        "cylinders = set(d['cyl'] for d in mpg) # create set of # of cylinders\n",
        "print(cylinders)\n",
        "\n",
        "cty_mpg_by_cyl = []\n",
        "for c in cylinders:\n",
        "  sum_mpg = 0\n",
        "  cyl_type_count = 0\n",
        "  for d in mpg:\n",
        "    if d['cyl'] == c:\n",
        "      sum_mpg += float(d['cty'])\n",
        "      cyl_type_count += 1\n",
        "  cty_mpg_by_cyl.append((c, round(sum_mpg / cyl_type_count, 2)))\n",
        "print(sorted(cty_mpg_by_cyl))\n",
        "\n",
        "# vehicle class study\n",
        "vehicle_classes = set(d['class'] for d in mpg)\n",
        "print(vehicle_classes)\n",
        "\n",
        "hwy_mpg_by_class = []\n",
        "for vc in vehicle_classes:\n",
        "  sum_mpg = 0\n",
        "  vehicle_class_count = 0\n",
        "  for d in mpg:\n",
        "    if d['class'] == vc:\n",
        "      sum_mpg += float(d['hwy'])\n",
        "      vehicle_class_count += 1\n",
        "  hwy_mpg_by_class.append((vc, round(sum_mpg / vehicle_class_count)))\n",
        "print(sorted(hwy_mpg_by_class))\n"
      ],
      "execution_count": null,
      "outputs": [
        {
          "output_type": "stream",
          "text": [
            "[OrderedDict([('', '1'), ('manufacturer', 'audi'), ('model', 'a4'), ('displ', '1.8'), ('year', '1999'), ('cyl', '4'), ('trans', 'auto(l5)'), ('drv', 'f'), ('cty', '18'), ('hwy', '29'), ('fl', 'p'), ('class', 'compact')])]\n",
            "234\n",
            "odict_keys(['', 'manufacturer', 'model', 'displ', 'year', 'cyl', 'trans', 'drv', 'cty', 'hwy', 'fl', 'class'])\n",
            "16.86\n",
            "23.44\n",
            "{'8', '4', '5', '6'}\n",
            "[('4', 21.01), ('5', 20.5), ('6', 16.22), ('8', 12.57)]\n",
            "{'midsize', 'minivan', 'compact', '2seater', 'pickup', 'subcompact', 'suv'}\n",
            "[('2seater', 25), ('compact', 28), ('midsize', 27), ('minivan', 22), ('pickup', 17), ('subcompact', 28), ('suv', 18)]\n"
          ],
          "name": "stdout"
        }
      ]
    },
    {
      "cell_type": "markdown",
      "metadata": {
        "id": "uo67Qfw3o_MX"
      },
      "source": [
        "## Python Dates and Times"
      ]
    },
    {
      "cell_type": "markdown",
      "metadata": {
        "id": "j9f8XJWzpA5T"
      },
      "source": [
        "Video: https://www.coursera.org/learn/python-data-analysis/lecture/Fpybh/python-dates-and-times\n",
        "\n",
        "Dates and times can be stored in many different days. Some use epoch as a date reference (January 1, 1970). In Python, you can use the time module. "
      ]
    },
    {
      "cell_type": "code",
      "metadata": {
        "id": "TSeABkbXp71u"
      },
      "source": [
        "import datetime as dt\n",
        "import time as tm"
      ],
      "execution_count": null,
      "outputs": []
    },
    {
      "cell_type": "code",
      "metadata": {
        "colab": {
          "base_uri": "https://localhost:8080/"
        },
        "id": "PwiHyaBNqnSu",
        "outputId": "42c9b67b-c2bc-426d-caba-2b1f5a292cfd"
      },
      "source": [
        "tm.time()"
      ],
      "execution_count": null,
      "outputs": [
        {
          "output_type": "execute_result",
          "data": {
            "text/plain": [
              "1615858130.658152"
            ]
          },
          "metadata": {
            "tags": []
          },
          "execution_count": 17
        }
      ]
    },
    {
      "cell_type": "code",
      "metadata": {
        "colab": {
          "base_uri": "https://localhost:8080/"
        },
        "id": "XIrGfhHBqpth",
        "outputId": "259dd437-c9a0-494e-9eee-77dde762da5f"
      },
      "source": [
        "# today's date (appears to be UTC)\n",
        "dtnow = dt.datetime.fromtimestamp(tm.time())\n",
        "print(dtnow)"
      ],
      "execution_count": null,
      "outputs": [
        {
          "output_type": "stream",
          "text": [
            "2021-03-16 01:28:50.677854\n"
          ],
          "name": "stdout"
        }
      ]
    },
    {
      "cell_type": "code",
      "metadata": {
        "colab": {
          "base_uri": "https://localhost:8080/"
        },
        "id": "UwWk8Mvoq8Gq",
        "outputId": "2dc77848-3af3-4f95-f19e-188dc87ad36e"
      },
      "source": [
        "# year, month, etc.\n",
        "print(dtnow.year, dtnow.month, dtnow.day, dtnow.hour, dtnow.minute, dtnow.second)"
      ],
      "execution_count": null,
      "outputs": [
        {
          "output_type": "stream",
          "text": [
            "2021 3 16 1 28 50\n"
          ],
          "name": "stdout"
        }
      ]
    },
    {
      "cell_type": "code",
      "metadata": {
        "colab": {
          "base_uri": "https://localhost:8080/"
        },
        "id": "j-3XHl4wrSK7",
        "outputId": "5b070a79-8307-445d-b2db-b49588f675f7"
      },
      "source": [
        "# time shifts\n",
        "delta = dt.timedelta(days=100)\n",
        "print(delta)\n",
        "\n",
        "today = dt.date.today()\n",
        "print(today + delta)"
      ],
      "execution_count": null,
      "outputs": [
        {
          "output_type": "stream",
          "text": [
            "100 days, 0:00:00\n",
            "2021-06-24\n"
          ],
          "name": "stdout"
        }
      ]
    },
    {
      "cell_type": "code",
      "metadata": {
        "colab": {
          "base_uri": "https://localhost:8080/"
        },
        "id": "NLmoeBXcr5IL",
        "outputId": "e910405a-43f9-4c01-99f3-80adc699fbd1"
      },
      "source": [
        "print(today > today-delta)"
      ],
      "execution_count": null,
      "outputs": [
        {
          "output_type": "stream",
          "text": [
            "True\n"
          ],
          "name": "stdout"
        }
      ]
    },
    {
      "cell_type": "markdown",
      "metadata": {
        "id": "dx3XhrXSs-9j"
      },
      "source": [
        "## Advanced Python Objects, map()"
      ]
    },
    {
      "cell_type": "markdown",
      "metadata": {
        "id": "I-h1djrftBH2"
      },
      "source": [
        "Video: https://www.coursera.org/learn/python-data-analysis/lecture/PeW28/advanced-python-objects-map"
      ]
    },
    {
      "cell_type": "code",
      "metadata": {
        "colab": {
          "base_uri": "https://localhost:8080/"
        },
        "id": "QRozzWqZuTGB",
        "outputId": "00b54245-3b1e-49d7-f0dc-a286ddb95e8d"
      },
      "source": [
        "class Person:\n",
        "  department = 'School of Information'\n",
        "\n",
        "  def set_name(self, new_name):\n",
        "    self.name = new_name\n",
        "  def set_location(self, new_location):\n",
        "    self.location = new_location\n",
        "\n",
        "peter = Person()\n",
        "peter.set_name = 'Peter'\n",
        "peter.set_location = 'Canada'\n",
        "print(peter.set_name, peter.set_location)"
      ],
      "execution_count": null,
      "outputs": [
        {
          "output_type": "stream",
          "text": [
            "Peter Canada\n"
          ],
          "name": "stdout"
        }
      ]
    },
    {
      "cell_type": "markdown",
      "metadata": {
        "id": "H8Ker4sQvJgn"
      },
      "source": [
        "## Advanced Python Lambda and List Comprehensions"
      ]
    },
    {
      "cell_type": "markdown",
      "metadata": {
        "id": "FtJcpIvgvLkk"
      },
      "source": [
        "Video: https://www.coursera.org/learn/python-data-analysis/lecture/AVjRT/advanced-python-lambda-and-list-comprehensions\n",
        "\n",
        "Lambdas are used to create a temporary function."
      ]
    },
    {
      "cell_type": "code",
      "metadata": {
        "colab": {
          "base_uri": "https://localhost:8080/"
        },
        "id": "EwTMpBKXvQWW",
        "outputId": "744681df-0fd2-46e2-d89d-4740b91bbace"
      },
      "source": [
        "my_function = lambda a, b, c : (a + b) ** c\n",
        "my_function(1, 2, 3)"
      ],
      "execution_count": null,
      "outputs": [
        {
          "output_type": "execute_result",
          "data": {
            "text/plain": [
              "27"
            ]
          },
          "metadata": {
            "tags": []
          },
          "execution_count": 23
        }
      ]
    },
    {
      "cell_type": "markdown",
      "metadata": {
        "id": "c6pMtzeHzWYZ"
      },
      "source": [
        "List comprehensions are an abbreviated method to created an iterable list. Are created on one line. LCs can include conditonal statements."
      ]
    },
    {
      "cell_type": "code",
      "metadata": {
        "colab": {
          "base_uri": "https://localhost:8080/"
        },
        "id": "zRRH7ly0zaJh",
        "outputId": "312bd561-e14d-4570-e875-ca80450906ec"
      },
      "source": [
        "# conventional way\n",
        "my_list = []\n",
        "for num in range(20):\n",
        "  if num % 2 == 0:\n",
        "    my_list.append(num)\n",
        "print(my_list)\n",
        "\n",
        "# list comprehension way\n",
        "print([n for n in range(20) if n % 2 == 0])"
      ],
      "execution_count": null,
      "outputs": [
        {
          "output_type": "stream",
          "text": [
            "[0, 2, 4, 6, 8, 10, 12, 14, 16, 18]\n",
            "[0, 2, 4, 6, 8, 10, 12, 14, 16, 18]\n"
          ],
          "name": "stdout"
        }
      ]
    },
    {
      "cell_type": "markdown",
      "metadata": {
        "id": "AzAEylVB1czn"
      },
      "source": [
        "## Numerical Python Library (NumPy)"
      ]
    },
    {
      "cell_type": "markdown",
      "metadata": {
        "id": "8fy8inXE1gcS"
      },
      "source": [
        "Video: https://www.coursera.org/learn/python-data-analysis/lecture/kAQc1/numerical-python-library-numpy\n",
        "\n"
      ]
    },
    {
      "cell_type": "code",
      "metadata": {
        "id": "faHKleti1bsn"
      },
      "source": [
        "import numpy as np\n",
        "import math"
      ],
      "execution_count": null,
      "outputs": []
    },
    {
      "cell_type": "code",
      "metadata": {
        "colab": {
          "base_uri": "https://localhost:8080/"
        },
        "id": "hi-3yuaM2Ccg",
        "outputId": "521aae17-d5b5-4976-c2b2-c4aa4393fbc3"
      },
      "source": [
        "a = np.array([1, 2, 3])\n",
        "print(a)\n",
        "print(a.ndim) # number of dimensions"
      ],
      "execution_count": null,
      "outputs": [
        {
          "output_type": "stream",
          "text": [
            "[1 2 3]\n",
            "1\n"
          ],
          "name": "stdout"
        }
      ]
    },
    {
      "cell_type": "code",
      "metadata": {
        "colab": {
          "base_uri": "https://localhost:8080/"
        },
        "id": "bLvGauIq2fZc",
        "outputId": "6ddc2087-4821-4c6c-fcb3-8109795dc11c"
      },
      "source": [
        "b = np.array([[1,2,3], [4,5,6]])\n",
        "print(b)"
      ],
      "execution_count": null,
      "outputs": [
        {
          "output_type": "stream",
          "text": [
            "[[1 2 3]\n",
            " [4 5 6]]\n"
          ],
          "name": "stdout"
        }
      ]
    },
    {
      "cell_type": "code",
      "metadata": {
        "colab": {
          "base_uri": "https://localhost:8080/"
        },
        "id": "tEo-06knWgFF",
        "outputId": "28e5a176-5b84-4d41-9423-25d6e0e3e720"
      },
      "source": [
        "print(b.shape) # length of each dimension"
      ],
      "execution_count": null,
      "outputs": [
        {
          "output_type": "stream",
          "text": [
            "(2, 3)\n"
          ],
          "name": "stdout"
        }
      ]
    },
    {
      "cell_type": "code",
      "metadata": {
        "colab": {
          "base_uri": "https://localhost:8080/"
        },
        "id": "rNvaVHX-Wns9",
        "outputId": "910590cc-46af-469a-d85b-ad379d644ca4"
      },
      "source": [
        "print(b.dtype) # what types of variables"
      ],
      "execution_count": null,
      "outputs": [
        {
          "output_type": "stream",
          "text": [
            "int64\n"
          ],
          "name": "stdout"
        }
      ]
    },
    {
      "cell_type": "code",
      "metadata": {
        "colab": {
          "base_uri": "https://localhost:8080/"
        },
        "id": "zpCSlCU_Wrf-",
        "outputId": "e4eb783c-925f-465a-be17-94a07e8ef277"
      },
      "source": [
        "# also floats\n",
        "c = np.array([2.2, 5, 1.1])\n",
        "print(c.dtype.name) # same o/p as w/o .name?"
      ],
      "execution_count": null,
      "outputs": [
        {
          "output_type": "stream",
          "text": [
            "float64\n"
          ],
          "name": "stdout"
        }
      ]
    },
    {
      "cell_type": "code",
      "metadata": {
        "colab": {
          "base_uri": "https://localhost:8080/"
        },
        "id": "oWuwBv4UXJxr",
        "outputId": "cc8edaed-5e98-49d0-d636-aae40601ee8e"
      },
      "source": [
        "# create according to shape\n",
        "d = np.zeros((2,3)) # must pass a tuple\n",
        "print(d)\n",
        "e = np.ones((2,3))\n",
        "print(e)\n",
        "f = np.random.rand(2,3) # not a tuple! \n",
        "print(f)\n",
        "print(type(f))"
      ],
      "execution_count": null,
      "outputs": [
        {
          "output_type": "stream",
          "text": [
            "[[0. 0. 0.]\n",
            " [0. 0. 0.]]\n",
            "[[1. 1. 1.]\n",
            " [1. 1. 1.]]\n",
            "[[0.15500822 0.30187491 0.77534023]\n",
            " [0.55720858 0.22989877 0.53152582]]\n",
            "<class 'numpy.ndarray'>\n"
          ],
          "name": "stdout"
        }
      ]
    },
    {
      "cell_type": "code",
      "metadata": {
        "colab": {
          "base_uri": "https://localhost:8080/"
        },
        "id": "xH3gnpRsXhWW",
        "outputId": "bb72a0d6-338e-4599-a534-9d6890068ce6"
      },
      "source": [
        "# range of integers\n",
        "f = np.arange(10, 20, 2) # 2nd parm is exclusive\n",
        "print(f)\n",
        "print(type(f))"
      ],
      "execution_count": null,
      "outputs": [
        {
          "output_type": "stream",
          "text": [
            "[10 12 14 16 18]\n",
            "<class 'numpy.ndarray'>\n"
          ],
          "name": "stdout"
        }
      ]
    },
    {
      "cell_type": "code",
      "metadata": {
        "colab": {
          "base_uri": "https://localhost:8080/"
        },
        "id": "qjOrQqWld-P1",
        "outputId": "3ff761fb-b82a-459d-df26-0cb7a2f9a85f"
      },
      "source": [
        "# a range of floats\n",
        "np.linspace(0, 2, 15) # 15 numbers from 0 to 2"
      ],
      "execution_count": null,
      "outputs": [
        {
          "output_type": "execute_result",
          "data": {
            "text/plain": [
              "array([0.        , 0.14285714, 0.28571429, 0.42857143, 0.57142857,\n",
              "       0.71428571, 0.85714286, 1.        , 1.14285714, 1.28571429,\n",
              "       1.42857143, 1.57142857, 1.71428571, 1.85714286, 2.        ])"
            ]
          },
          "metadata": {
            "tags": []
          },
          "execution_count": 33
        }
      ]
    },
    {
      "cell_type": "code",
      "metadata": {
        "colab": {
          "base_uri": "https://localhost:8080/"
        },
        "id": "5K6PDEGdeYba",
        "outputId": "47095760-8f40-41f4-9dfe-490989f98038"
      },
      "source": [
        "# Array Operations\n",
        "\n",
        "a = np.array([10,20,30,40])\n",
        "b = np.array([1,2,3,4])\n",
        "\n",
        "c = a + b\n",
        "print(c)\n",
        "d = a * b\n",
        "print(d)"
      ],
      "execution_count": null,
      "outputs": [
        {
          "output_type": "stream",
          "text": [
            "[11 22 33 44]\n",
            "[ 10  40  90 160]\n"
          ],
          "name": "stdout"
        }
      ]
    },
    {
      "cell_type": "code",
      "metadata": {
        "colab": {
          "base_uri": "https://localhost:8080/"
        },
        "id": "g-dD8Ddzc9rQ",
        "outputId": "63be6d08-cc74-4070-9ea5-6eacd5958105"
      },
      "source": [
        "deg_f = np.array([0,-10,-5,-15,0])\n",
        "deg_c = (deg_f -32) * (5/9)\n",
        "%precision 2\n",
        "print(deg_c)"
      ],
      "execution_count": null,
      "outputs": [
        {
          "output_type": "stream",
          "text": [
            "[-17.78 -23.33 -20.56 -26.11 -17.78]\n"
          ],
          "name": "stdout"
        }
      ]
    },
    {
      "cell_type": "code",
      "metadata": {
        "colab": {
          "base_uri": "https://localhost:8080/"
        },
        "id": "X8mjCcubhbeD",
        "outputId": "1669f334-15fa-4acf-c92f-8bd82f45e2f9"
      },
      "source": [
        "# Boolean expressions on NP arrays\n",
        "deg_c > -20"
      ],
      "execution_count": null,
      "outputs": [
        {
          "output_type": "execute_result",
          "data": {
            "text/plain": [
              "array([ True, False, False, False,  True])"
            ]
          },
          "metadata": {
            "tags": []
          },
          "execution_count": 36
        }
      ]
    },
    {
      "cell_type": "code",
      "metadata": {
        "colab": {
          "base_uri": "https://localhost:8080/"
        },
        "id": "gcVBGGX0exiZ",
        "outputId": "cef4038c-97af-4f0c-95a0-d721ab1183dd"
      },
      "source": [
        "# Matrix Manipulation\n",
        "A = np.array([[1,1],[0,1]]) \n",
        "B = np.array([[2,0],[3,4]])\n",
        "print(A * B)\n",
        "# Matrix Product - Note the '@'\n",
        "print(A@B)"
      ],
      "execution_count": null,
      "outputs": [
        {
          "output_type": "stream",
          "text": [
            "[[2 0]\n",
            " [0 4]]\n",
            "[[5 4]\n",
            " [3 4]]\n"
          ],
          "name": "stdout"
        }
      ]
    },
    {
      "cell_type": "code",
      "metadata": {
        "id": "T9TvwYZKi7Eo"
      },
      "source": [
        "# Video completed to 8:07 only"
      ],
      "execution_count": null,
      "outputs": []
    },
    {
      "cell_type": "markdown",
      "metadata": {
        "id": "ErziVvfZjH7C"
      },
      "source": [
        "## Manipulating Text with Regular Expression"
      ]
    },
    {
      "cell_type": "markdown",
      "metadata": {
        "id": "lUBCSVc_jJ2M"
      },
      "source": [
        "Video: https://www.coursera.org/learn/python-data-analysis/lecture/aSuH7/manipulating-text-with-regular-expression\n",
        "\n",
        "AKA Regex. Pattern matching. Returns chunks of text. Why use? To check if pattern exists, or return instances of text, or clean up data. "
      ]
    },
    {
      "cell_type": "code",
      "metadata": {
        "id": "c-gXUKVyjlbg"
      },
      "source": [
        "import re\n",
        "\n",
        "# match() returns a boolean"
      ],
      "execution_count": null,
      "outputs": []
    },
    {
      "cell_type": "markdown",
      "metadata": {
        "id": "fFJpx0aSrznl"
      },
      "source": [
        "### re.search()"
      ]
    },
    {
      "cell_type": "code",
      "metadata": {
        "colab": {
          "base_uri": "https://localhost:8080/"
        },
        "id": "oJJeRcTCh3Bz",
        "outputId": "ccf4983f-ee15-428d-9a2b-eadd1c86a25d"
      },
      "source": [
        "# search returns a boolean\n",
        "\n",
        "text = 'This is a good day'\n",
        "if re.search('good', text):\n",
        "  print('Wonderful!')\n",
        "else:\n",
        "  print('Alas :(')"
      ],
      "execution_count": null,
      "outputs": [
        {
          "output_type": "stream",
          "text": [
            "Wonderful!\n"
          ],
          "name": "stdout"
        }
      ]
    },
    {
      "cell_type": "markdown",
      "metadata": {
        "id": "7mSQXiuzr6rM"
      },
      "source": [
        "### findall() and split()"
      ]
    },
    {
      "cell_type": "code",
      "metadata": {
        "colab": {
          "base_uri": "https://localhost:8080/"
        },
        "id": "oQPfbHilh6-j",
        "outputId": "4783dc02-c3ef-48af-c96c-2ea72143bfc0"
      },
      "source": [
        "# findall() and split() return chunks\n",
        "\n",
        "text = 'Amy works diligently. Amy gets good grades. Our student Amy is successful'\n",
        "print(re.split('Amy', text)) # returns chunks split on 'Amy'\n",
        "print(re.findall('Amy', text))\n",
        "print(len(re.findall('Amy', text))) # number of occurrences"
      ],
      "execution_count": null,
      "outputs": [
        {
          "output_type": "stream",
          "text": [
            "['', ' works diligently. ', ' gets good grades. Our student ', ' is successful']\n",
            "['Amy', 'Amy', 'Amy']\n",
            "3\n"
          ],
          "name": "stdout"
        }
      ]
    },
    {
      "cell_type": "markdown",
      "metadata": {
        "id": "LObb845esGUE"
      },
      "source": [
        "### Anchors"
      ]
    },
    {
      "cell_type": "code",
      "metadata": {
        "colab": {
          "base_uri": "https://localhost:8080/"
        },
        "id": "ixf9g5q-iBOx",
        "outputId": "ab36120b-787d-484a-9839-fbf7878609bd"
      },
      "source": [
        "# Anchors, ^ = at start, $ = at end\n",
        "\n",
        "print(re.search('^Amy', text)) # returns a re object"
      ],
      "execution_count": null,
      "outputs": [
        {
          "output_type": "stream",
          "text": [
            "<re.Match object; span=(0, 3), match='Amy'>\n"
          ],
          "name": "stdout"
        }
      ]
    },
    {
      "cell_type": "markdown",
      "metadata": {
        "id": "wFOogQ7ksK3y"
      },
      "source": [
        "### Patterns and Character Classes"
      ]
    },
    {
      "cell_type": "code",
      "metadata": {
        "colab": {
          "base_uri": "https://localhost:8080/"
        },
        "id": "L4xFbl9hiIaD",
        "outputId": "434ab851-774f-46ff-d0b8-228795e5f17b"
      },
      "source": [
        "# Patterns and Character Classes\n",
        "\n",
        "grades = 'ACAAAABCBCBAA'\n",
        "\n",
        "print(re.findall('B', grades)) # ['B', 'B', 'B']\n",
        "\n",
        "# [] are used for options (or)\n",
        "\n",
        "print(re.findall('[BC]', grades)) # ['C', 'B', 'C', 'B', 'C', 'B']\n",
        "\n",
        "print(re.findall('[A][BC]', grades)) # ['AC', 'AB']\n",
        "print(re.findall('[A][B-C]', grades)) # [B-C] is the range from B-C\n",
        "\n",
        "# | = OR\n",
        "\n",
        "print(re.findall('BC|BA', grades)) # ['BC', 'BC', 'BA']\n",
        "\n",
        "# A carat can be used to negate inside of a set operator\n",
        "\n",
        "print(re.findall('[^A]', grades)) # ['C', 'B', 'C', 'B', 'C', 'B']\n",
        "print(re.findall('^[^A]', grades)) # produces [] empty list (starts with A)"
      ],
      "execution_count": null,
      "outputs": [
        {
          "output_type": "stream",
          "text": [
            "['B', 'B', 'B']\n",
            "['C', 'B', 'C', 'B', 'C', 'B']\n",
            "['AC', 'AB']\n",
            "['AC', 'AB']\n",
            "['BC', 'BC', 'BA']\n",
            "['C', 'B', 'C', 'B', 'C', 'B']\n",
            "[]\n"
          ],
          "name": "stdout"
        }
      ]
    },
    {
      "cell_type": "markdown",
      "metadata": {
        "id": "fjCMVhZ-sQEk"
      },
      "source": [
        "### Quantifiers"
      ]
    },
    {
      "cell_type": "code",
      "metadata": {
        "colab": {
          "base_uri": "https://localhost:8080/"
        },
        "id": "ZgqXppDviS3U",
        "outputId": "add2cfe4-01b1-45ee-c7d4-e56ae4486b87"
      },
      "source": [
        "import re\n",
        "\n",
        "# Quantifiers - number of times e{m,n} e=expression, m=minTimes, n=MaxTimes \n",
        "\n",
        "grades = 'ACAAAABCBCBAA'\n",
        "\n",
        "# streaks of a character\n",
        "print(re.findall('A{2,10}', grades)) # between 2 and 10 A's = ['AAAA', 'AA']\n",
        "print(re.findall('A{1,1}A{1,1}', grades)) # ['AA', 'AA', 'AA']\n",
        "\n",
        "# regex \"consumes\" strings (i.e., characters are not reused)\n",
        "\n",
        "# watching extra space!\n",
        "print(re.findall('A{2,2}', grades)) # ['AA', 'AA', 'AA']\n",
        "print(re.findall('A{2, 2}', grades)) # []\n",
        "\n",
        "# one number in braces is considered min and max\n",
        "\n",
        "print(re.findall('A{2}', grades)) # ['AA', 'AA', 'AA']\n",
        "\n",
        "# * = 0 times\n",
        "# ? = one or more times\n",
        "# + = one or more times\n",
        "# \\w = any pattern of number or character\n",
        "# \\s = any whitespace\n",
        "\n",
        "# remember to re-read in GitHub repository\n",
        "ferpa = '/content/Coursera-Introduction-to-Data-Science-with-Python/resources/week-1/datasets/ferpa.txt'\n",
        "with open(ferpa) as file:\n",
        "  wiki = file.read()\n",
        "\n",
        "# headers in this article look like this: Overview[edit]\n",
        "\n",
        "# -> ['Overview[edit]', 'records[edit]', 'records[edit]']\n",
        "# note that brackets must be escaped\n",
        "print(re.findall('[a-z|A-Z]{1,100}\\[edit\\]', wiki))\n",
        "\n",
        "# equivalent of previous example (with \\w) Note: [\\w] = [a-z|A-Z] \n",
        "print(re.findall('[\\w]{1,100}\\[edit\\]', wiki))\n",
        "\n",
        "# equivalent again! (with *)\n",
        "print(re.findall('[\\w]*\\[edit\\]', wiki))\n",
        "\n",
        "# now let's include spaces to get entire headers\n",
        "print(re.findall('[\\w ]*\\[edit\\]', wiki)) # ['Overview[edit]', 'Access to public records[edit]', 'Student medical records[edit]']\n",
        "\n",
        "# Let's extract the titles, splitting on the '[' at the beginning of [edit]\n",
        "print('=== Titles ===')\n",
        "for title in re.findall('[\\w ]*\\[edit\\]', wiki):\n",
        "  print(re.split('[\\[]', title)[0])"
      ],
      "execution_count": null,
      "outputs": [
        {
          "output_type": "stream",
          "text": [
            "['AAAA', 'AA']\n",
            "['AA', 'AA', 'AA']\n",
            "['AA', 'AA', 'AA']\n",
            "[]\n",
            "['AA', 'AA', 'AA']\n",
            "['Overview[edit]', 'records[edit]', 'records[edit]']\n",
            "['Overview[edit]', 'records[edit]', 'records[edit]']\n",
            "['Overview[edit]', 'records[edit]', 'records[edit]']\n",
            "['Overview[edit]', 'Access to public records[edit]', 'Student medical records[edit]']\n",
            "=== Titles ===\n",
            "Overview\n",
            "Access to public records\n",
            "Student medical records\n"
          ],
          "name": "stdout"
        }
      ]
    },
    {
      "cell_type": "markdown",
      "metadata": {
        "id": "4dogZ2AGsWbJ"
      },
      "source": [
        "### Groups"
      ]
    },
    {
      "cell_type": "code",
      "metadata": {
        "colab": {
          "base_uri": "https://localhost:8080/"
        },
        "id": "J5m-GkokRKDm",
        "outputId": "0211f60a-2230-4c36-ccf6-983001993de0"
      },
      "source": [
        "# Groups\n",
        "\n",
        "# Let's improve upone the previous example by creating groups (in parentheses)\n",
        "# item.groups() returns a tuple of each group item\n",
        "# group(0) is the entire item, group(1) is first, etc.\n",
        "\n",
        "print('=== Old way ===')\n",
        "print(re.findall('[\\w ]*\\[edit\\]', wiki))\n",
        "\n",
        "print('=== item.groups() ===')\n",
        "for item in re.finditer('([\\w ]*)(\\[edit\\])', wiki):\n",
        "  print(item.groups())\n",
        "\n",
        "print('=== item.group(1) ===')\n",
        "for item in re.finditer('([\\w ]*)(\\[edit\\])', wiki):\n",
        "  print(item.group(1))\n",
        "\n",
        "# groups can be named with ?P<name> and use of groupdict()[]\n",
        "\n",
        "print('=== named with ?P<name> ===')\n",
        "for item in re.finditer('(?P<title>[\\w ]*)(?P<edit_link>\\[edit\\])', wiki):\n",
        "  print(item.groupdict()['title'])\n",
        "\n",
        "print('=== groupdict() ===')\n",
        "for item in re.finditer('(?P<title>[\\w ]*)(?P<edit_link>\\[edit\\])', wiki):\n",
        "  print(item.groupdict())\n",
        "\n",
        "# . = single character\n",
        "# /d = digit\n",
        "# /s = white space"
      ],
      "execution_count": null,
      "outputs": [
        {
          "output_type": "stream",
          "text": [
            "=== Old way ===\n",
            "['Overview[edit]', 'Access to public records[edit]', 'Student medical records[edit]']\n",
            "=== item.groups() ===\n",
            "('Overview', '[edit]')\n",
            "('Access to public records', '[edit]')\n",
            "('Student medical records', '[edit]')\n",
            "=== item.group(1) ===\n",
            "Overview\n",
            "Access to public records\n",
            "Student medical records\n",
            "=== named with ?P<name> ===\n",
            "Overview\n",
            "Access to public records\n",
            "Student medical records\n",
            "=== groupdict() ===\n",
            "{'title': 'Overview', 'edit_link': '[edit]'}\n",
            "{'title': 'Access to public records', 'edit_link': '[edit]'}\n",
            "{'title': 'Student medical records', 'edit_link': '[edit]'}\n"
          ],
          "name": "stdout"
        }
      ]
    },
    {
      "cell_type": "markdown",
      "metadata": {
        "id": "wQqsOpSesbcU"
      },
      "source": [
        "### Look-ahead and Look-behind (stuff to ignore)"
      ]
    },
    {
      "cell_type": "code",
      "metadata": {
        "colab": {
          "base_uri": "https://localhost:8080/"
        },
        "id": "EKyWCFSAkERi",
        "outputId": "b77ef0db-773f-4e41-cd35-fd7636414197"
      },
      "source": [
        "# Look-ahead and Look-behind with ?=\n",
        "# This example ignores [edit]\n",
        "\n",
        "for item in re.finditer('(?P<title>[\\w ]+)(?=\\[edit\\])', wiki):\n",
        "  print(item)"
      ],
      "execution_count": null,
      "outputs": [
        {
          "output_type": "stream",
          "text": [
            "<re.Match object; span=(0, 8), match='Overview'>\n",
            "<re.Match object; span=(2715, 2739), match='Access to public records'>\n",
            "<re.Match object; span=(3692, 3715), match='Student medical records'>\n"
          ],
          "name": "stdout"
        }
      ]
    },
    {
      "cell_type": "markdown",
      "metadata": {
        "id": "3Rtr_LrisgGl"
      },
      "source": [
        "### Example : Wikipedia Data"
      ]
    },
    {
      "cell_type": "code",
      "metadata": {
        "colab": {
          "base_uri": "https://localhost:8080/"
        },
        "id": "IkXtAjywl093",
        "outputId": "23c0a947-e8b2-4753-a7e7-fcd8527ec8cc"
      },
      "source": [
        "# Example : Wikipedia Data\n",
        "\n",
        "import re\n",
        "\n",
        "file = '/content/Coursera-Introduction-to-Data-Science-with-Python/resources/week-1/datasets/buddhist.txt'\n",
        "with open(file) as f:\n",
        "  wiki = f.read()\n",
        "\n",
        "# print(wiki[:1000])\n",
        "\n",
        "pattern = \"\"\"\n",
        "(?P<title>.*)       # the university title\n",
        "(–\\ located\\ in\\ )  # an indicator of the location (Note: copy correct dash type!)\n",
        "(?P<city>\\w*)       # city the university is in\n",
        "(,\\ )               # separator for the state\n",
        "(?P<state>\\w*)      # the state the university is located in\n",
        "\"\"\"\n",
        "\n",
        "print('=== re.finditer(pattern, wiki, re.VERBOSE) ===')\n",
        "for item in re.finditer(pattern, wiki, re.VERBOSE):\n",
        "  print(item.groupdict())"
      ],
      "execution_count": null,
      "outputs": [
        {
          "output_type": "stream",
          "text": [
            "=== re.finditer(pattern, wiki, re.VERBOSE) ===\n",
            "{'title': 'Dhammakaya Open University ', 'city': 'Azusa', 'state': 'California'}\n",
            "{'title': 'Dharmakirti College ', 'city': 'Tucson', 'state': 'Arizona'}\n",
            "{'title': 'Dharma Realm Buddhist University ', 'city': 'Ukiah', 'state': 'California'}\n",
            "{'title': 'Ewam Buddhist Institute ', 'city': 'Arlee', 'state': 'Montana'}\n",
            "{'title': 'Institute of Buddhist Studies ', 'city': 'Berkeley', 'state': 'California'}\n",
            "{'title': 'Maitripa College ', 'city': 'Portland', 'state': 'Oregon'}\n",
            "{'title': 'University of the West ', 'city': 'Rosemead', 'state': 'California'}\n",
            "{'title': 'Won Institute of Graduate Studies ', 'city': 'Glenside', 'state': 'Pennsylvania'}\n"
          ],
          "name": "stdout"
        }
      ]
    },
    {
      "cell_type": "markdown",
      "metadata": {
        "id": "s4c0oAGaWwXQ"
      },
      "source": [
        "### Example: New York Times and Hashtags"
      ]
    },
    {
      "cell_type": "code",
      "metadata": {
        "colab": {
          "base_uri": "https://localhost:8080/"
        },
        "id": "o0QbkHmxqgVY",
        "outputId": "02eb5351-dc8f-496d-f6fd-dee4656c563a"
      },
      "source": [
        "# Example: New York Times and Hashtags\n",
        "\n",
        "file = '/content/Coursera-Introduction-to-Data-Science-with-Python/resources/week-1/datasets/nytimeshealth.txt'\n",
        "with open(file) as f:\n",
        "  health = f.read()\n",
        "\n",
        "print('=== health[:500] ===')\n",
        "print(health[:500])\n",
        "\n",
        "# let's grab hashtags\n",
        "\n",
        "pattern = '#[\\w\\d]*(?=\\s)'\n",
        "\n",
        "print(re.findall(pattern, health))\n",
        "print(set(re.findall(pattern, health))) # get rid of dupes\n"
      ],
      "execution_count": null,
      "outputs": [
        {
          "output_type": "stream",
          "text": [
            "=== health[:500] ===\n",
            "548662191340421120|Sat Dec 27 02:10:34 +0000 2014|Risks in Using Social Media to Spot Signs of Mental Distress http://nyti.ms/1rqi9I1\n",
            "548579831169163265|Fri Dec 26 20:43:18 +0000 2014|RT @paula_span: The most effective nationwide diabetes prevention program you've probably never heard of:  http://newoldage.blogs.nytimes.com/2014/12/26/diabetes-prevention-that-works/\n",
            "548579045269852161|Fri Dec 26 20:40:11 +0000 2014|The New Old Age Blog: Diabetes Prevention That Works http://nyti.ms/1xm7fTi\n",
            "54844\n",
            "['#askwell', '#pregnancy', '#Colorado', '#VegetarianThanksgiving', '#FallPrevention', '#Ebola', '#Ebola', '#ebola', '#Ebola', '#Ebola', '#EbolaHysteria', '#AskNYT', '#Ebola', '#Ebola', '#Liberia', '#Excalibur', '#ebola', '#Ebola', '#dallas', '#nobelprize2014', '#ebola', '#ebola', '#monrovia', '#ebola', '#nobelprize2014', '#ebola', '#nobelprize2014', '#Medicine', '#Ebola', '#Monrovia', '#Ebola', '#smell', '#Ebola', '#Ebola', '#Ebola', '#Monrovia', '#Ebola', '#ebola', '#monrovia', '#liberia', '#benzos', '#ClimateChange', '#Whole', '#Wheat', '#Focaccia', '#Tomatoes', '#Olives', '#Recipes', '#Health', '#Ebola', '#Monrovia', '#Liberia', '#Ebola', '#Ebola', '#Liberia', '#Ebola', '#blood', '#Ebola', '#organtrafficking', '#EbolaOutbreak', '#SierraLeone', '#Freetown', '#SierraLeone', '#ebolaoutbreak', '#kenema', '#ebola', '#Ebola', '#ebola', '#ebola', '#Ebola', '#ASMR', '#AIDS2014', '#AIDS', '#MH17', '#benzos']\n",
            "{'#askwell', '#ebolaoutbreak', '#monrovia', '#Ebola', '#MH17', '#Excalibur', '#kenema', '#AIDS2014', '#EbolaHysteria', '#liberia', '#organtrafficking', '#pregnancy', '#nobelprize2014', '#AskNYT', '#smell', '#blood', '#ClimateChange', '#ASMR', '#ebola', '#Olives', '#Recipes', '#FallPrevention', '#VegetarianThanksgiving', '#dallas', '#Monrovia', '#SierraLeone', '#Focaccia', '#Wheat', '#AIDS', '#Health', '#Tomatoes', '#Medicine', '#Colorado', '#Liberia', '#benzos', '#EbolaOutbreak', '#Whole', '#Freetown'}\n"
          ],
          "name": "stdout"
        }
      ]
    },
    {
      "cell_type": "markdown",
      "metadata": {
        "id": "Cmt6KDQqjT0d"
      },
      "source": [
        "## Regular Expression Operations Documentation"
      ]
    },
    {
      "cell_type": "markdown",
      "metadata": {
        "id": "4rvEvATRjg7R"
      },
      "source": [
        "See https://docs.python.org/3/library/re.html"
      ]
    },
    {
      "cell_type": "markdown",
      "metadata": {
        "id": "n5C0H29ejoww"
      },
      "source": [
        "## Regular Expressions Debugging"
      ]
    },
    {
      "cell_type": "markdown",
      "metadata": {
        "id": "jAY2PZzDjqlR"
      },
      "source": [
        "See https://regex101.com/"
      ]
    },
    {
      "cell_type": "markdown",
      "metadata": {
        "id": "n4i7XW06L1LI"
      },
      "source": [
        "# Week 2: Basic Data Processing with Pandas\n",
        "\n"
      ]
    },
    {
      "cell_type": "markdown",
      "metadata": {
        "id": "Wg0l5qBVL_Wt"
      },
      "source": [
        "Week 2: https://www.coursera.org/learn/python-data-analysis/home/week/2\n",
        "\n",
        "Discussion Forum: https://www.coursera.org/learn/python-data-analysis/discussions/weeks/2\n",
        "\n",
        "In this week of the course you'll learn the fundamentals of one of the most important toolkits Python has for data cleaning and processing -- pandas. You'll learn how to read in data into DataFrame structures, how to query these structures, and the details about such structures are indexed.\n",
        "\n",
        "Learning Objectives\n",
        "- Demonstrate how the series class builds on top of numpy datatypes\n",
        "- Remember that the series class is a numpy array\n",
        "- Demonstrate the basics of how to query a series structure\n",
        "- Remember the dataframe as the principle data science structure\n",
        "- Define the various features of a dataframe\n",
        "- Demonstrate what an axis is in relation to dataframes\n",
        "- Demonstrate the difference between the series and dataframe classes\n",
        "- Create and use pandas DataFrames to represent raw data"
      ]
    },
    {
      "cell_type": "markdown",
      "metadata": {
        "id": "eZO9J4enNJbt"
      },
      "source": [
        "## Week 2 Reading Assignments\n",
        "\n",
        "Course Textbook\n",
        "[Python for Data Analysis](https://wesmckinney.com/pages/book.html) by Wes McKinney (O’Reilly). Copyright 2017 Wes McKinney, 978-1-491-95766-0.\n",
        "\n",
        "- Chapter Five: Getting started with pandas\n",
        "- Chapter Seven: Data Cleaning and Preparation"
      ]
    },
    {
      "cell_type": "markdown",
      "metadata": {
        "id": "4O7a3C3HNs5m"
      },
      "source": [
        "## Introduction to Pandas\n",
        "\n",
        "Video: https://www.coursera.org/learn/python-data-analysis/lecture/khJPQ/introduction-to-pandas\n",
        "\n",
        "Stack Overflow Reference: https://stackoverflow.com/questions/tagged/pandas\n",
        "\n",
        "Open Source, created in 2008 by Wes McKinney (the same author as the referece book)\n",
        "\n",
        "See https://planetpython.org/ \n",
        "\n"
      ]
    },
    {
      "cell_type": "markdown",
      "metadata": {
        "id": "iSrzd8l3adOf"
      },
      "source": [
        "## The Series Data Structure\n"
      ]
    },
    {
      "cell_type": "markdown",
      "metadata": {
        "id": "cUzWBO2jamD8"
      },
      "source": [
        "Video: https://www.coursera.org/learn/python-data-analysis/lecture/lhVO7/the-series-data-structure\n",
        "\n"
      ]
    },
    {
      "cell_type": "code",
      "metadata": {
        "colab": {
          "base_uri": "https://localhost:8080/"
        },
        "id": "mmfYGw-DNo_w",
        "outputId": "1cad0839-ecf3-4475-9af3-bb81bccff4cf"
      },
      "source": [
        "import pandas as pd\n",
        "\n",
        "students = ['Alice', 'Jack', 'Molly']\n",
        "pd.Series(students)"
      ],
      "execution_count": 1,
      "outputs": [
        {
          "output_type": "execute_result",
          "data": {
            "text/plain": [
              "0    Alice\n",
              "1     Jack\n",
              "2    Molly\n",
              "dtype: object"
            ]
          },
          "metadata": {
            "tags": []
          },
          "execution_count": 1
        }
      ]
    },
    {
      "cell_type": "code",
      "metadata": {
        "colab": {
          "base_uri": "https://localhost:8080/"
        },
        "id": "I_x55_CCbKVg",
        "outputId": "103519da-0a69-47c5-d21c-62c6e62c90ca"
      },
      "source": [
        "numbers = [1, 2, 3]\n",
        "pd.Series(numbers)"
      ],
      "execution_count": 2,
      "outputs": [
        {
          "output_type": "execute_result",
          "data": {
            "text/plain": [
              "0    1\n",
              "1    2\n",
              "2    3\n",
              "dtype: int64"
            ]
          },
          "metadata": {
            "tags": []
          },
          "execution_count": 2
        }
      ]
    },
    {
      "cell_type": "code",
      "metadata": {
        "colab": {
          "base_uri": "https://localhost:8080/"
        },
        "id": "Owecyub-bjKy",
        "outputId": "19d4f716-d99d-4791-8998-7fa43fad4b95"
      },
      "source": [
        "students = ['Alice', 'Jack', None]\n",
        "pd.Series(students)"
      ],
      "execution_count": 3,
      "outputs": [
        {
          "output_type": "execute_result",
          "data": {
            "text/plain": [
              "0    Alice\n",
              "1     Jack\n",
              "2     None\n",
              "dtype: object"
            ]
          },
          "metadata": {
            "tags": []
          },
          "execution_count": 3
        }
      ]
    },
    {
      "cell_type": "code",
      "metadata": {
        "colab": {
          "base_uri": "https://localhost:8080/"
        },
        "id": "Yu0Bw2JabpWQ",
        "outputId": "d8fd2b7b-534d-4402-9275-9bc8c8240a15"
      },
      "source": [
        "numbers = [1, 2, None]\n",
        "pd.Series(numbers)"
      ],
      "execution_count": 4,
      "outputs": [
        {
          "output_type": "execute_result",
          "data": {
            "text/plain": [
              "0    1.0\n",
              "1    2.0\n",
              "2    NaN\n",
              "dtype: float64"
            ]
          },
          "metadata": {
            "tags": []
          },
          "execution_count": 4
        }
      ]
    },
    {
      "cell_type": "code",
      "metadata": {
        "id": "XgjwG1czb1L5"
      },
      "source": [
        "# FInished to 4:30"
      ],
      "execution_count": null,
      "outputs": []
    },
    {
      "cell_type": "markdown",
      "metadata": {
        "id": "Ryc7zgE8axN0"
      },
      "source": [
        "# Experiments"
      ]
    },
    {
      "cell_type": "code",
      "metadata": {
        "colab": {
          "base_uri": "https://localhost:8080/"
        },
        "id": "QOYRMZmo8Q17",
        "outputId": "7166c441-3899-4682-b429-e7661fee4417"
      },
      "source": [
        "# Marquees are back! 😊\n",
        "%%html\n",
        "<marquee style='width: 50%; color: Green;'>Welcome to Tutorialspoint!</marquee>"
      ],
      "execution_count": null,
      "outputs": [
        {
          "output_type": "display_data",
          "data": {
            "text/html": [
              "<marquee style='width: 50%; color: Green;'>Welcome to Tutorialspoint!</marquee>"
            ],
            "text/plain": [
              "<IPython.core.display.HTML object>"
            ]
          },
          "metadata": {
            "tags": []
          }
        }
      ]
    },
    {
      "cell_type": "code",
      "metadata": {
        "id": "c5VdEFQSreo6",
        "colab": {
          "base_uri": "https://localhost:8080/"
        },
        "outputId": "13d1c3c1-c78d-4669-d32a-951cbcabbf9d"
      },
      "source": [
        "import numpy as np\n",
        "\n",
        "a = np.zeros([20,20])\n",
        "b = np.ones([20,20])\n",
        "\n",
        "print(a)"
      ],
      "execution_count": null,
      "outputs": [
        {
          "output_type": "stream",
          "text": [
            "[[0. 0. 0. 0. 0. 0. 0. 0. 0. 0. 0. 0. 0. 0. 0. 0. 0. 0. 0. 0.]\n",
            " [0. 0. 0. 0. 0. 0. 0. 0. 0. 0. 0. 0. 0. 0. 0. 0. 0. 0. 0. 0.]\n",
            " [0. 0. 0. 0. 0. 0. 0. 0. 0. 0. 0. 0. 0. 0. 0. 0. 0. 0. 0. 0.]\n",
            " [0. 0. 0. 0. 0. 0. 0. 0. 0. 0. 0. 0. 0. 0. 0. 0. 0. 0. 0. 0.]\n",
            " [0. 0. 0. 0. 0. 0. 0. 0. 0. 0. 0. 0. 0. 0. 0. 0. 0. 0. 0. 0.]\n",
            " [0. 0. 0. 0. 0. 0. 0. 0. 0. 0. 0. 0. 0. 0. 0. 0. 0. 0. 0. 0.]\n",
            " [0. 0. 0. 0. 0. 0. 0. 0. 0. 0. 0. 0. 0. 0. 0. 0. 0. 0. 0. 0.]\n",
            " [0. 0. 0. 0. 0. 0. 0. 0. 0. 0. 0. 0. 0. 0. 0. 0. 0. 0. 0. 0.]\n",
            " [0. 0. 0. 0. 0. 0. 0. 0. 0. 0. 0. 0. 0. 0. 0. 0. 0. 0. 0. 0.]\n",
            " [0. 0. 0. 0. 0. 0. 0. 0. 0. 0. 0. 0. 0. 0. 0. 0. 0. 0. 0. 0.]\n",
            " [0. 0. 0. 0. 0. 0. 0. 0. 0. 0. 0. 0. 0. 0. 0. 0. 0. 0. 0. 0.]\n",
            " [0. 0. 0. 0. 0. 0. 0. 0. 0. 0. 0. 0. 0. 0. 0. 0. 0. 0. 0. 0.]\n",
            " [0. 0. 0. 0. 0. 0. 0. 0. 0. 0. 0. 0. 0. 0. 0. 0. 0. 0. 0. 0.]\n",
            " [0. 0. 0. 0. 0. 0. 0. 0. 0. 0. 0. 0. 0. 0. 0. 0. 0. 0. 0. 0.]\n",
            " [0. 0. 0. 0. 0. 0. 0. 0. 0. 0. 0. 0. 0. 0. 0. 0. 0. 0. 0. 0.]\n",
            " [0. 0. 0. 0. 0. 0. 0. 0. 0. 0. 0. 0. 0. 0. 0. 0. 0. 0. 0. 0.]\n",
            " [0. 0. 0. 0. 0. 0. 0. 0. 0. 0. 0. 0. 0. 0. 0. 0. 0. 0. 0. 0.]\n",
            " [0. 0. 0. 0. 0. 0. 0. 0. 0. 0. 0. 0. 0. 0. 0. 0. 0. 0. 0. 0.]\n",
            " [0. 0. 0. 0. 0. 0. 0. 0. 0. 0. 0. 0. 0. 0. 0. 0. 0. 0. 0. 0.]\n",
            " [0. 0. 0. 0. 0. 0. 0. 0. 0. 0. 0. 0. 0. 0. 0. 0. 0. 0. 0. 0.]]\n"
          ],
          "name": "stdout"
        }
      ]
    },
    {
      "cell_type": "code",
      "metadata": {
        "id": "cbuTiCJxAk5u"
      },
      "source": [
        ""
      ],
      "execution_count": null,
      "outputs": []
    }
  ]
}