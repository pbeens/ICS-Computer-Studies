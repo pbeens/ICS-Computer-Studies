{
  "nbformat": 4,
  "nbformat_minor": 0,
  "metadata": {
    "colab": {
      "name": "Coursera Introduction to Data Science with Python.ipynb",
      "provenance": [],
      "collapsed_sections": [],
      "toc_visible": true,
      "authorship_tag": "ABX9TyM9nPuvdN5C529oXVjw4g1J",
      "include_colab_link": true
    },
    "kernelspec": {
      "name": "python3",
      "display_name": "Python 3"
    }
  },
  "cells": [
    {
      "cell_type": "markdown",
      "metadata": {
        "id": "view-in-github",
        "colab_type": "text"
      },
      "source": [
        "<a href=\"https://colab.research.google.com/github/pbeens/ICS-Computer-Studies/blob/master/Coursera_Introduction_to_Data_Science_with_Python.ipynb\" target=\"_parent\"><img src=\"https://colab.research.google.com/assets/colab-badge.svg\" alt=\"Open In Colab\"/></a>"
      ]
    },
    {
      "cell_type": "markdown",
      "metadata": {
        "id": "uH9yHUZBhSYr"
      },
      "source": [
        "# Week 1"
      ]
    },
    {
      "cell_type": "markdown",
      "metadata": {
        "id": "zjQJRVwalplP"
      },
      "source": [
        "Outline: https://www.coursera.org/learn/python-data-analysis/home/week/1\n",
        "\n",
        "Forum: https://www.coursera.org/learn/python-data-analysis/discussions/weeks/1"
      ]
    },
    {
      "cell_type": "markdown",
      "metadata": {
        "id": "FCPkwWNnhXHo"
      },
      "source": [
        "## Introduction to Specialization"
      ]
    },
    {
      "cell_type": "markdown",
      "metadata": {
        "id": "8upVd8SPhdX-"
      },
      "source": [
        "Video: https://www.coursera.org/learn/python-data-analysis/lecture/TPrDp/introduction-to-specialization\n",
        "\n",
        "- Basic Python\n",
        "- Pandas\n",
        "- Advanced Querying and Manipulation\n",
        "- Basic statistical analysis"
      ]
    },
    {
      "cell_type": "markdown",
      "metadata": {
        "id": "Xkv6An9HhbjQ"
      },
      "source": [
        "## Introduction to the Course"
      ]
    },
    {
      "cell_type": "markdown",
      "metadata": {
        "id": "XVfPAMhxiEkd"
      },
      "source": [
        "Video: https://www.coursera.org/learn/python-data-analysis/lecture/MIvLe/introduction-to-the-course\n",
        "\n",
        "- Data manipulation\n",
        "- Pandas library, defacto standard\n",
        "- Tutorial-style videos, using Jupyter\n",
        "- Strategy for learning: take your own notes using Jupyter"
      ]
    },
    {
      "cell_type": "markdown",
      "metadata": {
        "id": "ufsfPhxpl4iL"
      },
      "source": [
        "## Syllabus"
      ]
    },
    {
      "cell_type": "markdown",
      "metadata": {
        "id": "ICIPM_hhl7LI"
      },
      "source": [
        "Link: https://www.coursera.org/learn/python-data-analysis/supplement/DNjE6/syllabus\n",
        "\n",
        "- Prerequisites\n",
        "- Grading and assignments\n",
        "- Code of Conduct\n",
        "- Working offline\n",
        "- Accessibility\n",
        "- Help!"
      ]
    },
    {
      "cell_type": "markdown",
      "metadata": {
        "id": "7ZpqZwvumSNm"
      },
      "source": [
        "## Notice for Auditing Learners: Assignment Submission"
      ]
    },
    {
      "cell_type": "markdown",
      "metadata": {
        "id": "6QahSlw_mUVH"
      },
      "source": [
        "Can't submit assignments unless you are a verified (paid?) learner. A link is available to pursue this path."
      ]
    },
    {
      "cell_type": "markdown",
      "metadata": {
        "id": "nvdAQyEvmli4"
      },
      "source": [
        "## The Coursera Jupyter Notebook System"
      ]
    },
    {
      "cell_type": "markdown",
      "metadata": {
        "id": "i1Ab_F2Amr0N"
      },
      "source": [
        "Video: https://www.coursera.org/learn/python-data-analysis/lecture/nWh1K/the-coursera-jupyter-notebook-system\n",
        "\n",
        "- code cells and markdown cells\n",
        "- code cells retain what they did in previous cells.\n",
        "- Kernal/Runtime > Interrupt to stop a running process or infinite loop\n"
      ]
    },
    {
      "cell_type": "markdown",
      "metadata": {
        "id": "EFyyrUfMpeHs"
      },
      "source": [
        "## Your Personal Jupyter Notebook Workspace"
      ]
    },
    {
      "cell_type": "markdown",
      "metadata": {
        "id": "37KPxvP8qo8k"
      },
      "source": [
        "Link: https://www.coursera.org/learn/python-data-analysis/ungradedLab/33VUU/your-personal-jupyter-notebook-workspace"
      ]
    },
    {
      "cell_type": "markdown",
      "metadata": {
        "id": "6SFUe1ztqtRZ"
      },
      "source": [
        "## Week 1 Textbook Reading Assignment"
      ]
    },
    {
      "cell_type": "markdown",
      "metadata": {
        "id": "UOah4Tr7qxo7"
      },
      "source": [
        "Link: https://www.coursera.org/learn/python-data-analysis/supplement/fP74v/week-1-textbook-reading-assignment\n",
        "\n",
        "- Chapter Two: Python Language Basics, IPython, and Jupyter Notebooks\n",
        "- Chapter Three: Built-In Data Structures, Functions, and Files\n",
        "- Chapter 4: NumPy Basics: Arrays and Vectorized Computation\n",
        "- Appendix A: Advanced NumPy (optional)"
      ]
    },
    {
      "cell_type": "markdown",
      "metadata": {
        "id": "GKyux24K1DlK"
      },
      "source": [
        "### Magic Commands"
      ]
    },
    {
      "cell_type": "code",
      "metadata": {
        "colab": {
          "base_uri": "https://localhost:8080/"
        },
        "id": "jjLNwTHHtldG",
        "outputId": "fd27561e-5f3a-4f36-8d59-5b2aed7617a5"
      },
      "source": [
        "# Jupyter has magic commands!\n",
        "import numpy as np\n",
        "%timeit a = np.random.randn(100, 100)\n",
        "\n",
        "# magic commands can be assigned to variables\n",
        "foo = %pwd\n",
        "print(f'pwd: {foo}')"
      ],
      "execution_count": 1,
      "outputs": [
        {
          "output_type": "stream",
          "text": [
            "1000 loops, best of 5: 414 µs per loop\n",
            "pwd: /content\n"
          ],
          "name": "stdout"
        }
      ]
    },
    {
      "cell_type": "markdown",
      "metadata": {
        "id": "8bt9E3HBu485"
      },
      "source": [
        "- %quickref\n",
        "- %magic\n",
        "- %debug\n",
        "- %hist\n",
        "%pdb\n",
        "%paste\n",
        "%cpaste\n",
        "%reset\n",
        "%page OBJECT %run script.py %prun statement %time statement %timeit statement\n",
        "%who, %who_ls, %whos \n",
        "%xdel variable\n"
      ]
    },
    {
      "cell_type": "code",
      "metadata": {
        "id": "6lIBMyv7zS3L"
      },
      "source": [
        "# May be useful later...\n",
        "%matplotlib inline"
      ],
      "execution_count": 2,
      "outputs": []
    },
    {
      "cell_type": "markdown",
      "metadata": {
        "id": "3oUBfY7wzu5v"
      },
      "source": [
        "## 50 years of Data Science, David Donoho (Optional)"
      ]
    },
    {
      "cell_type": "markdown",
      "metadata": {
        "id": "TOEdem4Rzwg_"
      },
      "source": [
        "Link: http://courses.csail.mit.edu/18.337/2015/docs/50YearsDataScience.pdf"
      ]
    },
    {
      "cell_type": "markdown",
      "metadata": {
        "id": "114iW3gD0xA7"
      },
      "source": [
        "## Python Functions"
      ]
    },
    {
      "cell_type": "markdown",
      "metadata": {
        "id": "sChy79Pm00ri"
      },
      "source": [
        "Video: https://www.coursera.org/learn/python-data-analysis/lecture/v7PKy/python-functions\n",
        "\n",
        "High-level, interpretted language. Often used interactively, especially in Jupyter. Dynamically-typed, meaning variables are not declared as a specific type. \n",
        "\n",
        "Jupyter is stateful, meaning it retains values run in previous cells. \n",
        "\n",
        "A function returns None if not specified. "
      ]
    },
    {
      "cell_type": "markdown",
      "metadata": {
        "id": "2IFbtFcj12lN"
      },
      "source": [
        "### Examples Demo'd"
      ]
    },
    {
      "cell_type": "code",
      "metadata": {
        "colab": {
          "base_uri": "https://localhost:8080/"
        },
        "id": "r9nM0nQIz0mZ",
        "outputId": "c5fdde76-9fac-4059-af83-c11ec321144d"
      },
      "source": [
        "x = 1\n",
        "y = 2\n",
        "x + y"
      ],
      "execution_count": 3,
      "outputs": [
        {
          "output_type": "execute_result",
          "data": {
            "text/plain": [
              "3"
            ]
          },
          "metadata": {
            "tags": []
          },
          "execution_count": 3
        }
      ]
    },
    {
      "cell_type": "code",
      "metadata": {
        "colab": {
          "base_uri": "https://localhost:8080/"
        },
        "id": "2mW6JhL_1zit",
        "outputId": "2c9abaf9-2e1a-47c9-d2c4-031271761236"
      },
      "source": [
        "x"
      ],
      "execution_count": 4,
      "outputs": [
        {
          "output_type": "execute_result",
          "data": {
            "text/plain": [
              "1"
            ]
          },
          "metadata": {
            "tags": []
          },
          "execution_count": 4
        }
      ]
    },
    {
      "cell_type": "code",
      "metadata": {
        "colab": {
          "base_uri": "https://localhost:8080/"
        },
        "id": "E2eXkgLK16NF",
        "outputId": "80b9116d-1d20-4913-a54c-1084b69bc02e"
      },
      "source": [
        "# a function, with optional 3rd parameter\n",
        "def add_numbers(x, y, z=None):\n",
        "  if (z == None):\n",
        "    return x + y\n",
        "  else:\n",
        "    return x + y + z\n",
        "\n",
        "print(add_numbers(2, 4, 2))\n",
        "print(add_numbers(2, 4))"
      ],
      "execution_count": 5,
      "outputs": [
        {
          "output_type": "stream",
          "text": [
            "8\n",
            "6\n"
          ],
          "name": "stdout"
        }
      ]
    },
    {
      "cell_type": "markdown",
      "metadata": {
        "id": "FKKc2p8G3TOk"
      },
      "source": [
        "## Python Types and Sequences"
      ]
    },
    {
      "cell_type": "markdown",
      "metadata": {
        "id": "XJTJmYo83U8g"
      },
      "source": [
        "Video: https://www.coursera.org/learn/python-data-analysis/lecture/fZ466/python-types-and-sequences\n",
        "\n",
        "`type()` shows which type a variable is\n",
        "\n",
        "Tuple is immutable (cannot be changed). Created with parentheses. \n",
        "\n",
        "Lists are mutable and created with brackets. `append()` lets you add items to the list.\n",
        "\n",
        "Lists and tuples are iterable types, typically using a `for` loop. Can be accessed via an index. Can be accessed via slicing. "
      ]
    },
    {
      "cell_type": "code",
      "metadata": {
        "colab": {
          "base_uri": "https://localhost:8080/"
        },
        "id": "AiQgkFQAjpvc",
        "outputId": "f1538604-da8b-4a3b-a8bb-0da1a80d4a94"
      },
      "source": [
        "x = (1, 'a', 2, 'b')\n",
        "print(type(x))\n",
        "x = [1, 'a', 2, 'b']\n",
        "print(type(x))\n",
        "x.append(3.3)\n",
        "print(x)\n",
        "for item in x:\n",
        "  print(item)\n",
        "print(len(x))\n",
        "print('a' in x)\n",
        "print(x[0], x[0:1], x[0:2], x[:2], x[-2:])"
      ],
      "execution_count": 6,
      "outputs": [
        {
          "output_type": "stream",
          "text": [
            "<class 'tuple'>\n",
            "<class 'list'>\n",
            "[1, 'a', 2, 'b', 3.3]\n",
            "1\n",
            "a\n",
            "2\n",
            "b\n",
            "3.3\n",
            "5\n",
            "True\n",
            "1 [1] [1, 'a'] [1, 'a'] ['b', 3.3]\n"
          ],
          "name": "stdout"
        }
      ]
    },
    {
      "cell_type": "markdown",
      "metadata": {
        "id": "lSQoNDBTlA1B"
      },
      "source": [
        "Strings can be split:"
      ]
    },
    {
      "cell_type": "code",
      "metadata": {
        "colab": {
          "base_uri": "https://localhost:8080/"
        },
        "id": "zFGM3AWBlEi_",
        "outputId": "c23ae5d9-ed3e-4ae9-cd1c-f18a77fd87de"
      },
      "source": [
        "items = 'A B C D'.split()\n",
        "print(items)"
      ],
      "execution_count": 7,
      "outputs": [
        {
          "output_type": "stream",
          "text": [
            "['A', 'B', 'C', 'D']\n"
          ],
          "name": "stdout"
        }
      ]
    },
    {
      "cell_type": "markdown",
      "metadata": {
        "id": "POqQJU3rl2GF"
      },
      "source": [
        "Dictionaries"
      ]
    },
    {
      "cell_type": "code",
      "metadata": {
        "colab": {
          "base_uri": "https://localhost:8080/"
        },
        "id": "nl6prTxVmUd_",
        "outputId": "e0ab7570-5bc9-452e-8780-d18dc4cfa442"
      },
      "source": [
        "# example from https://www.w3schools.com/python/python_dictionaries.asp\n",
        "thisdict = {\n",
        "  \"brand\": \"Ford\",\n",
        "  \"model\": \"Mustang\",\n",
        "  \"year\": 1964\n",
        "}\n",
        "for spec, data in thisdict.items():\n",
        "  print(spec, data)"
      ],
      "execution_count": 8,
      "outputs": [
        {
          "output_type": "stream",
          "text": [
            "brand Ford\n",
            "model Mustang\n",
            "year 1964\n"
          ],
          "name": "stdout"
        }
      ]
    },
    {
      "cell_type": "code",
      "metadata": {
        "id": "YfKV6qmt2Ohk",
        "colab": {
          "base_uri": "https://localhost:8080/"
        },
        "outputId": "4a92b71b-0f75-4765-8ea9-b5ff7dba6cbe"
      },
      "source": [
        "for data in thisdict.values():\n",
        "  print(data)"
      ],
      "execution_count": 9,
      "outputs": [
        {
          "output_type": "stream",
          "text": [
            "Ford\n",
            "Mustang\n",
            "1964\n"
          ],
          "name": "stdout"
        }
      ]
    },
    {
      "cell_type": "code",
      "metadata": {
        "colab": {
          "base_uri": "https://localhost:8080/"
        },
        "id": "0sVLhO0mmvDZ",
        "outputId": "cd2bfca0-966d-46d7-e181-b047fe8d2a4d"
      },
      "source": [
        "for key in thisdict.keys():\n",
        "  print(key)"
      ],
      "execution_count": 10,
      "outputs": [
        {
          "output_type": "stream",
          "text": [
            "brand\n",
            "model\n",
            "year\n"
          ],
          "name": "stdout"
        }
      ]
    },
    {
      "cell_type": "markdown",
      "metadata": {
        "id": "m6-V5ObcnRjS"
      },
      "source": [
        "Multiple assignments can be done at once."
      ]
    },
    {
      "cell_type": "code",
      "metadata": {
        "colab": {
          "base_uri": "https://localhost:8080/"
        },
        "id": "rv_24TJgnWLq",
        "outputId": "6d01d7b2-08e2-42e3-dceb-a38e5aea22f8"
      },
      "source": [
        "a, b, c = 1, \"abc\", [4, 5]\n",
        "print(a)\n",
        "print(b)\n",
        "print(c)"
      ],
      "execution_count": 11,
      "outputs": [
        {
          "output_type": "stream",
          "text": [
            "1\n",
            "abc\n",
            "[4, 5]\n"
          ],
          "name": "stdout"
        }
      ]
    },
    {
      "cell_type": "markdown",
      "metadata": {
        "id": "g-A2eM26nqiA"
      },
      "source": [
        "## Python More on Strings"
      ]
    },
    {
      "cell_type": "markdown",
      "metadata": {
        "id": "lK5nkyv7ns4S"
      },
      "source": [
        "Video: https://www.coursera.org/learn/python-data-analysis/lecture/HPh3O/python-more-on-strings\n",
        "\n",
        "Strings are Unicode-based. They used to be based on ASCII which was too limited. UTF solves this problem by allowing over a million characters. \n",
        "\n",
        "Python allows placeholders for variables when concatenating strings. The video covers `format()` but we can now use f-strings."
      ]
    },
    {
      "cell_type": "markdown",
      "metadata": {
        "id": "DMjiolkXo2y9"
      },
      "source": [
        "## Python Demonstration: Reading and Writing CSV files"
      ]
    },
    {
      "cell_type": "markdown",
      "metadata": {
        "id": "WcZBH0hbo4mc"
      },
      "source": [
        "Video: https://www.coursera.org/learn/python-data-analysis/lecture/ktRTE/python-demonstration-reading-and-writing-csv-files\n",
        "\n"
      ]
    },
    {
      "cell_type": "code",
      "metadata": {
        "id": "E6_Hl8WJnrqp"
      },
      "source": [
        "# This block will let you upload a file from your local computer.\n",
        "# Instead, we will clone a GitHub repository, in the next cell.\n",
        "import csv\n",
        "# mpg.csv\n",
        "from google.colab import files\n",
        "# uploaded = files.upload() # Use GitHub clone instead!"
      ],
      "execution_count": 12,
      "outputs": []
    },
    {
      "cell_type": "code",
      "metadata": {
        "colab": {
          "base_uri": "https://localhost:8080/"
        },
        "id": "o82sg48uVxsB",
        "outputId": "4b8a56c9-428e-48ac-d10d-510a0512282d"
      },
      "source": [
        "!git clone https://github.com/pbeens/Coursera-Introduction-to-Data-Science-with-Python.git"
      ],
      "execution_count": 13,
      "outputs": [
        {
          "output_type": "stream",
          "text": [
            "Cloning into 'Coursera-Introduction-to-Data-Science-with-Python'...\n",
            "remote: Enumerating objects: 117, done.\u001b[K\n",
            "remote: Counting objects: 100% (117/117), done.\u001b[K\n",
            "remote: Compressing objects: 100% (106/106), done.\u001b[K\n",
            "remote: Total 117 (delta 20), reused 42 (delta 9), pack-reused 0\u001b[K\n",
            "Receiving objects: 100% (117/117), 11.65 MiB | 10.38 MiB/s, done.\n",
            "Resolving deltas: 100% (20/20), done.\n"
          ],
          "name": "stdout"
        }
      ]
    },
    {
      "cell_type": "code",
      "metadata": {
        "colab": {
          "base_uri": "https://localhost:8080/"
        },
        "id": "VQviJymc8ZDF",
        "outputId": "74d5fa59-ec05-47ca-856b-631beef8a29f"
      },
      "source": [
        "# Testing another way to get a file from online\n",
        "import urllib.request\n",
        "url = 'https://gist.githubusercontent.com/pbeens/09530d2a47a926940216b971ecdce369/raw/50f899381a90c94cfd130dc41599fb3d51a2d372/mpg.csv'\n",
        "urllib.request.urlretrieve(url, \"mpg.csv\")"
      ],
      "execution_count": 14,
      "outputs": [
        {
          "output_type": "execute_result",
          "data": {
            "text/plain": [
              "('mpg.csv', <http.client.HTTPMessage at 0x7fa816fe0110>)"
            ]
          },
          "metadata": {
            "tags": []
          },
          "execution_count": 14
        }
      ]
    },
    {
      "cell_type": "code",
      "metadata": {
        "colab": {
          "base_uri": "https://localhost:8080/"
        },
        "id": "U3mQmc-8sia4",
        "outputId": "befe643c-e7ea-4ed8-af9b-ef785465b934"
      },
      "source": [
        "import csv\n",
        "\n",
        "# %precision 2 # not working in this cell for some reason\n",
        "mpg_file = '/content/Coursera-Introduction-to-Data-Science-with-Python/resources/datasets/mpg.csv'\n",
        "with open(mpg_file) as csvfile:\n",
        "  mpg = list(csv.DictReader(csvfile))\n",
        "\n",
        "# let's look at the first entry\n",
        "print(mpg[:1])\n",
        "\n",
        "# how many entries?\n",
        "print(len(mpg))\n",
        "\n",
        "# the keys\n",
        "print(mpg[0].keys())\n",
        "\n",
        "# avg mpg, city and highway\n",
        "cty_mpg_avg = sum(float(d['cty']) for d in mpg) / len(mpg) # uses list comprehension\n",
        "print(f'{cty_mpg_avg:.2f}') # Note: %precision 2 did not work \n",
        "hwy_mpg_avg = sum(float(d['hwy']) for d in mpg) / len(mpg) # uses list comprehension\n",
        "print(f'{hwy_mpg_avg:.2f}')\n",
        "\n",
        "# cylinder mpg study\n",
        "cylinders = set(d['cyl'] for d in mpg) # create set of # of cylinders\n",
        "print(cylinders)\n",
        "\n",
        "cty_mpg_by_cyl = []\n",
        "for c in cylinders:\n",
        "  sum_mpg = 0\n",
        "  cyl_type_count = 0\n",
        "  for d in mpg:\n",
        "    if d['cyl'] == c:\n",
        "      sum_mpg += float(d['cty'])\n",
        "      cyl_type_count += 1\n",
        "  cty_mpg_by_cyl.append((c, round(sum_mpg / cyl_type_count, 2)))\n",
        "print(sorted(cty_mpg_by_cyl))\n",
        "\n",
        "# vehicle class study\n",
        "vehicle_classes = set(d['class'] for d in mpg)\n",
        "print(vehicle_classes)\n",
        "\n",
        "hwy_mpg_by_class = []\n",
        "for vc in vehicle_classes:\n",
        "  sum_mpg = 0\n",
        "  vehicle_class_count = 0\n",
        "  for d in mpg:\n",
        "    if d['class'] == vc:\n",
        "      sum_mpg += float(d['hwy'])\n",
        "      vehicle_class_count += 1\n",
        "  hwy_mpg_by_class.append((vc, round(sum_mpg / vehicle_class_count)))\n",
        "print(sorted(hwy_mpg_by_class))\n"
      ],
      "execution_count": 15,
      "outputs": [
        {
          "output_type": "stream",
          "text": [
            "[OrderedDict([('', '1'), ('manufacturer', 'audi'), ('model', 'a4'), ('displ', '1.8'), ('year', '1999'), ('cyl', '4'), ('trans', 'auto(l5)'), ('drv', 'f'), ('cty', '18'), ('hwy', '29'), ('fl', 'p'), ('class', 'compact')])]\n",
            "234\n",
            "odict_keys(['', 'manufacturer', 'model', 'displ', 'year', 'cyl', 'trans', 'drv', 'cty', 'hwy', 'fl', 'class'])\n",
            "16.86\n",
            "23.44\n",
            "{'4', '5', '6', '8'}\n",
            "[('4', 21.01), ('5', 20.5), ('6', 16.22), ('8', 12.57)]\n",
            "{'pickup', 'suv', 'midsize', 'subcompact', 'compact', '2seater', 'minivan'}\n",
            "[('2seater', 25), ('compact', 28), ('midsize', 27), ('minivan', 22), ('pickup', 17), ('subcompact', 28), ('suv', 18)]\n"
          ],
          "name": "stdout"
        }
      ]
    },
    {
      "cell_type": "markdown",
      "metadata": {
        "id": "uo67Qfw3o_MX"
      },
      "source": [
        "## Python Dates and Times"
      ]
    },
    {
      "cell_type": "markdown",
      "metadata": {
        "id": "j9f8XJWzpA5T"
      },
      "source": [
        "Video: https://www.coursera.org/learn/python-data-analysis/lecture/Fpybh/python-dates-and-times\n",
        "\n",
        "Dates and times can be stored in many different days. Some use epoch as a date reference (January 1, 1970). In Python, you can use the time module. "
      ]
    },
    {
      "cell_type": "code",
      "metadata": {
        "id": "TSeABkbXp71u"
      },
      "source": [
        "import datetime as dt\n",
        "import time as tm"
      ],
      "execution_count": 16,
      "outputs": []
    },
    {
      "cell_type": "code",
      "metadata": {
        "colab": {
          "base_uri": "https://localhost:8080/"
        },
        "id": "PwiHyaBNqnSu",
        "outputId": "7e586cd6-caf4-4273-a91e-0713ad57df93"
      },
      "source": [
        "tm.time()"
      ],
      "execution_count": 17,
      "outputs": [
        {
          "output_type": "execute_result",
          "data": {
            "text/plain": [
              "1616339917.3937685"
            ]
          },
          "metadata": {
            "tags": []
          },
          "execution_count": 17
        }
      ]
    },
    {
      "cell_type": "code",
      "metadata": {
        "colab": {
          "base_uri": "https://localhost:8080/"
        },
        "id": "XIrGfhHBqpth",
        "outputId": "db1f2601-9825-4613-dbee-69900f72e5dc"
      },
      "source": [
        "# today's date (appears to be UTC)\n",
        "dtnow = dt.datetime.fromtimestamp(tm.time())\n",
        "print(dtnow)"
      ],
      "execution_count": 18,
      "outputs": [
        {
          "output_type": "stream",
          "text": [
            "2021-03-21 15:18:37.404855\n"
          ],
          "name": "stdout"
        }
      ]
    },
    {
      "cell_type": "code",
      "metadata": {
        "colab": {
          "base_uri": "https://localhost:8080/"
        },
        "id": "UwWk8Mvoq8Gq",
        "outputId": "20ea77bd-e67a-4bc3-fdf5-99457d9c8276"
      },
      "source": [
        "# year, month, etc.\n",
        "print(dtnow.year, dtnow.month, dtnow.day, dtnow.hour, dtnow.minute, dtnow.second)"
      ],
      "execution_count": 19,
      "outputs": [
        {
          "output_type": "stream",
          "text": [
            "2021 3 21 15 18 37\n"
          ],
          "name": "stdout"
        }
      ]
    },
    {
      "cell_type": "code",
      "metadata": {
        "colab": {
          "base_uri": "https://localhost:8080/"
        },
        "id": "j-3XHl4wrSK7",
        "outputId": "ba7cc76b-eaf7-445a-908e-d3c8efa1414a"
      },
      "source": [
        "# time shifts\n",
        "delta = dt.timedelta(days=100)\n",
        "print(delta)\n",
        "\n",
        "today = dt.date.today()\n",
        "print(today + delta)"
      ],
      "execution_count": 20,
      "outputs": [
        {
          "output_type": "stream",
          "text": [
            "100 days, 0:00:00\n",
            "2021-06-29\n"
          ],
          "name": "stdout"
        }
      ]
    },
    {
      "cell_type": "code",
      "metadata": {
        "colab": {
          "base_uri": "https://localhost:8080/"
        },
        "id": "NLmoeBXcr5IL",
        "outputId": "ee4e08a2-9f97-4fb6-9f10-a6d5cc011ef2"
      },
      "source": [
        "print(today > today-delta)"
      ],
      "execution_count": 21,
      "outputs": [
        {
          "output_type": "stream",
          "text": [
            "True\n"
          ],
          "name": "stdout"
        }
      ]
    },
    {
      "cell_type": "markdown",
      "metadata": {
        "id": "dx3XhrXSs-9j"
      },
      "source": [
        "## Advanced Python Objects, map()"
      ]
    },
    {
      "cell_type": "markdown",
      "metadata": {
        "id": "I-h1djrftBH2"
      },
      "source": [
        "Video: https://www.coursera.org/learn/python-data-analysis/lecture/PeW28/advanced-python-objects-map"
      ]
    },
    {
      "cell_type": "code",
      "metadata": {
        "colab": {
          "base_uri": "https://localhost:8080/"
        },
        "id": "QRozzWqZuTGB",
        "outputId": "65d6e701-09e0-4377-e519-6f72bdb5f414"
      },
      "source": [
        "class Person:\n",
        "  department = 'School of Information'\n",
        "\n",
        "  def set_name(self, new_name):\n",
        "    self.name = new_name\n",
        "  def set_location(self, new_location):\n",
        "    self.location = new_location\n",
        "\n",
        "peter = Person()\n",
        "peter.set_name = 'Peter'\n",
        "peter.set_location = 'Canada'\n",
        "print(peter.set_name, peter.set_location)"
      ],
      "execution_count": 22,
      "outputs": [
        {
          "output_type": "stream",
          "text": [
            "Peter Canada\n"
          ],
          "name": "stdout"
        }
      ]
    },
    {
      "cell_type": "markdown",
      "metadata": {
        "id": "H8Ker4sQvJgn"
      },
      "source": [
        "## Advanced Python Lambda and List Comprehensions"
      ]
    },
    {
      "cell_type": "markdown",
      "metadata": {
        "id": "FtJcpIvgvLkk"
      },
      "source": [
        "Video: https://www.coursera.org/learn/python-data-analysis/lecture/AVjRT/advanced-python-lambda-and-list-comprehensions\n",
        "\n",
        "Lambdas are used to create a temporary function."
      ]
    },
    {
      "cell_type": "code",
      "metadata": {
        "colab": {
          "base_uri": "https://localhost:8080/"
        },
        "id": "EwTMpBKXvQWW",
        "outputId": "7bc87ee0-aa29-46d7-f694-3ac0496d9096"
      },
      "source": [
        "my_function = lambda a, b, c : (a + b) ** c\n",
        "my_function(1, 2, 3)"
      ],
      "execution_count": 23,
      "outputs": [
        {
          "output_type": "execute_result",
          "data": {
            "text/plain": [
              "27"
            ]
          },
          "metadata": {
            "tags": []
          },
          "execution_count": 23
        }
      ]
    },
    {
      "cell_type": "markdown",
      "metadata": {
        "id": "c6pMtzeHzWYZ"
      },
      "source": [
        "List comprehensions are an abbreviated method to created an iterable list. Are created on one line. LCs can include conditonal statements."
      ]
    },
    {
      "cell_type": "code",
      "metadata": {
        "colab": {
          "base_uri": "https://localhost:8080/"
        },
        "id": "zRRH7ly0zaJh",
        "outputId": "8e93b6a2-bf64-4828-bc45-9ef15a028595"
      },
      "source": [
        "# conventional way\n",
        "my_list = []\n",
        "for num in range(20):\n",
        "  if num % 2 == 0:\n",
        "    my_list.append(num)\n",
        "print(my_list)\n",
        "\n",
        "# list comprehension way\n",
        "print([n for n in range(20) if n % 2 == 0])"
      ],
      "execution_count": 24,
      "outputs": [
        {
          "output_type": "stream",
          "text": [
            "[0, 2, 4, 6, 8, 10, 12, 14, 16, 18]\n",
            "[0, 2, 4, 6, 8, 10, 12, 14, 16, 18]\n"
          ],
          "name": "stdout"
        }
      ]
    },
    {
      "cell_type": "markdown",
      "metadata": {
        "id": "AzAEylVB1czn"
      },
      "source": [
        "## Numerical Python Library (NumPy)"
      ]
    },
    {
      "cell_type": "markdown",
      "metadata": {
        "id": "8fy8inXE1gcS"
      },
      "source": [
        "Video: https://www.coursera.org/learn/python-data-analysis/lecture/kAQc1/numerical-python-library-numpy\n",
        "\n"
      ]
    },
    {
      "cell_type": "code",
      "metadata": {
        "id": "faHKleti1bsn"
      },
      "source": [
        "import numpy as np\n",
        "import math"
      ],
      "execution_count": 25,
      "outputs": []
    },
    {
      "cell_type": "code",
      "metadata": {
        "colab": {
          "base_uri": "https://localhost:8080/"
        },
        "id": "hi-3yuaM2Ccg",
        "outputId": "0ea214e6-36e1-4f16-c846-074f330891cf"
      },
      "source": [
        "a = np.array([1, 2, 3])\n",
        "print(a)\n",
        "print(a.ndim) # number of dimensions"
      ],
      "execution_count": 26,
      "outputs": [
        {
          "output_type": "stream",
          "text": [
            "[1 2 3]\n",
            "1\n"
          ],
          "name": "stdout"
        }
      ]
    },
    {
      "cell_type": "code",
      "metadata": {
        "colab": {
          "base_uri": "https://localhost:8080/"
        },
        "id": "bLvGauIq2fZc",
        "outputId": "33848ca6-a0e3-4475-f322-dec67e0700af"
      },
      "source": [
        "b = np.array([[1,2,3], [4,5,6]])\n",
        "print(b)"
      ],
      "execution_count": 27,
      "outputs": [
        {
          "output_type": "stream",
          "text": [
            "[[1 2 3]\n",
            " [4 5 6]]\n"
          ],
          "name": "stdout"
        }
      ]
    },
    {
      "cell_type": "code",
      "metadata": {
        "colab": {
          "base_uri": "https://localhost:8080/"
        },
        "id": "tEo-06knWgFF",
        "outputId": "a5ec480d-2b78-4e02-ca33-59464a140e97"
      },
      "source": [
        "print(b.shape) # length of each dimension"
      ],
      "execution_count": 28,
      "outputs": [
        {
          "output_type": "stream",
          "text": [
            "(2, 3)\n"
          ],
          "name": "stdout"
        }
      ]
    },
    {
      "cell_type": "code",
      "metadata": {
        "colab": {
          "base_uri": "https://localhost:8080/"
        },
        "id": "rNvaVHX-Wns9",
        "outputId": "e4142ca3-33fe-41ee-ad5b-20083ed5f819"
      },
      "source": [
        "print(b.dtype) # what types of variables"
      ],
      "execution_count": 29,
      "outputs": [
        {
          "output_type": "stream",
          "text": [
            "int64\n"
          ],
          "name": "stdout"
        }
      ]
    },
    {
      "cell_type": "code",
      "metadata": {
        "colab": {
          "base_uri": "https://localhost:8080/"
        },
        "id": "zpCSlCU_Wrf-",
        "outputId": "f1a21eb9-1c5e-4bfa-dba3-0940b8207d3b"
      },
      "source": [
        "# also floats\n",
        "c = np.array([2.2, 5, 1.1])\n",
        "print(c.dtype.name) # same o/p as w/o .name?"
      ],
      "execution_count": 30,
      "outputs": [
        {
          "output_type": "stream",
          "text": [
            "float64\n"
          ],
          "name": "stdout"
        }
      ]
    },
    {
      "cell_type": "code",
      "metadata": {
        "colab": {
          "base_uri": "https://localhost:8080/"
        },
        "id": "oWuwBv4UXJxr",
        "outputId": "ce309923-3211-483a-d012-2555d6c5c65c"
      },
      "source": [
        "# create according to shape\n",
        "d = np.zeros((2,3)) # must pass a tuple\n",
        "print(d)\n",
        "e = np.ones((2,3))\n",
        "print(e)\n",
        "f = np.random.rand(2,3) # not a tuple! \n",
        "print(f)\n",
        "print(type(f))"
      ],
      "execution_count": 31,
      "outputs": [
        {
          "output_type": "stream",
          "text": [
            "[[0. 0. 0.]\n",
            " [0. 0. 0.]]\n",
            "[[1. 1. 1.]\n",
            " [1. 1. 1.]]\n",
            "[[0.90557773 0.8527093  0.87888981]\n",
            " [0.12842647 0.84215436 0.18490588]]\n",
            "<class 'numpy.ndarray'>\n"
          ],
          "name": "stdout"
        }
      ]
    },
    {
      "cell_type": "code",
      "metadata": {
        "colab": {
          "base_uri": "https://localhost:8080/"
        },
        "id": "xH3gnpRsXhWW",
        "outputId": "bf0dd632-014f-419d-b9d2-1e4144beeccb"
      },
      "source": [
        "# range of integers\n",
        "f = np.arange(10, 20, 2) # 2nd parm is exclusive\n",
        "print(f)\n",
        "print(type(f))"
      ],
      "execution_count": 32,
      "outputs": [
        {
          "output_type": "stream",
          "text": [
            "[10 12 14 16 18]\n",
            "<class 'numpy.ndarray'>\n"
          ],
          "name": "stdout"
        }
      ]
    },
    {
      "cell_type": "code",
      "metadata": {
        "colab": {
          "base_uri": "https://localhost:8080/"
        },
        "id": "qjOrQqWld-P1",
        "outputId": "07cdc7fe-30aa-486f-bfbf-0eaab16faa9d"
      },
      "source": [
        "# a range of floats\n",
        "np.linspace(0, 2, 15) # 15 numbers from 0 to 2"
      ],
      "execution_count": 33,
      "outputs": [
        {
          "output_type": "execute_result",
          "data": {
            "text/plain": [
              "array([0.        , 0.14285714, 0.28571429, 0.42857143, 0.57142857,\n",
              "       0.71428571, 0.85714286, 1.        , 1.14285714, 1.28571429,\n",
              "       1.42857143, 1.57142857, 1.71428571, 1.85714286, 2.        ])"
            ]
          },
          "metadata": {
            "tags": []
          },
          "execution_count": 33
        }
      ]
    },
    {
      "cell_type": "code",
      "metadata": {
        "colab": {
          "base_uri": "https://localhost:8080/"
        },
        "id": "5K6PDEGdeYba",
        "outputId": "7ff3fb75-892d-4ef1-dbc5-a7fd8d578f86"
      },
      "source": [
        "# Array Operations\n",
        "\n",
        "a = np.array([10,20,30,40])\n",
        "b = np.array([1,2,3,4])\n",
        "\n",
        "c = a + b\n",
        "print(c)\n",
        "d = a * b\n",
        "print(d)"
      ],
      "execution_count": 34,
      "outputs": [
        {
          "output_type": "stream",
          "text": [
            "[11 22 33 44]\n",
            "[ 10  40  90 160]\n"
          ],
          "name": "stdout"
        }
      ]
    },
    {
      "cell_type": "code",
      "metadata": {
        "colab": {
          "base_uri": "https://localhost:8080/"
        },
        "id": "g-dD8Ddzc9rQ",
        "outputId": "e7c8cd93-5fa6-4047-ccb4-a8471f034e4f"
      },
      "source": [
        "deg_f = np.array([0,-10,-5,-15,0])\n",
        "deg_c = (deg_f -32) * (5/9)\n",
        "%precision 2\n",
        "print(deg_c)"
      ],
      "execution_count": 35,
      "outputs": [
        {
          "output_type": "stream",
          "text": [
            "[-17.78 -23.33 -20.56 -26.11 -17.78]\n"
          ],
          "name": "stdout"
        }
      ]
    },
    {
      "cell_type": "code",
      "metadata": {
        "colab": {
          "base_uri": "https://localhost:8080/"
        },
        "id": "X8mjCcubhbeD",
        "outputId": "2a116d03-2bab-4807-ce2e-f3f77363220c"
      },
      "source": [
        "# Boolean expressions on NP arrays\n",
        "deg_c > -20"
      ],
      "execution_count": 36,
      "outputs": [
        {
          "output_type": "execute_result",
          "data": {
            "text/plain": [
              "array([ True, False, False, False,  True])"
            ]
          },
          "metadata": {
            "tags": []
          },
          "execution_count": 36
        }
      ]
    },
    {
      "cell_type": "code",
      "metadata": {
        "colab": {
          "base_uri": "https://localhost:8080/"
        },
        "id": "gcVBGGX0exiZ",
        "outputId": "a4af15cc-d58c-4ab1-9af6-a7fbd8ef5f6b"
      },
      "source": [
        "# Matrix Manipulation\n",
        "A = np.array([[1,1],[0,1]]) \n",
        "B = np.array([[2,0],[3,4]])\n",
        "print(A * B)\n",
        "# Matrix Product - Note the '@'\n",
        "print(A@B)"
      ],
      "execution_count": 37,
      "outputs": [
        {
          "output_type": "stream",
          "text": [
            "[[2 0]\n",
            " [0 4]]\n",
            "[[5 4]\n",
            " [3 4]]\n"
          ],
          "name": "stdout"
        }
      ]
    },
    {
      "cell_type": "code",
      "metadata": {
        "id": "T9TvwYZKi7Eo"
      },
      "source": [
        "# Video completed to 8:07 only"
      ],
      "execution_count": 38,
      "outputs": []
    },
    {
      "cell_type": "markdown",
      "metadata": {
        "id": "ErziVvfZjH7C"
      },
      "source": [
        "## Manipulating Text with Regular Expression"
      ]
    },
    {
      "cell_type": "markdown",
      "metadata": {
        "id": "lUBCSVc_jJ2M"
      },
      "source": [
        "Video: https://www.coursera.org/learn/python-data-analysis/lecture/aSuH7/manipulating-text-with-regular-expression\n",
        "\n",
        "AKA Regex. Pattern matching. Returns chunks of text. Why use? To check if pattern exists, or return instances of text, or clean up data. "
      ]
    },
    {
      "cell_type": "code",
      "metadata": {
        "id": "c-gXUKVyjlbg"
      },
      "source": [
        "import re\n",
        "\n",
        "# match() returns a boolean"
      ],
      "execution_count": 39,
      "outputs": []
    },
    {
      "cell_type": "markdown",
      "metadata": {
        "id": "fFJpx0aSrznl"
      },
      "source": [
        "### re.search()"
      ]
    },
    {
      "cell_type": "code",
      "metadata": {
        "colab": {
          "base_uri": "https://localhost:8080/"
        },
        "id": "oJJeRcTCh3Bz",
        "outputId": "180c2f4b-2176-4986-f2a3-b31bad710664"
      },
      "source": [
        "# search returns a boolean\n",
        "\n",
        "text = 'This is a good day'\n",
        "if re.search('good', text):\n",
        "  print('Wonderful!')\n",
        "else:\n",
        "  print('Alas :(')"
      ],
      "execution_count": 40,
      "outputs": [
        {
          "output_type": "stream",
          "text": [
            "Wonderful!\n"
          ],
          "name": "stdout"
        }
      ]
    },
    {
      "cell_type": "markdown",
      "metadata": {
        "id": "7mSQXiuzr6rM"
      },
      "source": [
        "### findall() and split()"
      ]
    },
    {
      "cell_type": "code",
      "metadata": {
        "colab": {
          "base_uri": "https://localhost:8080/"
        },
        "id": "oQPfbHilh6-j",
        "outputId": "25f42e73-9ecf-4ce9-cf1e-c6417f3ee750"
      },
      "source": [
        "# findall() and split() return chunks\n",
        "\n",
        "text = 'Amy works diligently. Amy gets good grades. Our student Amy is successful'\n",
        "print(re.split('Amy', text)) # returns chunks split on 'Amy'\n",
        "print(re.findall('Amy', text))\n",
        "print(len(re.findall('Amy', text))) # number of occurrences"
      ],
      "execution_count": 41,
      "outputs": [
        {
          "output_type": "stream",
          "text": [
            "['', ' works diligently. ', ' gets good grades. Our student ', ' is successful']\n",
            "['Amy', 'Amy', 'Amy']\n",
            "3\n"
          ],
          "name": "stdout"
        }
      ]
    },
    {
      "cell_type": "markdown",
      "metadata": {
        "id": "LObb845esGUE"
      },
      "source": [
        "### Anchors"
      ]
    },
    {
      "cell_type": "code",
      "metadata": {
        "colab": {
          "base_uri": "https://localhost:8080/"
        },
        "id": "ixf9g5q-iBOx",
        "outputId": "77ed4c43-18a1-46b6-f5b5-82999ab27756"
      },
      "source": [
        "# Anchors, ^ = at start, $ = at end\n",
        "\n",
        "print(re.search('^Amy', text)) # returns a re object"
      ],
      "execution_count": 42,
      "outputs": [
        {
          "output_type": "stream",
          "text": [
            "<re.Match object; span=(0, 3), match='Amy'>\n"
          ],
          "name": "stdout"
        }
      ]
    },
    {
      "cell_type": "markdown",
      "metadata": {
        "id": "wFOogQ7ksK3y"
      },
      "source": [
        "### Patterns and Character Classes"
      ]
    },
    {
      "cell_type": "code",
      "metadata": {
        "colab": {
          "base_uri": "https://localhost:8080/"
        },
        "id": "L4xFbl9hiIaD",
        "outputId": "8dbe2905-c454-4a69-d97e-738fb02aaaaa"
      },
      "source": [
        "# Patterns and Character Classes\n",
        "\n",
        "grades = 'ACAAAABCBCBAA'\n",
        "\n",
        "print(re.findall('B', grades)) # ['B', 'B', 'B']\n",
        "\n",
        "# [] are used for options (or)\n",
        "\n",
        "print(re.findall('[BC]', grades)) # ['C', 'B', 'C', 'B', 'C', 'B']\n",
        "\n",
        "print(re.findall('[A][BC]', grades)) # ['AC', 'AB']\n",
        "print(re.findall('[A][B-C]', grades)) # [B-C] is the range from B-C\n",
        "\n",
        "# | = OR\n",
        "\n",
        "print(re.findall('BC|BA', grades)) # ['BC', 'BC', 'BA']\n",
        "\n",
        "# A carat can be used to negate inside of a set operator\n",
        "\n",
        "print(re.findall('[^A]', grades)) # ['C', 'B', 'C', 'B', 'C', 'B']\n",
        "print(re.findall('^[^A]', grades)) # produces [] empty list (starts with A)"
      ],
      "execution_count": 43,
      "outputs": [
        {
          "output_type": "stream",
          "text": [
            "['B', 'B', 'B']\n",
            "['C', 'B', 'C', 'B', 'C', 'B']\n",
            "['AC', 'AB']\n",
            "['AC', 'AB']\n",
            "['BC', 'BC', 'BA']\n",
            "['C', 'B', 'C', 'B', 'C', 'B']\n",
            "[]\n"
          ],
          "name": "stdout"
        }
      ]
    },
    {
      "cell_type": "markdown",
      "metadata": {
        "id": "fjCMVhZ-sQEk"
      },
      "source": [
        "### Quantifiers"
      ]
    },
    {
      "cell_type": "code",
      "metadata": {
        "colab": {
          "base_uri": "https://localhost:8080/"
        },
        "id": "ZgqXppDviS3U",
        "outputId": "fec63b14-4468-48dd-f36b-98806b43f5a5"
      },
      "source": [
        "import re\n",
        "\n",
        "# Quantifiers - number of times e{m,n} e=expression, m=minTimes, n=MaxTimes \n",
        "\n",
        "grades = 'ACAAAABCBCBAA'\n",
        "\n",
        "# streaks of a character\n",
        "print(re.findall('A{2,10}', grades)) # between 2 and 10 A's = ['AAAA', 'AA']\n",
        "print(re.findall('A{1,1}A{1,1}', grades)) # ['AA', 'AA', 'AA']\n",
        "\n",
        "# regex \"consumes\" strings (i.e., characters are not reused)\n",
        "\n",
        "# watching extra space!\n",
        "print(re.findall('A{2,2}', grades)) # ['AA', 'AA', 'AA']\n",
        "print(re.findall('A{2, 2}', grades)) # []\n",
        "\n",
        "# one number in braces is considered min and max\n",
        "\n",
        "print(re.findall('A{2}', grades)) # ['AA', 'AA', 'AA']\n",
        "\n",
        "# * = 0 times\n",
        "# ? = one or more times\n",
        "# + = one or more times\n",
        "# \\w = any pattern of number or character\n",
        "# \\s = any whitespace\n",
        "\n",
        "# remember to re-read in GitHub repository\n",
        "ferpa = '/content/Coursera-Introduction-to-Data-Science-with-Python/resources/week-1/datasets/ferpa.txt'\n",
        "with open(ferpa) as file:\n",
        "  wiki = file.read()\n",
        "\n",
        "# headers in this article look like this: Overview[edit]\n",
        "\n",
        "# -> ['Overview[edit]', 'records[edit]', 'records[edit]']\n",
        "# note that brackets must be escaped\n",
        "print(re.findall('[a-z|A-Z]{1,100}\\[edit\\]', wiki))\n",
        "\n",
        "# equivalent of previous example (with \\w) Note: [\\w] = [a-z|A-Z] \n",
        "print(re.findall('[\\w]{1,100}\\[edit\\]', wiki))\n",
        "\n",
        "# equivalent again! (with *)\n",
        "print(re.findall('[\\w]*\\[edit\\]', wiki))\n",
        "\n",
        "# now let's include spaces to get entire headers\n",
        "print(re.findall('[\\w ]*\\[edit\\]', wiki)) # ['Overview[edit]', 'Access to public records[edit]', 'Student medical records[edit]']\n",
        "\n",
        "# Let's extract the titles, splitting on the '[' at the beginning of [edit]\n",
        "print('=== Titles ===')\n",
        "for title in re.findall('[\\w ]*\\[edit\\]', wiki):\n",
        "  print(re.split('[\\[]', title)[0])"
      ],
      "execution_count": 44,
      "outputs": [
        {
          "output_type": "stream",
          "text": [
            "['AAAA', 'AA']\n",
            "['AA', 'AA', 'AA']\n",
            "['AA', 'AA', 'AA']\n",
            "[]\n",
            "['AA', 'AA', 'AA']\n",
            "['Overview[edit]', 'records[edit]', 'records[edit]']\n",
            "['Overview[edit]', 'records[edit]', 'records[edit]']\n",
            "['Overview[edit]', 'records[edit]', 'records[edit]']\n",
            "['Overview[edit]', 'Access to public records[edit]', 'Student medical records[edit]']\n",
            "=== Titles ===\n",
            "Overview\n",
            "Access to public records\n",
            "Student medical records\n"
          ],
          "name": "stdout"
        }
      ]
    },
    {
      "cell_type": "markdown",
      "metadata": {
        "id": "4dogZ2AGsWbJ"
      },
      "source": [
        "### Groups"
      ]
    },
    {
      "cell_type": "code",
      "metadata": {
        "colab": {
          "base_uri": "https://localhost:8080/"
        },
        "id": "J5m-GkokRKDm",
        "outputId": "59fa2dd7-60b8-454d-84b8-aa0a1ea89975"
      },
      "source": [
        "# Groups\n",
        "\n",
        "# Let's improve upone the previous example by creating groups (in parentheses)\n",
        "# item.groups() returns a tuple of each group item\n",
        "# group(0) is the entire item, group(1) is first, etc.\n",
        "\n",
        "print('=== Old way ===')\n",
        "print(re.findall('[\\w ]*\\[edit\\]', wiki))\n",
        "\n",
        "print('=== item.groups() ===')\n",
        "for item in re.finditer('([\\w ]*)(\\[edit\\])', wiki):\n",
        "  print(item.groups())\n",
        "\n",
        "print('=== item.group(1) ===')\n",
        "for item in re.finditer('([\\w ]*)(\\[edit\\])', wiki):\n",
        "  print(item.group(1))\n",
        "\n",
        "# groups can be named with ?P<name> and use of groupdict()[]\n",
        "\n",
        "print('=== named with ?P<name> ===')\n",
        "for item in re.finditer('(?P<title>[\\w ]*)(?P<edit_link>\\[edit\\])', wiki):\n",
        "  print(item.groupdict()['title'])\n",
        "\n",
        "print('=== groupdict() ===')\n",
        "for item in re.finditer('(?P<title>[\\w ]*)(?P<edit_link>\\[edit\\])', wiki):\n",
        "  print(item.groupdict())\n",
        "\n",
        "# . = single character\n",
        "# /d = digit\n",
        "# /s = white space"
      ],
      "execution_count": 45,
      "outputs": [
        {
          "output_type": "stream",
          "text": [
            "=== Old way ===\n",
            "['Overview[edit]', 'Access to public records[edit]', 'Student medical records[edit]']\n",
            "=== item.groups() ===\n",
            "('Overview', '[edit]')\n",
            "('Access to public records', '[edit]')\n",
            "('Student medical records', '[edit]')\n",
            "=== item.group(1) ===\n",
            "Overview\n",
            "Access to public records\n",
            "Student medical records\n",
            "=== named with ?P<name> ===\n",
            "Overview\n",
            "Access to public records\n",
            "Student medical records\n",
            "=== groupdict() ===\n",
            "{'title': 'Overview', 'edit_link': '[edit]'}\n",
            "{'title': 'Access to public records', 'edit_link': '[edit]'}\n",
            "{'title': 'Student medical records', 'edit_link': '[edit]'}\n"
          ],
          "name": "stdout"
        }
      ]
    },
    {
      "cell_type": "markdown",
      "metadata": {
        "id": "wQqsOpSesbcU"
      },
      "source": [
        "### Look-ahead and Look-behind (stuff to ignore)"
      ]
    },
    {
      "cell_type": "code",
      "metadata": {
        "colab": {
          "base_uri": "https://localhost:8080/"
        },
        "id": "EKyWCFSAkERi",
        "outputId": "207e9721-c56e-4391-fe11-7bc530f7f921"
      },
      "source": [
        "# Look-ahead and Look-behind with ?=\n",
        "# This example ignores [edit]\n",
        "\n",
        "for item in re.finditer('(?P<title>[\\w ]+)(?=\\[edit\\])', wiki):\n",
        "  print(item)"
      ],
      "execution_count": 46,
      "outputs": [
        {
          "output_type": "stream",
          "text": [
            "<re.Match object; span=(0, 8), match='Overview'>\n",
            "<re.Match object; span=(2715, 2739), match='Access to public records'>\n",
            "<re.Match object; span=(3692, 3715), match='Student medical records'>\n"
          ],
          "name": "stdout"
        }
      ]
    },
    {
      "cell_type": "markdown",
      "metadata": {
        "id": "3Rtr_LrisgGl"
      },
      "source": [
        "### Example : Wikipedia Data"
      ]
    },
    {
      "cell_type": "code",
      "metadata": {
        "colab": {
          "base_uri": "https://localhost:8080/"
        },
        "id": "IkXtAjywl093",
        "outputId": "cf47cb41-4b9c-4244-cc05-7411099921ab"
      },
      "source": [
        "# Example : Wikipedia Data\n",
        "\n",
        "import re\n",
        "\n",
        "file = '/content/Coursera-Introduction-to-Data-Science-with-Python/resources/week-1/datasets/buddhist.txt'\n",
        "with open(file) as f:\n",
        "  wiki = f.read()\n",
        "\n",
        "# print(wiki[:1000])\n",
        "\n",
        "pattern = \"\"\"\n",
        "(?P<title>.*)       # the university title\n",
        "(–\\ located\\ in\\ )  # an indicator of the location (Note: copy correct dash type!)\n",
        "(?P<city>\\w*)       # city the university is in\n",
        "(,\\ )               # separator for the state\n",
        "(?P<state>\\w*)      # the state the university is located in\n",
        "\"\"\"\n",
        "\n",
        "print('=== re.finditer(pattern, wiki, re.VERBOSE) ===')\n",
        "for item in re.finditer(pattern, wiki, re.VERBOSE):\n",
        "  print(item.groupdict())"
      ],
      "execution_count": 47,
      "outputs": [
        {
          "output_type": "stream",
          "text": [
            "=== re.finditer(pattern, wiki, re.VERBOSE) ===\n",
            "{'title': 'Dhammakaya Open University ', 'city': 'Azusa', 'state': 'California'}\n",
            "{'title': 'Dharmakirti College ', 'city': 'Tucson', 'state': 'Arizona'}\n",
            "{'title': 'Dharma Realm Buddhist University ', 'city': 'Ukiah', 'state': 'California'}\n",
            "{'title': 'Ewam Buddhist Institute ', 'city': 'Arlee', 'state': 'Montana'}\n",
            "{'title': 'Institute of Buddhist Studies ', 'city': 'Berkeley', 'state': 'California'}\n",
            "{'title': 'Maitripa College ', 'city': 'Portland', 'state': 'Oregon'}\n",
            "{'title': 'University of the West ', 'city': 'Rosemead', 'state': 'California'}\n",
            "{'title': 'Won Institute of Graduate Studies ', 'city': 'Glenside', 'state': 'Pennsylvania'}\n"
          ],
          "name": "stdout"
        }
      ]
    },
    {
      "cell_type": "markdown",
      "metadata": {
        "id": "s4c0oAGaWwXQ"
      },
      "source": [
        "### Example: New York Times and Hashtags"
      ]
    },
    {
      "cell_type": "code",
      "metadata": {
        "colab": {
          "base_uri": "https://localhost:8080/"
        },
        "id": "o0QbkHmxqgVY",
        "outputId": "b5917ced-4f97-4e3e-9fc3-a7234d391d33"
      },
      "source": [
        "# Example: New York Times and Hashtags\n",
        "\n",
        "file = '/content/Coursera-Introduction-to-Data-Science-with-Python/resources/week-1/datasets/nytimeshealth.txt'\n",
        "with open(file) as f:\n",
        "  health = f.read()\n",
        "\n",
        "print('=== health[:500] ===')\n",
        "print(health[:500])\n",
        "\n",
        "# let's grab hashtags\n",
        "\n",
        "pattern = '#[\\w\\d]*(?=\\s)'\n",
        "\n",
        "print(re.findall(pattern, health))\n",
        "print(set(re.findall(pattern, health))) # get rid of dupes\n"
      ],
      "execution_count": 48,
      "outputs": [
        {
          "output_type": "stream",
          "text": [
            "=== health[:500] ===\n",
            "548662191340421120|Sat Dec 27 02:10:34 +0000 2014|Risks in Using Social Media to Spot Signs of Mental Distress http://nyti.ms/1rqi9I1\n",
            "548579831169163265|Fri Dec 26 20:43:18 +0000 2014|RT @paula_span: The most effective nationwide diabetes prevention program you've probably never heard of:  http://newoldage.blogs.nytimes.com/2014/12/26/diabetes-prevention-that-works/\n",
            "548579045269852161|Fri Dec 26 20:40:11 +0000 2014|The New Old Age Blog: Diabetes Prevention That Works http://nyti.ms/1xm7fTi\n",
            "54844\n",
            "['#askwell', '#pregnancy', '#Colorado', '#VegetarianThanksgiving', '#FallPrevention', '#Ebola', '#Ebola', '#ebola', '#Ebola', '#Ebola', '#EbolaHysteria', '#AskNYT', '#Ebola', '#Ebola', '#Liberia', '#Excalibur', '#ebola', '#Ebola', '#dallas', '#nobelprize2014', '#ebola', '#ebola', '#monrovia', '#ebola', '#nobelprize2014', '#ebola', '#nobelprize2014', '#Medicine', '#Ebola', '#Monrovia', '#Ebola', '#smell', '#Ebola', '#Ebola', '#Ebola', '#Monrovia', '#Ebola', '#ebola', '#monrovia', '#liberia', '#benzos', '#ClimateChange', '#Whole', '#Wheat', '#Focaccia', '#Tomatoes', '#Olives', '#Recipes', '#Health', '#Ebola', '#Monrovia', '#Liberia', '#Ebola', '#Ebola', '#Liberia', '#Ebola', '#blood', '#Ebola', '#organtrafficking', '#EbolaOutbreak', '#SierraLeone', '#Freetown', '#SierraLeone', '#ebolaoutbreak', '#kenema', '#ebola', '#Ebola', '#ebola', '#ebola', '#Ebola', '#ASMR', '#AIDS2014', '#AIDS', '#MH17', '#benzos']\n",
            "{'#ebola', '#organtrafficking', '#Focaccia', '#AIDS2014', '#ClimateChange', '#Freetown', '#kenema', '#liberia', '#Medicine', '#MH17', '#ASMR', '#Monrovia', '#pregnancy', '#Liberia', '#AskNYT', '#SierraLeone', '#AIDS', '#Excalibur', '#Whole', '#VegetarianThanksgiving', '#Ebola', '#Wheat', '#Olives', '#EbolaOutbreak', '#benzos', '#blood', '#smell', '#nobelprize2014', '#askwell', '#FallPrevention', '#dallas', '#Health', '#Recipes', '#Tomatoes', '#Colorado', '#EbolaHysteria', '#monrovia', '#ebolaoutbreak'}\n"
          ],
          "name": "stdout"
        }
      ]
    },
    {
      "cell_type": "markdown",
      "metadata": {
        "id": "Cmt6KDQqjT0d"
      },
      "source": [
        "## Regular Expression Operations Documentation"
      ]
    },
    {
      "cell_type": "markdown",
      "metadata": {
        "id": "4rvEvATRjg7R"
      },
      "source": [
        "See https://docs.python.org/3/library/re.html"
      ]
    },
    {
      "cell_type": "markdown",
      "metadata": {
        "id": "n5C0H29ejoww"
      },
      "source": [
        "## Regular Expressions Debugging"
      ]
    },
    {
      "cell_type": "markdown",
      "metadata": {
        "id": "jAY2PZzDjqlR"
      },
      "source": [
        "See https://regex101.com/"
      ]
    },
    {
      "cell_type": "markdown",
      "metadata": {
        "id": "n4i7XW06L1LI"
      },
      "source": [
        "# Week 2: Basic Data Processing with Pandas\n",
        "\n"
      ]
    },
    {
      "cell_type": "markdown",
      "metadata": {
        "id": "Wg0l5qBVL_Wt"
      },
      "source": [
        "Week 2: https://www.coursera.org/learn/python-data-analysis/home/week/2\n",
        "\n",
        "Discussion Forum: https://www.coursera.org/learn/python-data-analysis/discussions/weeks/2\n",
        "\n",
        "In this week of the course you'll learn the fundamentals of one of the most important toolkits Python has for data cleaning and processing -- pandas. You'll learn how to read in data into DataFrame structures, how to query these structures, and the details about such structures are indexed.\n",
        "\n",
        "Learning Objectives\n",
        "- Demonstrate how the series class builds on top of numpy datatypes\n",
        "- Remember that the series class is a numpy array\n",
        "- Demonstrate the basics of how to query a series structure\n",
        "- Remember the dataframe as the principle data science structure\n",
        "- Define the various features of a dataframe\n",
        "- Demonstrate what an axis is in relation to dataframes\n",
        "- Demonstrate the difference between the series and dataframe classes\n",
        "- Create and use pandas DataFrames to represent raw data"
      ]
    },
    {
      "cell_type": "markdown",
      "metadata": {
        "id": "eZO9J4enNJbt"
      },
      "source": [
        "## Week 2 Reading Assignments\n",
        "\n",
        "Course Textbook\n",
        "[Python for Data Analysis](https://wesmckinney.com/pages/book.html) by Wes McKinney (O’Reilly). Copyright 2017 Wes McKinney, 978-1-491-95766-0.\n",
        "\n",
        "- Chapter Five: Getting started with pandas\n",
        "- Chapter Seven: Data Cleaning and Preparation"
      ]
    },
    {
      "cell_type": "markdown",
      "metadata": {
        "id": "4O7a3C3HNs5m"
      },
      "source": [
        "## Introduction to Pandas\n",
        "\n",
        "Video: https://www.coursera.org/learn/python-data-analysis/lecture/khJPQ/introduction-to-pandas\n",
        "\n",
        "Stack Overflow Reference: https://stackoverflow.com/questions/tagged/pandas\n",
        "\n",
        "Open Source, created in 2008 by Wes McKinney (the same author as the referece book)\n",
        "\n",
        "See https://planetpython.org/ \n",
        "\n"
      ]
    },
    {
      "cell_type": "markdown",
      "metadata": {
        "id": "iSrzd8l3adOf"
      },
      "source": [
        "## The Series Data Structure\n"
      ]
    },
    {
      "cell_type": "markdown",
      "metadata": {
        "id": "cUzWBO2jamD8"
      },
      "source": [
        "Video: https://www.coursera.org/learn/python-data-analysis/lecture/lhVO7/the-series-data-structure\n",
        "\n"
      ]
    },
    {
      "cell_type": "code",
      "metadata": {
        "colab": {
          "base_uri": "https://localhost:8080/"
        },
        "id": "mmfYGw-DNo_w",
        "outputId": "5559f736-a31a-4fd5-e79d-4492a99825f6"
      },
      "source": [
        "import pandas as pd\n",
        "\n",
        "students = ['Alice', 'Jack', 'Molly']\n",
        "pd.Series(students)"
      ],
      "execution_count": 49,
      "outputs": [
        {
          "output_type": "execute_result",
          "data": {
            "text/plain": [
              "0    Alice\n",
              "1     Jack\n",
              "2    Molly\n",
              "dtype: object"
            ]
          },
          "metadata": {
            "tags": []
          },
          "execution_count": 49
        }
      ]
    },
    {
      "cell_type": "code",
      "metadata": {
        "colab": {
          "base_uri": "https://localhost:8080/"
        },
        "id": "I_x55_CCbKVg",
        "outputId": "007f7c3d-cac6-4569-fc1d-d21bd6339d46"
      },
      "source": [
        "numbers = [1, 2, 3]\n",
        "pd.Series(numbers)"
      ],
      "execution_count": 50,
      "outputs": [
        {
          "output_type": "execute_result",
          "data": {
            "text/plain": [
              "0    1\n",
              "1    2\n",
              "2    3\n",
              "dtype: int64"
            ]
          },
          "metadata": {
            "tags": []
          },
          "execution_count": 50
        }
      ]
    },
    {
      "cell_type": "code",
      "metadata": {
        "colab": {
          "base_uri": "https://localhost:8080/"
        },
        "id": "Owecyub-bjKy",
        "outputId": "cef86bc5-bc5c-49ce-e802-c0dab18722fb"
      },
      "source": [
        "students = ['Alice', 'Jack', None]\n",
        "pd.Series(students)"
      ],
      "execution_count": 51,
      "outputs": [
        {
          "output_type": "execute_result",
          "data": {
            "text/plain": [
              "0    Alice\n",
              "1     Jack\n",
              "2     None\n",
              "dtype: object"
            ]
          },
          "metadata": {
            "tags": []
          },
          "execution_count": 51
        }
      ]
    },
    {
      "cell_type": "code",
      "metadata": {
        "colab": {
          "base_uri": "https://localhost:8080/"
        },
        "id": "Yu0Bw2JabpWQ",
        "outputId": "080e2884-60e4-45d7-f727-a7d3eca97cf0"
      },
      "source": [
        "numbers = [1, 2, None]\n",
        "pd.Series(numbers)"
      ],
      "execution_count": 52,
      "outputs": [
        {
          "output_type": "execute_result",
          "data": {
            "text/plain": [
              "0    1.0\n",
              "1    2.0\n",
              "2    NaN\n",
              "dtype: float64"
            ]
          },
          "metadata": {
            "tags": []
          },
          "execution_count": 52
        }
      ]
    },
    {
      "cell_type": "code",
      "metadata": {
        "colab": {
          "base_uri": "https://localhost:8080/"
        },
        "id": "s_PsKH1tNVL9",
        "outputId": "67022392-f25d-41a5-8b84-1014f4158ed4"
      },
      "source": [
        "import numpy as np\n",
        "\n",
        "print(np.nan == None) # False\n",
        "print(np.nan == np.nan) # False (what?!! You can't do an equiality test to NaN...)\n",
        "print(np.isnan(np.nan)) # True (this works this way)"
      ],
      "execution_count": 53,
      "outputs": [
        {
          "output_type": "stream",
          "text": [
            "False\n",
            "False\n",
            "True\n"
          ],
          "name": "stdout"
        }
      ]
    },
    {
      "cell_type": "code",
      "metadata": {
        "colab": {
          "base_uri": "https://localhost:8080/"
        },
        "id": "aC2rBGjCOG1W",
        "outputId": "a3bf844e-3aa8-4b8c-99c7-20d7087fb3cf"
      },
      "source": [
        "import pandas as pd\n",
        "\n",
        "student_scores = {'Alice': 'Physics',\n",
        "                  'Jack': 'Chemistry',\n",
        "                  'MOlly': 'English'}\n",
        "\n",
        "s = pd.Series(student_scores)\n",
        "print(s)"
      ],
      "execution_count": 54,
      "outputs": [
        {
          "output_type": "stream",
          "text": [
            "Alice      Physics\n",
            "Jack     Chemistry\n",
            "MOlly      English\n",
            "dtype: object\n"
          ],
          "name": "stdout"
        }
      ]
    },
    {
      "cell_type": "code",
      "metadata": {
        "colab": {
          "base_uri": "https://localhost:8080/"
        },
        "id": "RxVLBf6YOoJ_",
        "outputId": "b04499e0-5419-4e8a-8b62-21a6f36b41c1"
      },
      "source": [
        "print(s.index)"
      ],
      "execution_count": 55,
      "outputs": [
        {
          "output_type": "stream",
          "text": [
            "Index(['Alice', 'Jack', 'MOlly'], dtype='object')\n"
          ],
          "name": "stdout"
        }
      ]
    },
    {
      "cell_type": "code",
      "metadata": {
        "colab": {
          "base_uri": "https://localhost:8080/"
        },
        "id": "qus2Zs7mOw78",
        "outputId": "45e433db-0840-40ef-f720-0cf5f6c4f5b6"
      },
      "source": [
        "students = [('Alice', 'Brown'), ('Jack', 'White'), ('Molly', 'Green')] # list of Tuples\n",
        "print(pd.Series(students))"
      ],
      "execution_count": 56,
      "outputs": [
        {
          "output_type": "stream",
          "text": [
            "0    (Alice, Brown)\n",
            "1     (Jack, White)\n",
            "2    (Molly, Green)\n",
            "dtype: object\n"
          ],
          "name": "stdout"
        }
      ]
    },
    {
      "cell_type": "code",
      "metadata": {
        "colab": {
          "base_uri": "https://localhost:8080/"
        },
        "id": "4Fz0_EgnWPsg",
        "outputId": "5f0ed375-93c6-4fcb-ae09-96f232841208"
      },
      "source": [
        "s = pd.Series(['Physics', 'Chemistry', 'English'], index = ['Alice', 'Jack', 'Molly'])\n",
        "print(s)"
      ],
      "execution_count": 57,
      "outputs": [
        {
          "output_type": "stream",
          "text": [
            "Alice      Physics\n",
            "Jack     Chemistry\n",
            "Molly      English\n",
            "dtype: object\n"
          ],
          "name": "stdout"
        }
      ]
    },
    {
      "cell_type": "code",
      "metadata": {
        "colab": {
          "base_uri": "https://localhost:8080/"
        },
        "id": "El6csOqOWkz0",
        "outputId": "87dc6098-9cd8-4531-c73a-7831ea47b237"
      },
      "source": [
        "# What happens when series doesn't agree with index? NaN\n",
        "student_scores = {'Alice': 'Physics',\n",
        "                  'Jack': 'Chemistry',\n",
        "                  'Molly': 'English'}\n",
        "s = pd.Series(student_scores, index = ['Alice', 'Molly', 'Sam'])\n",
        "print(s)"
      ],
      "execution_count": 58,
      "outputs": [
        {
          "output_type": "stream",
          "text": [
            "Alice    Physics\n",
            "Molly    English\n",
            "Sam          NaN\n",
            "dtype: object\n"
          ],
          "name": "stdout"
        }
      ]
    },
    {
      "cell_type": "markdown",
      "metadata": {
        "id": "jerZBdyEXXWd"
      },
      "source": [
        "## Querying a Series"
      ]
    },
    {
      "cell_type": "markdown",
      "metadata": {
        "id": "OA_-AATVXZ-c"
      },
      "source": [
        "Video: https://www.coursera.org/learn/python-data-analysis/lecture/3Fk9W/querying-a-series\n",
        "\n",
        "Can query by index position (iloc) or index label (loc).\n",
        "\n",
        "What does the term “broadcasting” mean in Pandas documentation?\n",
        "https://stackoverflow.com/questions/29954263/what-does-the-term-broadcasting-mean-in-pandas-documentation\n"
      ]
    },
    {
      "cell_type": "code",
      "metadata": {
        "colab": {
          "base_uri": "https://localhost:8080/"
        },
        "id": "wwXt8tXKWk6e",
        "outputId": "f08ae171-d32d-4953-baeb-984b4972fd2e"
      },
      "source": [
        "import pandas as pd\n",
        "\n",
        "student_classes = pd.Series(['Physics', 'Chemistry', 'English', 'History'], index = ['Alice', 'Jack', 'Molly', 'Sam'])\n",
        "s = pd.Series(student_classes)\n",
        "print(s)\n"
      ],
      "execution_count": 59,
      "outputs": [
        {
          "output_type": "stream",
          "text": [
            "Alice      Physics\n",
            "Jack     Chemistry\n",
            "Molly      English\n",
            "Sam        History\n",
            "dtype: object\n"
          ],
          "name": "stdout"
        }
      ]
    },
    {
      "cell_type": "code",
      "metadata": {
        "colab": {
          "base_uri": "https://localhost:8080/"
        },
        "id": "JQrJkWLtXmYb",
        "outputId": "9ab28650-81b3-49a6-c007-cf1df4deb3c8"
      },
      "source": [
        "print(s.iloc[3]) # index #3"
      ],
      "execution_count": 60,
      "outputs": [
        {
          "output_type": "stream",
          "text": [
            "History\n"
          ],
          "name": "stdout"
        }
      ]
    },
    {
      "cell_type": "code",
      "metadata": {
        "colab": {
          "base_uri": "https://localhost:8080/"
        },
        "id": "OtLdfMRTWk_6",
        "outputId": "543ab52c-4f9d-451a-ecfc-2ee06d888c7f"
      },
      "source": [
        "print(s.loc['Molly']) # index 'Molly'"
      ],
      "execution_count": 61,
      "outputs": [
        {
          "output_type": "stream",
          "text": [
            "English\n"
          ],
          "name": "stdout"
        }
      ]
    },
    {
      "cell_type": "code",
      "metadata": {
        "colab": {
          "base_uri": "https://localhost:8080/"
        },
        "id": "J3ZizDbyYrIO",
        "outputId": "95d91f96-8cdd-4a46-ab9a-12b4e8da13cf"
      },
      "source": [
        "print(s[0])     # both work! \n",
        "print(s['Alice'])"
      ],
      "execution_count": 62,
      "outputs": [
        {
          "output_type": "stream",
          "text": [
            "Physics\n",
            "Physics\n"
          ],
          "name": "stdout"
        }
      ]
    },
    {
      "cell_type": "code",
      "metadata": {
        "colab": {
          "base_uri": "https://localhost:8080/"
        },
        "id": "-07X2L2bY2w-",
        "outputId": "ad61574a-c97d-40f1-d7b7-230997e1ec7b"
      },
      "source": [
        "class_code = {99: 'Physics',\n",
        "              100: 'Chemistry',\n",
        "              101: 'English',\n",
        "              102: 'History'}\n",
        "# print(class_code[0]) # won't work in this case because indices are numbers\n",
        "print(class_code[99]) # works"
      ],
      "execution_count": 63,
      "outputs": [
        {
          "output_type": "stream",
          "text": [
            "Physics\n"
          ],
          "name": "stdout"
        }
      ]
    },
    {
      "cell_type": "code",
      "metadata": {
        "colab": {
          "base_uri": "https://localhost:8080/"
        },
        "id": "ezzIhGTsZmkh",
        "outputId": "a330da6e-af31-435e-fe7b-547db6ea44ed"
      },
      "source": [
        "# iterate over list - long way\n",
        "\n",
        "grades = pd.Series([90, 80, 70, 60])\n",
        "\n",
        "total = 0\n",
        "for grade in grades:\n",
        "  total += grade\n",
        "print(total/len(grades))"
      ],
      "execution_count": 64,
      "outputs": [
        {
          "output_type": "stream",
          "text": [
            "75.0\n"
          ],
          "name": "stdout"
        }
      ]
    },
    {
      "cell_type": "code",
      "metadata": {
        "colab": {
          "base_uri": "https://localhost:8080/"
        },
        "id": "tD3kHtataHV6",
        "outputId": "19a1863b-c1d9-464d-97cf-5ff63ae58e98"
      },
      "source": [
        "# iterate over list - better way\n",
        "\n",
        "import numpy as np\n",
        "\n",
        "total = np.sum(grades)\n",
        "print(total / len(grades))"
      ],
      "execution_count": 65,
      "outputs": [
        {
          "output_type": "stream",
          "text": [
            "75.0\n"
          ],
          "name": "stdout"
        }
      ]
    },
    {
      "cell_type": "code",
      "metadata": {
        "colab": {
          "base_uri": "https://localhost:8080/"
        },
        "id": "ZlpkdOVKa35P",
        "outputId": "db86499b-8e6e-4174-9cbd-b99762d2bc64"
      },
      "source": [
        "# Let's set up to time the different methods to show which is faster\n",
        "\n",
        "numbers = pd.Series(np.random.randint(0, 1000, 10000))\n",
        "print(len(numbers))\n",
        "print(numbers.head())"
      ],
      "execution_count": 66,
      "outputs": [
        {
          "output_type": "stream",
          "text": [
            "10000\n",
            "0     34\n",
            "1    586\n",
            "2    333\n",
            "3     48\n",
            "4    585\n",
            "dtype: int64\n"
          ],
          "name": "stdout"
        }
      ]
    },
    {
      "cell_type": "code",
      "metadata": {
        "colab": {
          "base_uri": "https://localhost:8080/"
        },
        "id": "QGlZELy_aE5I",
        "outputId": "db1146da-005e-44bb-acc7-dedcc29329ba"
      },
      "source": [
        "%%timeit -n100\n",
        "\n",
        "# iterative way\n",
        "\n",
        "total = 0\n",
        "for number in numbers:\n",
        "  total += number\n",
        "total / len(numbers)"
      ],
      "execution_count": 67,
      "outputs": [
        {
          "output_type": "stream",
          "text": [
            "100 loops, best of 5: 1.29 ms per loop\n"
          ],
          "name": "stdout"
        }
      ]
    },
    {
      "cell_type": "code",
      "metadata": {
        "colab": {
          "base_uri": "https://localhost:8080/"
        },
        "id": "wpejmtWAbcAp",
        "outputId": "03ec7621-38b0-466a-a166-4e0d0ad8884b"
      },
      "source": [
        "%%timeit -n100\n",
        "\n",
        "# better way - way faster! (uses numpy broadcasting)\n",
        "\n",
        "total = np.sum(numbers)\n",
        "total/len(numbers)"
      ],
      "execution_count": 68,
      "outputs": [
        {
          "output_type": "stream",
          "text": [
            "100 loops, best of 5: 66.3 µs per loop\n"
          ],
          "name": "stdout"
        }
      ]
    },
    {
      "cell_type": "code",
      "metadata": {
        "colab": {
          "base_uri": "https://localhost:8080/"
        },
        "id": "hbBv76UsiL8J",
        "outputId": "e542cdf3-2e83-4aab-8e34-a76e18fe3c62"
      },
      "source": [
        "print(numbers.head())"
      ],
      "execution_count": 69,
      "outputs": [
        {
          "output_type": "stream",
          "text": [
            "0     34\n",
            "1    586\n",
            "2    333\n",
            "3     48\n",
            "4    585\n",
            "dtype: int64\n"
          ],
          "name": "stdout"
        }
      ]
    },
    {
      "cell_type": "code",
      "metadata": {
        "colab": {
          "base_uri": "https://localhost:8080/"
        },
        "id": "v5BXDtpjidQx",
        "outputId": "1ab0ccd8-3136-407c-9584-e8a00d086468"
      },
      "source": [
        "# let's add 2 to all items\n",
        "numbers += 2 # works fast on a np.Series! \n",
        "print(numbers.head())"
      ],
      "execution_count": 70,
      "outputs": [
        {
          "output_type": "stream",
          "text": [
            "0     36\n",
            "1    588\n",
            "2    335\n",
            "3     50\n",
            "4    587\n",
            "dtype: int64\n"
          ],
          "name": "stdout"
        }
      ]
    },
    {
      "cell_type": "code",
      "metadata": {
        "colab": {
          "base_uri": "https://localhost:8080/"
        },
        "id": "Ejj1g8NKi1bq",
        "outputId": "8d2a4924-c148-4529-a815-2421a0b95a50"
      },
      "source": [
        "%%timeit n=10\n",
        "\n",
        "# slow iterative approach\n",
        "\n",
        "s = pd.Series(np.random.randint(0, 1000, 10000))\n",
        "for label, value in s.iteritems():\n",
        "  s.loc[label] = value + 2"
      ],
      "execution_count": 71,
      "outputs": [
        {
          "output_type": "stream",
          "text": [
            "1 loop, best of 5: 482 ms per loop\n"
          ],
          "name": "stdout"
        }
      ]
    },
    {
      "cell_type": "code",
      "metadata": {
        "colab": {
          "base_uri": "https://localhost:8080/"
        },
        "id": "3M3mYVosjWgS",
        "outputId": "10aa319b-e9d4-4e1a-9f92-a04487bcfc6d"
      },
      "source": [
        "%%timeit -n10\n",
        "\n",
        "# waaaay faster way!\n",
        "\n",
        "s = pd.Series(np.random.randint(0, 1000, 10000))\n",
        "s += 2\n"
      ],
      "execution_count": 72,
      "outputs": [
        {
          "output_type": "stream",
          "text": [
            "10 loops, best of 5: 320 µs per loop\n"
          ],
          "name": "stdout"
        }
      ]
    },
    {
      "cell_type": "code",
      "metadata": {
        "colab": {
          "base_uri": "https://localhost:8080/"
        },
        "id": "x_4Q0u4wLhH0",
        "outputId": "b35af6c2-7d75-4017-ed92-96439fadda41"
      },
      "source": [
        "s = pd.Series([1,2,3])\n",
        "s.loc['History'] = 102 # add new index. Not a problem\n",
        "print(s)"
      ],
      "execution_count": 73,
      "outputs": [
        {
          "output_type": "stream",
          "text": [
            "0            1\n",
            "1            2\n",
            "2            3\n",
            "History    102\n",
            "dtype: int64\n"
          ],
          "name": "stdout"
        }
      ]
    },
    {
      "cell_type": "code",
      "metadata": {
        "colab": {
          "base_uri": "https://localhost:8080/"
        },
        "id": "qvhh5DkgW9W8",
        "outputId": "7f816f18-ec2c-4969-fa4b-dcb176b74b66"
      },
      "source": [
        "# unique indexes\n",
        "students_classes = pd.Series({'Alice': 'Physics',\n",
        "                              'Jack': 'Chemistry',\n",
        "                              'Molly': 'English',\n",
        "                              'Sam': 'History'})\n",
        "print(student_classes)"
      ],
      "execution_count": 74,
      "outputs": [
        {
          "output_type": "stream",
          "text": [
            "Alice      Physics\n",
            "Jack     Chemistry\n",
            "Molly      English\n",
            "Sam        History\n",
            "dtype: object\n"
          ],
          "name": "stdout"
        }
      ]
    },
    {
      "cell_type": "code",
      "metadata": {
        "colab": {
          "base_uri": "https://localhost:8080/"
        },
        "id": "18DPdSXfXY6T",
        "outputId": "6707eb45-2ccd-4b5a-80a5-5ffbd16a4171"
      },
      "source": [
        "# identtical indexes\n",
        "kelly_classes = pd.Series(['Philosophy', 'Arts', 'Math'], index = ['Kelly', 'Kelly', 'Kelly'])\n",
        "print(kelly_classes)"
      ],
      "execution_count": 75,
      "outputs": [
        {
          "output_type": "stream",
          "text": [
            "Kelly    Philosophy\n",
            "Kelly          Arts\n",
            "Kelly          Math\n",
            "dtype: object\n"
          ],
          "name": "stdout"
        }
      ]
    },
    {
      "cell_type": "code",
      "metadata": {
        "colab": {
          "base_uri": "https://localhost:8080/"
        },
        "id": "Ao4r5Op5X3BF",
        "outputId": "6aaaf8e2-1b31-43a6-fc43-507f3ee5463b"
      },
      "source": [
        "# merge the dissimilar Series - not a problem!\n",
        "# Pandas always does its best to merge series\n",
        "all_students_classes = students_classes.append(kelly_classes)\n",
        "print(all_students_classes)"
      ],
      "execution_count": 76,
      "outputs": [
        {
          "output_type": "stream",
          "text": [
            "Alice       Physics\n",
            "Jack      Chemistry\n",
            "Molly       English\n",
            "Sam         History\n",
            "Kelly    Philosophy\n",
            "Kelly          Arts\n",
            "Kelly          Math\n",
            "dtype: object\n"
          ],
          "name": "stdout"
        }
      ]
    },
    {
      "cell_type": "markdown",
      "metadata": {
        "id": "afFXpsaKYmLM"
      },
      "source": [
        "## DataFrame Data Structure\n"
      ]
    },
    {
      "cell_type": "markdown",
      "metadata": {
        "id": "flFr-evkYqUF"
      },
      "source": [
        "Video: https://www.coursera.org/learn/python-data-analysis/lecture/J8MzB/dataframe-data-structure\n",
        "\n",
        "Dataframes are the heart of the panda library. A 2-dimensional series, with an index and multiple columns of data."
      ]
    },
    {
      "cell_type": "code",
      "metadata": {
        "id": "LgDHh6rOYj-Z"
      },
      "source": [
        "import pandas as pd\n",
        "\n",
        "# let's set up some data to use (multiple dictionaries)\n",
        "\n",
        "record1 = pd.Series({'Name': 'Alice',\n",
        "                     'Class': 'Physics',\n",
        "                     'Score': 85})\n",
        "record2 = pd.Series({'Name': 'Jack',\n",
        "                     'Class': 'Chemistry',\n",
        "                     'Score': 82})\n",
        "record3 = pd.Series({'Name': 'Helen',\n",
        "                     'Class': 'Biology',\n",
        "                     'Score': 90})\n",
        "\n",
        "df = pd.DataFrame([record1, record2, record3], \n",
        "                  index = ['school1', 'school2', 'school3'])"
      ],
      "execution_count": 77,
      "outputs": []
    },
    {
      "cell_type": "code",
      "metadata": {
        "colab": {
          "base_uri": "https://localhost:8080/",
          "height": 142
        },
        "id": "ImSfk2VUYlKg",
        "outputId": "00ca1fc2-6f9c-4b80-d472-a206b01ce3e5"
      },
      "source": [
        "df.head()"
      ],
      "execution_count": 78,
      "outputs": [
        {
          "output_type": "execute_result",
          "data": {
            "text/html": [
              "<div>\n",
              "<style scoped>\n",
              "    .dataframe tbody tr th:only-of-type {\n",
              "        vertical-align: middle;\n",
              "    }\n",
              "\n",
              "    .dataframe tbody tr th {\n",
              "        vertical-align: top;\n",
              "    }\n",
              "\n",
              "    .dataframe thead th {\n",
              "        text-align: right;\n",
              "    }\n",
              "</style>\n",
              "<table border=\"1\" class=\"dataframe\">\n",
              "  <thead>\n",
              "    <tr style=\"text-align: right;\">\n",
              "      <th></th>\n",
              "      <th>Name</th>\n",
              "      <th>Class</th>\n",
              "      <th>Score</th>\n",
              "    </tr>\n",
              "  </thead>\n",
              "  <tbody>\n",
              "    <tr>\n",
              "      <th>school1</th>\n",
              "      <td>Alice</td>\n",
              "      <td>Physics</td>\n",
              "      <td>85</td>\n",
              "    </tr>\n",
              "    <tr>\n",
              "      <th>school2</th>\n",
              "      <td>Jack</td>\n",
              "      <td>Chemistry</td>\n",
              "      <td>82</td>\n",
              "    </tr>\n",
              "    <tr>\n",
              "      <th>school3</th>\n",
              "      <td>Helen</td>\n",
              "      <td>Biology</td>\n",
              "      <td>90</td>\n",
              "    </tr>\n",
              "  </tbody>\n",
              "</table>\n",
              "</div>"
            ],
            "text/plain": [
              "          Name      Class  Score\n",
              "school1  Alice    Physics     85\n",
              "school2   Jack  Chemistry     82\n",
              "school3  Helen    Biology     90"
            ]
          },
          "metadata": {
            "tags": []
          },
          "execution_count": 78
        }
      ]
    },
    {
      "cell_type": "code",
      "metadata": {
        "colab": {
          "base_uri": "https://localhost:8080/",
          "height": 142
        },
        "id": "PUx8XFBYYlQd",
        "outputId": "f4397b2d-f12d-469d-8639-3a30a7c31ff5"
      },
      "source": [
        "# Another way to enter the data (list of dictionaries)\n",
        "\n",
        "students = [{'Name': 'Alice',\n",
        "                     'Class': 'Physics',\n",
        "                     'Score': 85},\n",
        "            {'Name': 'Jack',\n",
        "             'Class': 'Chemistry',\n",
        "                     'Score': 82},\n",
        "            {'Name': 'Helen',\n",
        "             'Class': 'Biology',\n",
        "             'Score': 90}]\n",
        "\n",
        "df = pd.DataFrame(students, index = ['school1', 'school2', 'school1']) # two school 1's\n",
        "df.head()"
      ],
      "execution_count": 79,
      "outputs": [
        {
          "output_type": "execute_result",
          "data": {
            "text/html": [
              "<div>\n",
              "<style scoped>\n",
              "    .dataframe tbody tr th:only-of-type {\n",
              "        vertical-align: middle;\n",
              "    }\n",
              "\n",
              "    .dataframe tbody tr th {\n",
              "        vertical-align: top;\n",
              "    }\n",
              "\n",
              "    .dataframe thead th {\n",
              "        text-align: right;\n",
              "    }\n",
              "</style>\n",
              "<table border=\"1\" class=\"dataframe\">\n",
              "  <thead>\n",
              "    <tr style=\"text-align: right;\">\n",
              "      <th></th>\n",
              "      <th>Name</th>\n",
              "      <th>Class</th>\n",
              "      <th>Score</th>\n",
              "    </tr>\n",
              "  </thead>\n",
              "  <tbody>\n",
              "    <tr>\n",
              "      <th>school1</th>\n",
              "      <td>Alice</td>\n",
              "      <td>Physics</td>\n",
              "      <td>85</td>\n",
              "    </tr>\n",
              "    <tr>\n",
              "      <th>school2</th>\n",
              "      <td>Jack</td>\n",
              "      <td>Chemistry</td>\n",
              "      <td>82</td>\n",
              "    </tr>\n",
              "    <tr>\n",
              "      <th>school1</th>\n",
              "      <td>Helen</td>\n",
              "      <td>Biology</td>\n",
              "      <td>90</td>\n",
              "    </tr>\n",
              "  </tbody>\n",
              "</table>\n",
              "</div>"
            ],
            "text/plain": [
              "          Name      Class  Score\n",
              "school1  Alice    Physics     85\n",
              "school2   Jack  Chemistry     82\n",
              "school1  Helen    Biology     90"
            ]
          },
          "metadata": {
            "tags": []
          },
          "execution_count": 79
        }
      ]
    },
    {
      "cell_type": "code",
      "metadata": {
        "colab": {
          "base_uri": "https://localhost:8080/"
        },
        "id": "c1fjRru0YlUz",
        "outputId": "fb6f541d-b3bd-4c29-b970-58eb996b73a6"
      },
      "source": [
        "# accessing by index\n",
        "\n",
        "df.loc['school2']"
      ],
      "execution_count": 80,
      "outputs": [
        {
          "output_type": "execute_result",
          "data": {
            "text/plain": [
              "Name          Jack\n",
              "Class    Chemistry\n",
              "Score           82\n",
              "Name: school2, dtype: object"
            ]
          },
          "metadata": {
            "tags": []
          },
          "execution_count": 80
        }
      ]
    },
    {
      "cell_type": "code",
      "metadata": {
        "colab": {
          "base_uri": "https://localhost:8080/"
        },
        "id": "C5BxK_hBKbCI",
        "outputId": "afd8fd49-9749-4e71-cd45-ce2453c9cbe9"
      },
      "source": [
        "# what type is the data?\n",
        "\n",
        "print(type(df.loc['school2'])) # one record, so it's a Series\n",
        "print(type(df.loc['school1'])) # two records, do it's a DataFrame"
      ],
      "execution_count": 81,
      "outputs": [
        {
          "output_type": "stream",
          "text": [
            "<class 'pandas.core.series.Series'>\n",
            "<class 'pandas.core.frame.DataFrame'>\n"
          ],
          "name": "stdout"
        }
      ]
    },
    {
      "cell_type": "code",
      "metadata": {
        "colab": {
          "base_uri": "https://localhost:8080/",
          "height": 111
        },
        "id": "4Gdt9wFpKbGX",
        "outputId": "3a8f6a1b-58e6-4549-d317-7df14e46ccda"
      },
      "source": [
        "df.loc['school1'] "
      ],
      "execution_count": 82,
      "outputs": [
        {
          "output_type": "execute_result",
          "data": {
            "text/html": [
              "<div>\n",
              "<style scoped>\n",
              "    .dataframe tbody tr th:only-of-type {\n",
              "        vertical-align: middle;\n",
              "    }\n",
              "\n",
              "    .dataframe tbody tr th {\n",
              "        vertical-align: top;\n",
              "    }\n",
              "\n",
              "    .dataframe thead th {\n",
              "        text-align: right;\n",
              "    }\n",
              "</style>\n",
              "<table border=\"1\" class=\"dataframe\">\n",
              "  <thead>\n",
              "    <tr style=\"text-align: right;\">\n",
              "      <th></th>\n",
              "      <th>Name</th>\n",
              "      <th>Class</th>\n",
              "      <th>Score</th>\n",
              "    </tr>\n",
              "  </thead>\n",
              "  <tbody>\n",
              "    <tr>\n",
              "      <th>school1</th>\n",
              "      <td>Alice</td>\n",
              "      <td>Physics</td>\n",
              "      <td>85</td>\n",
              "    </tr>\n",
              "    <tr>\n",
              "      <th>school1</th>\n",
              "      <td>Helen</td>\n",
              "      <td>Biology</td>\n",
              "      <td>90</td>\n",
              "    </tr>\n",
              "  </tbody>\n",
              "</table>\n",
              "</div>"
            ],
            "text/plain": [
              "          Name    Class  Score\n",
              "school1  Alice  Physics     85\n",
              "school1  Helen  Biology     90"
            ]
          },
          "metadata": {
            "tags": []
          },
          "execution_count": 82
        }
      ]
    },
    {
      "cell_type": "code",
      "metadata": {
        "colab": {
          "base_uri": "https://localhost:8080/"
        },
        "id": "j8WtKtWLKbJc",
        "outputId": "8e86e147-e2de-4aea-a679-dd8e499686a4"
      },
      "source": [
        "# only return specific data, not entire record\n",
        "\n",
        "df.loc['school1', 'Name']"
      ],
      "execution_count": 83,
      "outputs": [
        {
          "output_type": "execute_result",
          "data": {
            "text/plain": [
              "school1    Alice\n",
              "school1    Helen\n",
              "Name: Name, dtype: object"
            ]
          },
          "metadata": {
            "tags": []
          },
          "execution_count": 83
        }
      ]
    },
    {
      "cell_type": "code",
      "metadata": {
        "colab": {
          "base_uri": "https://localhost:8080/",
          "height": 142
        },
        "id": "G9Kdqyk2MUPk",
        "outputId": "da67e1da-4ce8-4a09-e63f-aa7f0f08be5f"
      },
      "source": [
        "# how to transpose the data\n",
        "\n",
        "df.T"
      ],
      "execution_count": 84,
      "outputs": [
        {
          "output_type": "execute_result",
          "data": {
            "text/html": [
              "<div>\n",
              "<style scoped>\n",
              "    .dataframe tbody tr th:only-of-type {\n",
              "        vertical-align: middle;\n",
              "    }\n",
              "\n",
              "    .dataframe tbody tr th {\n",
              "        vertical-align: top;\n",
              "    }\n",
              "\n",
              "    .dataframe thead th {\n",
              "        text-align: right;\n",
              "    }\n",
              "</style>\n",
              "<table border=\"1\" class=\"dataframe\">\n",
              "  <thead>\n",
              "    <tr style=\"text-align: right;\">\n",
              "      <th></th>\n",
              "      <th>school1</th>\n",
              "      <th>school2</th>\n",
              "      <th>school1</th>\n",
              "    </tr>\n",
              "  </thead>\n",
              "  <tbody>\n",
              "    <tr>\n",
              "      <th>Name</th>\n",
              "      <td>Alice</td>\n",
              "      <td>Jack</td>\n",
              "      <td>Helen</td>\n",
              "    </tr>\n",
              "    <tr>\n",
              "      <th>Class</th>\n",
              "      <td>Physics</td>\n",
              "      <td>Chemistry</td>\n",
              "      <td>Biology</td>\n",
              "    </tr>\n",
              "    <tr>\n",
              "      <th>Score</th>\n",
              "      <td>85</td>\n",
              "      <td>82</td>\n",
              "      <td>90</td>\n",
              "    </tr>\n",
              "  </tbody>\n",
              "</table>\n",
              "</div>"
            ],
            "text/plain": [
              "       school1    school2  school1\n",
              "Name     Alice       Jack    Helen\n",
              "Class  Physics  Chemistry  Biology\n",
              "Score       85         82       90"
            ]
          },
          "metadata": {
            "tags": []
          },
          "execution_count": 84
        }
      ]
    },
    {
      "cell_type": "code",
      "metadata": {
        "colab": {
          "base_uri": "https://localhost:8080/"
        },
        "id": "1zpJm4tyStNm",
        "outputId": "00175cc4-0c58-4319-8d23-9b56891bdbbc"
      },
      "source": [
        "# What if we want all the contents of a column? Transpose first....\n",
        "\n",
        "df.T.loc['Name']"
      ],
      "execution_count": 85,
      "outputs": [
        {
          "output_type": "execute_result",
          "data": {
            "text/plain": [
              "school1    Alice\n",
              "school2     Jack\n",
              "school1    Helen\n",
              "Name: Name, dtype: object"
            ]
          },
          "metadata": {
            "tags": []
          },
          "execution_count": 85
        }
      ]
    },
    {
      "cell_type": "code",
      "metadata": {
        "colab": {
          "base_uri": "https://localhost:8080/"
        },
        "id": "7DdpOyA0StU4",
        "outputId": "63edab08-5679-4ea6-81fd-1d1bebf581ba"
      },
      "source": [
        "# but this does the same...! (why transpose then????)\n",
        "# note: .loc() not used to get the columnar data\n",
        "\n",
        "df['Name']"
      ],
      "execution_count": 86,
      "outputs": [
        {
          "output_type": "execute_result",
          "data": {
            "text/plain": [
              "school1    Alice\n",
              "school2     Jack\n",
              "school1    Helen\n",
              "Name: Name, dtype: object"
            ]
          },
          "metadata": {
            "tags": []
          },
          "execution_count": 86
        }
      ]
    },
    {
      "cell_type": "code",
      "metadata": {
        "colab": {
          "base_uri": "https://localhost:8080/"
        },
        "id": "hgI6xWI8T_Bo",
        "outputId": "87796bb8-e7c2-4bb0-a4b5-a802535fae92"
      },
      "source": [
        "# Columnar selection returns a Series, not a DataFrame\n",
        "\n",
        "type(df['Name'])\n",
        "\n",
        "# Just use type() to check what something returns"
      ],
      "execution_count": 87,
      "outputs": [
        {
          "output_type": "execute_result",
          "data": {
            "text/plain": [
              "pandas.core.series.Series"
            ]
          },
          "metadata": {
            "tags": []
          },
          "execution_count": 87
        }
      ]
    },
    {
      "cell_type": "code",
      "metadata": {
        "colab": {
          "base_uri": "https://localhost:8080/",
          "height": 142
        },
        "id": "y9Hj051yUQUw",
        "outputId": "c754ced6-015a-422d-9655-96bcf9672dc1"
      },
      "source": [
        "# .loc() can use slicing\n",
        "\n",
        "df.loc[:,['Name', 'Score']]"
      ],
      "execution_count": 88,
      "outputs": [
        {
          "output_type": "execute_result",
          "data": {
            "text/html": [
              "<div>\n",
              "<style scoped>\n",
              "    .dataframe tbody tr th:only-of-type {\n",
              "        vertical-align: middle;\n",
              "    }\n",
              "\n",
              "    .dataframe tbody tr th {\n",
              "        vertical-align: top;\n",
              "    }\n",
              "\n",
              "    .dataframe thead th {\n",
              "        text-align: right;\n",
              "    }\n",
              "</style>\n",
              "<table border=\"1\" class=\"dataframe\">\n",
              "  <thead>\n",
              "    <tr style=\"text-align: right;\">\n",
              "      <th></th>\n",
              "      <th>Name</th>\n",
              "      <th>Score</th>\n",
              "    </tr>\n",
              "  </thead>\n",
              "  <tbody>\n",
              "    <tr>\n",
              "      <th>school1</th>\n",
              "      <td>Alice</td>\n",
              "      <td>85</td>\n",
              "    </tr>\n",
              "    <tr>\n",
              "      <th>school2</th>\n",
              "      <td>Jack</td>\n",
              "      <td>82</td>\n",
              "    </tr>\n",
              "    <tr>\n",
              "      <th>school1</th>\n",
              "      <td>Helen</td>\n",
              "      <td>90</td>\n",
              "    </tr>\n",
              "  </tbody>\n",
              "</table>\n",
              "</div>"
            ],
            "text/plain": [
              "          Name  Score\n",
              "school1  Alice     85\n",
              "school2   Jack     82\n",
              "school1  Helen     90"
            ]
          },
          "metadata": {
            "tags": []
          },
          "execution_count": 88
        }
      ]
    },
    {
      "cell_type": "code",
      "metadata": {
        "colab": {
          "base_uri": "https://localhost:8080/",
          "height": 111
        },
        "id": "o_SDBZa8StdF",
        "outputId": "c8f2b0aa-03de-4cf0-a28a-b9e73c64ce5f"
      },
      "source": [
        "# data can be dropped\n",
        "\n",
        "df.drop('school2')"
      ],
      "execution_count": 89,
      "outputs": [
        {
          "output_type": "execute_result",
          "data": {
            "text/html": [
              "<div>\n",
              "<style scoped>\n",
              "    .dataframe tbody tr th:only-of-type {\n",
              "        vertical-align: middle;\n",
              "    }\n",
              "\n",
              "    .dataframe tbody tr th {\n",
              "        vertical-align: top;\n",
              "    }\n",
              "\n",
              "    .dataframe thead th {\n",
              "        text-align: right;\n",
              "    }\n",
              "</style>\n",
              "<table border=\"1\" class=\"dataframe\">\n",
              "  <thead>\n",
              "    <tr style=\"text-align: right;\">\n",
              "      <th></th>\n",
              "      <th>Name</th>\n",
              "      <th>Class</th>\n",
              "      <th>Score</th>\n",
              "    </tr>\n",
              "  </thead>\n",
              "  <tbody>\n",
              "    <tr>\n",
              "      <th>school1</th>\n",
              "      <td>Alice</td>\n",
              "      <td>Physics</td>\n",
              "      <td>85</td>\n",
              "    </tr>\n",
              "    <tr>\n",
              "      <th>school1</th>\n",
              "      <td>Helen</td>\n",
              "      <td>Biology</td>\n",
              "      <td>90</td>\n",
              "    </tr>\n",
              "  </tbody>\n",
              "</table>\n",
              "</div>"
            ],
            "text/plain": [
              "          Name    Class  Score\n",
              "school1  Alice  Physics     85\n",
              "school1  Helen  Biology     90"
            ]
          },
          "metadata": {
            "tags": []
          },
          "execution_count": 89
        }
      ]
    },
    {
      "cell_type": "code",
      "metadata": {
        "colab": {
          "base_uri": "https://localhost:8080/",
          "height": 142
        },
        "id": "EUxzJ5HmVASl",
        "outputId": "480cfc32-9d8c-49e2-aaca-41322d5d83b2"
      },
      "source": [
        "# ...but the dropped data is still there!\n",
        "# (returns a copy)\n",
        "\n",
        "df"
      ],
      "execution_count": 90,
      "outputs": [
        {
          "output_type": "execute_result",
          "data": {
            "text/html": [
              "<div>\n",
              "<style scoped>\n",
              "    .dataframe tbody tr th:only-of-type {\n",
              "        vertical-align: middle;\n",
              "    }\n",
              "\n",
              "    .dataframe tbody tr th {\n",
              "        vertical-align: top;\n",
              "    }\n",
              "\n",
              "    .dataframe thead th {\n",
              "        text-align: right;\n",
              "    }\n",
              "</style>\n",
              "<table border=\"1\" class=\"dataframe\">\n",
              "  <thead>\n",
              "    <tr style=\"text-align: right;\">\n",
              "      <th></th>\n",
              "      <th>Name</th>\n",
              "      <th>Class</th>\n",
              "      <th>Score</th>\n",
              "    </tr>\n",
              "  </thead>\n",
              "  <tbody>\n",
              "    <tr>\n",
              "      <th>school1</th>\n",
              "      <td>Alice</td>\n",
              "      <td>Physics</td>\n",
              "      <td>85</td>\n",
              "    </tr>\n",
              "    <tr>\n",
              "      <th>school2</th>\n",
              "      <td>Jack</td>\n",
              "      <td>Chemistry</td>\n",
              "      <td>82</td>\n",
              "    </tr>\n",
              "    <tr>\n",
              "      <th>school1</th>\n",
              "      <td>Helen</td>\n",
              "      <td>Biology</td>\n",
              "      <td>90</td>\n",
              "    </tr>\n",
              "  </tbody>\n",
              "</table>\n",
              "</div>"
            ],
            "text/plain": [
              "          Name      Class  Score\n",
              "school1  Alice    Physics     85\n",
              "school2   Jack  Chemistry     82\n",
              "school1  Helen    Biology     90"
            ]
          },
          "metadata": {
            "tags": []
          },
          "execution_count": 90
        }
      ]
    },
    {
      "cell_type": "code",
      "metadata": {
        "colab": {
          "base_uri": "https://localhost:8080/",
          "height": 142
        },
        "id": "JhmsXdgVVAVa",
        "outputId": "dcc54726-3a49-4271-fe4d-fbcdd5840eb5"
      },
      "source": [
        "# Use inpalce=True to really drop the data!\n",
        "# axis=0 is a row (default), axis=1 is a column\n",
        "# Using a copy of the data here\n",
        "\n",
        "copy_df = df.copy()\n",
        "copy_df.drop('Name', inplace=True, axis=1)\n",
        "copy_df"
      ],
      "execution_count": 91,
      "outputs": [
        {
          "output_type": "execute_result",
          "data": {
            "text/html": [
              "<div>\n",
              "<style scoped>\n",
              "    .dataframe tbody tr th:only-of-type {\n",
              "        vertical-align: middle;\n",
              "    }\n",
              "\n",
              "    .dataframe tbody tr th {\n",
              "        vertical-align: top;\n",
              "    }\n",
              "\n",
              "    .dataframe thead th {\n",
              "        text-align: right;\n",
              "    }\n",
              "</style>\n",
              "<table border=\"1\" class=\"dataframe\">\n",
              "  <thead>\n",
              "    <tr style=\"text-align: right;\">\n",
              "      <th></th>\n",
              "      <th>Class</th>\n",
              "      <th>Score</th>\n",
              "    </tr>\n",
              "  </thead>\n",
              "  <tbody>\n",
              "    <tr>\n",
              "      <th>school1</th>\n",
              "      <td>Physics</td>\n",
              "      <td>85</td>\n",
              "    </tr>\n",
              "    <tr>\n",
              "      <th>school2</th>\n",
              "      <td>Chemistry</td>\n",
              "      <td>82</td>\n",
              "    </tr>\n",
              "    <tr>\n",
              "      <th>school1</th>\n",
              "      <td>Biology</td>\n",
              "      <td>90</td>\n",
              "    </tr>\n",
              "  </tbody>\n",
              "</table>\n",
              "</div>"
            ],
            "text/plain": [
              "             Class  Score\n",
              "school1    Physics     85\n",
              "school2  Chemistry     82\n",
              "school1    Biology     90"
            ]
          },
          "metadata": {
            "tags": []
          },
          "execution_count": 91
        }
      ]
    },
    {
      "cell_type": "code",
      "metadata": {
        "colab": {
          "base_uri": "https://localhost:8080/",
          "height": 142
        },
        "id": "0HglubL8U9kv",
        "outputId": "126dc2d7-6ad3-493f-8ef2-6d66a1ba42d3"
      },
      "source": [
        "# A 2nd way to drop a column\n",
        "# This is permanent. A copy is NOT returned.\n",
        "\n",
        "del copy_df['Class']\n",
        "copy_df"
      ],
      "execution_count": 92,
      "outputs": [
        {
          "output_type": "execute_result",
          "data": {
            "text/html": [
              "<div>\n",
              "<style scoped>\n",
              "    .dataframe tbody tr th:only-of-type {\n",
              "        vertical-align: middle;\n",
              "    }\n",
              "\n",
              "    .dataframe tbody tr th {\n",
              "        vertical-align: top;\n",
              "    }\n",
              "\n",
              "    .dataframe thead th {\n",
              "        text-align: right;\n",
              "    }\n",
              "</style>\n",
              "<table border=\"1\" class=\"dataframe\">\n",
              "  <thead>\n",
              "    <tr style=\"text-align: right;\">\n",
              "      <th></th>\n",
              "      <th>Score</th>\n",
              "    </tr>\n",
              "  </thead>\n",
              "  <tbody>\n",
              "    <tr>\n",
              "      <th>school1</th>\n",
              "      <td>85</td>\n",
              "    </tr>\n",
              "    <tr>\n",
              "      <th>school2</th>\n",
              "      <td>82</td>\n",
              "    </tr>\n",
              "    <tr>\n",
              "      <th>school1</th>\n",
              "      <td>90</td>\n",
              "    </tr>\n",
              "  </tbody>\n",
              "</table>\n",
              "</div>"
            ],
            "text/plain": [
              "         Score\n",
              "school1     85\n",
              "school2     82\n",
              "school1     90"
            ]
          },
          "metadata": {
            "tags": []
          },
          "execution_count": 92
        }
      ]
    },
    {
      "cell_type": "code",
      "metadata": {
        "colab": {
          "base_uri": "https://localhost:8080/",
          "height": 142
        },
        "id": "WoQdZIdpWvNn",
        "outputId": "90fa2f08-4691-4281-c386-5efbd4324bbd"
      },
      "source": [
        "# Add a column. \n",
        "\n",
        "df['ClassRanking'] = None\n",
        "df"
      ],
      "execution_count": 93,
      "outputs": [
        {
          "output_type": "execute_result",
          "data": {
            "text/html": [
              "<div>\n",
              "<style scoped>\n",
              "    .dataframe tbody tr th:only-of-type {\n",
              "        vertical-align: middle;\n",
              "    }\n",
              "\n",
              "    .dataframe tbody tr th {\n",
              "        vertical-align: top;\n",
              "    }\n",
              "\n",
              "    .dataframe thead th {\n",
              "        text-align: right;\n",
              "    }\n",
              "</style>\n",
              "<table border=\"1\" class=\"dataframe\">\n",
              "  <thead>\n",
              "    <tr style=\"text-align: right;\">\n",
              "      <th></th>\n",
              "      <th>Name</th>\n",
              "      <th>Class</th>\n",
              "      <th>Score</th>\n",
              "      <th>ClassRanking</th>\n",
              "    </tr>\n",
              "  </thead>\n",
              "  <tbody>\n",
              "    <tr>\n",
              "      <th>school1</th>\n",
              "      <td>Alice</td>\n",
              "      <td>Physics</td>\n",
              "      <td>85</td>\n",
              "      <td>None</td>\n",
              "    </tr>\n",
              "    <tr>\n",
              "      <th>school2</th>\n",
              "      <td>Jack</td>\n",
              "      <td>Chemistry</td>\n",
              "      <td>82</td>\n",
              "      <td>None</td>\n",
              "    </tr>\n",
              "    <tr>\n",
              "      <th>school1</th>\n",
              "      <td>Helen</td>\n",
              "      <td>Biology</td>\n",
              "      <td>90</td>\n",
              "      <td>None</td>\n",
              "    </tr>\n",
              "  </tbody>\n",
              "</table>\n",
              "</div>"
            ],
            "text/plain": [
              "          Name      Class  Score ClassRanking\n",
              "school1  Alice    Physics     85         None\n",
              "school2   Jack  Chemistry     82         None\n",
              "school1  Helen    Biology     90         None"
            ]
          },
          "metadata": {
            "tags": []
          },
          "execution_count": 93
        }
      ]
    },
    {
      "cell_type": "markdown",
      "metadata": {
        "id": "bg2knx7zXRU_"
      },
      "source": [
        "## DataFrame Indexing and Loading"
      ]
    },
    {
      "cell_type": "markdown",
      "metadata": {
        "id": "htE3PoPhXSwM"
      },
      "source": [
        "Video: https://www.coursera.org/learn/python-data-analysis/lecture/BLY4L/dataframe-indexing-and-loading"
      ]
    },
    {
      "cell_type": "code",
      "metadata": {
        "id": "m6o06abqWvQw"
      },
      "source": [
        ""
      ],
      "execution_count": 93,
      "outputs": []
    },
    {
      "cell_type": "code",
      "metadata": {
        "id": "Cx4g7IGAWvT3"
      },
      "source": [
        ""
      ],
      "execution_count": 93,
      "outputs": []
    },
    {
      "cell_type": "code",
      "metadata": {
        "id": "B3QIc3t2WvXV"
      },
      "source": [
        ""
      ],
      "execution_count": 93,
      "outputs": []
    },
    {
      "cell_type": "code",
      "metadata": {
        "id": "g695aWNaMUSy"
      },
      "source": [
        ""
      ],
      "execution_count": 93,
      "outputs": []
    },
    {
      "cell_type": "code",
      "metadata": {
        "id": "w-vSBu3rMUZp"
      },
      "source": [
        ""
      ],
      "execution_count": 93,
      "outputs": []
    },
    {
      "cell_type": "code",
      "metadata": {
        "id": "D_PDrHWHYlYl"
      },
      "source": [
        ""
      ],
      "execution_count": 93,
      "outputs": []
    },
    {
      "cell_type": "code",
      "metadata": {
        "id": "tmH6Stk3YQng"
      },
      "source": [
        ""
      ],
      "execution_count": 93,
      "outputs": []
    },
    {
      "cell_type": "markdown",
      "metadata": {
        "id": "Ryc7zgE8axN0"
      },
      "source": [
        "# Experiments"
      ]
    },
    {
      "cell_type": "code",
      "metadata": {
        "colab": {
          "base_uri": "https://localhost:8080/",
          "height": 38
        },
        "id": "QOYRMZmo8Q17",
        "outputId": "8669fce3-6cd4-461a-fcc2-fa2cd6f5629b"
      },
      "source": [
        "# Marquees are back! 😊\n",
        "%%html\n",
        "<marquee style='width: 50%; color: Green;'>Welcome to Tutorialspoint!</marquee>"
      ],
      "execution_count": 94,
      "outputs": [
        {
          "output_type": "display_data",
          "data": {
            "text/html": [
              "<marquee style='width: 50%; color: Green;'>Welcome to Tutorialspoint!</marquee>"
            ],
            "text/plain": [
              "<IPython.core.display.HTML object>"
            ]
          },
          "metadata": {
            "tags": []
          }
        }
      ]
    },
    {
      "cell_type": "code",
      "metadata": {
        "id": "c5VdEFQSreo6",
        "colab": {
          "base_uri": "https://localhost:8080/"
        },
        "outputId": "4e8fc736-891a-45b0-de75-b473e8abbb9b"
      },
      "source": [
        "import numpy as np\n",
        "\n",
        "a = np.zeros([20,20])\n",
        "b = np.ones([20,20])\n",
        "\n",
        "print(a + b)"
      ],
      "execution_count": 95,
      "outputs": [
        {
          "output_type": "stream",
          "text": [
            "[[1. 1. 1. 1. 1. 1. 1. 1. 1. 1. 1. 1. 1. 1. 1. 1. 1. 1. 1. 1.]\n",
            " [1. 1. 1. 1. 1. 1. 1. 1. 1. 1. 1. 1. 1. 1. 1. 1. 1. 1. 1. 1.]\n",
            " [1. 1. 1. 1. 1. 1. 1. 1. 1. 1. 1. 1. 1. 1. 1. 1. 1. 1. 1. 1.]\n",
            " [1. 1. 1. 1. 1. 1. 1. 1. 1. 1. 1. 1. 1. 1. 1. 1. 1. 1. 1. 1.]\n",
            " [1. 1. 1. 1. 1. 1. 1. 1. 1. 1. 1. 1. 1. 1. 1. 1. 1. 1. 1. 1.]\n",
            " [1. 1. 1. 1. 1. 1. 1. 1. 1. 1. 1. 1. 1. 1. 1. 1. 1. 1. 1. 1.]\n",
            " [1. 1. 1. 1. 1. 1. 1. 1. 1. 1. 1. 1. 1. 1. 1. 1. 1. 1. 1. 1.]\n",
            " [1. 1. 1. 1. 1. 1. 1. 1. 1. 1. 1. 1. 1. 1. 1. 1. 1. 1. 1. 1.]\n",
            " [1. 1. 1. 1. 1. 1. 1. 1. 1. 1. 1. 1. 1. 1. 1. 1. 1. 1. 1. 1.]\n",
            " [1. 1. 1. 1. 1. 1. 1. 1. 1. 1. 1. 1. 1. 1. 1. 1. 1. 1. 1. 1.]\n",
            " [1. 1. 1. 1. 1. 1. 1. 1. 1. 1. 1. 1. 1. 1. 1. 1. 1. 1. 1. 1.]\n",
            " [1. 1. 1. 1. 1. 1. 1. 1. 1. 1. 1. 1. 1. 1. 1. 1. 1. 1. 1. 1.]\n",
            " [1. 1. 1. 1. 1. 1. 1. 1. 1. 1. 1. 1. 1. 1. 1. 1. 1. 1. 1. 1.]\n",
            " [1. 1. 1. 1. 1. 1. 1. 1. 1. 1. 1. 1. 1. 1. 1. 1. 1. 1. 1. 1.]\n",
            " [1. 1. 1. 1. 1. 1. 1. 1. 1. 1. 1. 1. 1. 1. 1. 1. 1. 1. 1. 1.]\n",
            " [1. 1. 1. 1. 1. 1. 1. 1. 1. 1. 1. 1. 1. 1. 1. 1. 1. 1. 1. 1.]\n",
            " [1. 1. 1. 1. 1. 1. 1. 1. 1. 1. 1. 1. 1. 1. 1. 1. 1. 1. 1. 1.]\n",
            " [1. 1. 1. 1. 1. 1. 1. 1. 1. 1. 1. 1. 1. 1. 1. 1. 1. 1. 1. 1.]\n",
            " [1. 1. 1. 1. 1. 1. 1. 1. 1. 1. 1. 1. 1. 1. 1. 1. 1. 1. 1. 1.]\n",
            " [1. 1. 1. 1. 1. 1. 1. 1. 1. 1. 1. 1. 1. 1. 1. 1. 1. 1. 1. 1.]]\n"
          ],
          "name": "stdout"
        }
      ]
    },
    {
      "cell_type": "code",
      "metadata": {
        "id": "cbuTiCJxAk5u"
      },
      "source": [
        ""
      ],
      "execution_count": 95,
      "outputs": []
    }
  ]
}