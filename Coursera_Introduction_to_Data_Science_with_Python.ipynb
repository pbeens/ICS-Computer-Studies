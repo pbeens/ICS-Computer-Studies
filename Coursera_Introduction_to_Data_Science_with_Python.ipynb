{
  "nbformat": 4,
  "nbformat_minor": 0,
  "metadata": {
    "colab": {
      "name": "Coursera Introduction to Data Science with Python.ipynb",
      "provenance": [],
      "collapsed_sections": [
        "FCPkwWNnhXHo",
        "Xkv6An9HhbjQ",
        "ufsfPhxpl4iL",
        "7ZpqZwvumSNm"
      ],
      "authorship_tag": "ABX9TyOpRfob1+cKmBZZUHGaYEmx",
      "include_colab_link": true
    },
    "kernelspec": {
      "name": "python3",
      "display_name": "Python 3"
    }
  },
  "cells": [
    {
      "cell_type": "markdown",
      "metadata": {
        "id": "view-in-github",
        "colab_type": "text"
      },
      "source": [
        "<a href=\"https://colab.research.google.com/github/pbeens/ICS-Computer-Studies/blob/master/Coursera_Introduction_to_Data_Science_with_Python.ipynb\" target=\"_parent\"><img src=\"https://colab.research.google.com/assets/colab-badge.svg\" alt=\"Open In Colab\"/></a>"
      ]
    },
    {
      "cell_type": "markdown",
      "metadata": {
        "id": "uH9yHUZBhSYr"
      },
      "source": [
        "# Week 1"
      ]
    },
    {
      "cell_type": "markdown",
      "metadata": {
        "id": "zjQJRVwalplP"
      },
      "source": [
        "Outline: https://www.coursera.org/learn/python-data-analysis/home/week/1\n",
        "\n",
        "Forum: https://www.coursera.org/learn/python-data-analysis/discussions/weeks/1"
      ]
    },
    {
      "cell_type": "markdown",
      "metadata": {
        "id": "FCPkwWNnhXHo"
      },
      "source": [
        "## Introduction to Specialization"
      ]
    },
    {
      "cell_type": "markdown",
      "metadata": {
        "id": "8upVd8SPhdX-"
      },
      "source": [
        "Video: https://www.coursera.org/learn/python-data-analysis/lecture/TPrDp/introduction-to-specialization\r\n",
        "\r\n",
        "- Basic Python\r\n",
        "- Pandas\r\n",
        "- Advanced Querying and Manipulation\r\n",
        "- Basic statistical analysis"
      ]
    },
    {
      "cell_type": "markdown",
      "metadata": {
        "id": "Xkv6An9HhbjQ"
      },
      "source": [
        "## Introduction to the Course"
      ]
    },
    {
      "cell_type": "markdown",
      "metadata": {
        "id": "XVfPAMhxiEkd"
      },
      "source": [
        "Video: https://www.coursera.org/learn/python-data-analysis/lecture/MIvLe/introduction-to-the-course\r\n",
        "\r\n",
        "- Data manipulation\r\n",
        "- Pandas library, defacto standard\r\n",
        "- Tutorial-style videos, using Jupyter\r\n",
        "- Strategy for learning: take your own notes using Jupyter"
      ]
    },
    {
      "cell_type": "markdown",
      "metadata": {
        "id": "ufsfPhxpl4iL"
      },
      "source": [
        "## Syllabus"
      ]
    },
    {
      "cell_type": "markdown",
      "metadata": {
        "id": "ICIPM_hhl7LI"
      },
      "source": [
        "Link: https://www.coursera.org/learn/python-data-analysis/supplement/DNjE6/syllabus\n",
        "\n",
        "- Prerequisites\n",
        "- Grading and assignments\n",
        "- Code of Conduct\n",
        "- Working offline\n",
        "- Accessibility\n",
        "- Help!"
      ]
    },
    {
      "cell_type": "markdown",
      "metadata": {
        "id": "7ZpqZwvumSNm"
      },
      "source": [
        "## Notice for Auditing Learners: Assignment Submission"
      ]
    },
    {
      "cell_type": "markdown",
      "metadata": {
        "id": "6QahSlw_mUVH"
      },
      "source": [
        "Can't submit assignments unless you are a verified (paid?) learner. A link is available to pursue this path."
      ]
    },
    {
      "cell_type": "markdown",
      "metadata": {
        "id": "nvdAQyEvmli4"
      },
      "source": [
        "## The Coursera Jupyter Notebook System"
      ]
    },
    {
      "cell_type": "markdown",
      "metadata": {
        "id": "i1Ab_F2Amr0N"
      },
      "source": [
        "Video: https://www.coursera.org/learn/python-data-analysis/lecture/nWh1K/the-coursera-jupyter-notebook-system\n",
        "\n",
        "- code cells and markdown cells\n",
        "- code cells retain what they did in previous cells.\n",
        "- Kernal/Runtime > Interrupt to stop a running process or infinite loop\n"
      ]
    },
    {
      "cell_type": "markdown",
      "metadata": {
        "id": "EFyyrUfMpeHs"
      },
      "source": [
        "## Your Personal Jupyter Notebook Workspace"
      ]
    },
    {
      "cell_type": "markdown",
      "metadata": {
        "id": "37KPxvP8qo8k"
      },
      "source": [
        "Link: https://www.coursera.org/learn/python-data-analysis/ungradedLab/33VUU/your-personal-jupyter-notebook-workspace"
      ]
    },
    {
      "cell_type": "markdown",
      "metadata": {
        "id": "6SFUe1ztqtRZ"
      },
      "source": [
        "## Week 1 Textbook Reading Assignment"
      ]
    },
    {
      "cell_type": "markdown",
      "metadata": {
        "id": "UOah4Tr7qxo7"
      },
      "source": [
        "Link: https://www.coursera.org/learn/python-data-analysis/supplement/fP74v/week-1-textbook-reading-assignment\n",
        "\n",
        "- Chapter Two: Python Language Basics, IPython, and Jupyter Notebooks\n",
        "- Chapter Three: Built-In Data Structures, Functions, and Files\n",
        "- Chapter 4: NumPy Basics: Arrays and Vectorized Computation\n",
        "- Appendix A: Advanced NumPy (optional)"
      ]
    },
    {
      "cell_type": "markdown",
      "metadata": {
        "id": "GKyux24K1DlK"
      },
      "source": [
        "### Magic Commands"
      ]
    },
    {
      "cell_type": "code",
      "metadata": {
        "colab": {
          "base_uri": "https://localhost:8080/"
        },
        "id": "jjLNwTHHtldG",
        "outputId": "6d356b54-b3f7-4a11-af49-5def84485b63"
      },
      "source": [
        "# Jupyter has magic commands!\n",
        "import numpy as np\n",
        "%timeit a = np.random.randn(100, 100)\n",
        "\n",
        "# magic commands can be assigned to variables\n",
        "foo = %pwd\n",
        "print(f'pwd: {foo}')"
      ],
      "execution_count": 1,
      "outputs": [
        {
          "output_type": "stream",
          "text": [
            "1000 loops, best of 5: 414 µs per loop\n",
            "pwd: /content\n"
          ],
          "name": "stdout"
        }
      ]
    },
    {
      "cell_type": "markdown",
      "metadata": {
        "id": "8bt9E3HBu485"
      },
      "source": [
        "- %quickref\n",
        "- %magic\n",
        "%debug\n",
        "%hist\n",
        "%pdb\n",
        "%paste\n",
        "%cpaste\n",
        "%reset\n",
        "%page OBJECT %run script.py %prun statement %time statement %timeit statement\n",
        "%who, %who_ls, %whos \n",
        "%xdel variable\n"
      ]
    },
    {
      "cell_type": "code",
      "metadata": {
        "id": "6lIBMyv7zS3L"
      },
      "source": [
        "# May be useful later...\n",
        "%matplotlib inline"
      ],
      "execution_count": 2,
      "outputs": []
    },
    {
      "cell_type": "markdown",
      "metadata": {
        "id": "3oUBfY7wzu5v"
      },
      "source": [
        "## 50 years of Data Science, David Donoho (Optional)"
      ]
    },
    {
      "cell_type": "markdown",
      "metadata": {
        "id": "TOEdem4Rzwg_"
      },
      "source": [
        "Link: http://courses.csail.mit.edu/18.337/2015/docs/50YearsDataScience.pdf"
      ]
    },
    {
      "cell_type": "markdown",
      "metadata": {
        "id": "114iW3gD0xA7"
      },
      "source": [
        "## Python Functions"
      ]
    },
    {
      "cell_type": "markdown",
      "metadata": {
        "id": "sChy79Pm00ri"
      },
      "source": [
        "Video: https://www.coursera.org/learn/python-data-analysis/lecture/v7PKy/python-functions\n",
        "\n",
        "High-level, interpretted language. Often used interactively, especially in Jupyter. Dynamically-typed, meaning variables are not declared as a specific type. \n",
        "\n",
        "Jupyter is stateful, meaning it retains values run in previous cells. \n",
        "\n",
        "A function returns None if not specified. "
      ]
    },
    {
      "cell_type": "markdown",
      "metadata": {
        "id": "2IFbtFcj12lN"
      },
      "source": [
        "### Examples Demo'd"
      ]
    },
    {
      "cell_type": "code",
      "metadata": {
        "colab": {
          "base_uri": "https://localhost:8080/"
        },
        "id": "r9nM0nQIz0mZ",
        "outputId": "a9b10816-7f12-4757-b46b-24f11df1839e"
      },
      "source": [
        "x = 1\n",
        "y = 2\n",
        "x + y"
      ],
      "execution_count": 3,
      "outputs": [
        {
          "output_type": "execute_result",
          "data": {
            "text/plain": [
              "3"
            ]
          },
          "metadata": {
            "tags": []
          },
          "execution_count": 3
        }
      ]
    },
    {
      "cell_type": "code",
      "metadata": {
        "colab": {
          "base_uri": "https://localhost:8080/"
        },
        "id": "2mW6JhL_1zit",
        "outputId": "9f7329ee-be4b-4dcb-b621-b6b2131de6e5"
      },
      "source": [
        "x"
      ],
      "execution_count": 4,
      "outputs": [
        {
          "output_type": "execute_result",
          "data": {
            "text/plain": [
              "1"
            ]
          },
          "metadata": {
            "tags": []
          },
          "execution_count": 4
        }
      ]
    },
    {
      "cell_type": "code",
      "metadata": {
        "colab": {
          "base_uri": "https://localhost:8080/"
        },
        "id": "E2eXkgLK16NF",
        "outputId": "06374c50-77ec-4f71-fb17-81b4d3a8df8f"
      },
      "source": [
        "# a function, with optional 3rd parameter\n",
        "def add_numbers(x, y, z=None):\n",
        "  if (z == None):\n",
        "    return x + y\n",
        "  else:\n",
        "    return x + y + z\n",
        "\n",
        "print(add_numbers(2, 4, 2))\n",
        "print(add_numbers(2, 4))"
      ],
      "execution_count": 5,
      "outputs": [
        {
          "output_type": "stream",
          "text": [
            "8\n",
            "6\n"
          ],
          "name": "stdout"
        }
      ]
    },
    {
      "cell_type": "markdown",
      "metadata": {
        "id": "FKKc2p8G3TOk"
      },
      "source": [
        "## Python Types and Sequences"
      ]
    },
    {
      "cell_type": "markdown",
      "metadata": {
        "id": "XJTJmYo83U8g"
      },
      "source": [
        "Video: https://www.coursera.org/learn/python-data-analysis/lecture/fZ466/python-types-and-sequences\n",
        "\n",
        "`type()` shows which type a variable is\n",
        "\n",
        "Tuple is immutable (cannot be changed). Created with parentheses. \n",
        "\n",
        "Lists are mutable and created with brackets. `append()` lets you add items to the list.\n",
        "\n",
        "Lists and tuples are iterable types, typically using a `for` loop. Can be accessed via an index. Can be accessed via slicing. "
      ]
    },
    {
      "cell_type": "code",
      "metadata": {
        "colab": {
          "base_uri": "https://localhost:8080/"
        },
        "id": "AiQgkFQAjpvc",
        "outputId": "d3aea328-0c49-418b-f0b8-d79621ebe232"
      },
      "source": [
        "x = (1, 'a', 2, 'b')\n",
        "print(type(x))\n",
        "x = [1, 'a', 2, 'b']\n",
        "print(type(x))\n",
        "x.append(3.3)\n",
        "print(x)\n",
        "for item in x:\n",
        "  print(item)\n",
        "print(len(x))\n",
        "print('a' in x)\n",
        "print(x[0], x[0:1], x[0:2], x[:2], x[-2:])"
      ],
      "execution_count": 6,
      "outputs": [
        {
          "output_type": "stream",
          "text": [
            "<class 'tuple'>\n",
            "<class 'list'>\n",
            "[1, 'a', 2, 'b', 3.3]\n",
            "1\n",
            "a\n",
            "2\n",
            "b\n",
            "3.3\n",
            "5\n",
            "True\n",
            "1 [1] [1, 'a'] [1, 'a'] ['b', 3.3]\n"
          ],
          "name": "stdout"
        }
      ]
    },
    {
      "cell_type": "markdown",
      "metadata": {
        "id": "lSQoNDBTlA1B"
      },
      "source": [
        "Strings can be split:"
      ]
    },
    {
      "cell_type": "code",
      "metadata": {
        "colab": {
          "base_uri": "https://localhost:8080/"
        },
        "id": "zFGM3AWBlEi_",
        "outputId": "3b1b8c76-c450-49a0-889e-4fb04e656766"
      },
      "source": [
        "items = 'A B C D'.split()\n",
        "print(items)"
      ],
      "execution_count": 7,
      "outputs": [
        {
          "output_type": "stream",
          "text": [
            "['A', 'B', 'C', 'D']\n"
          ],
          "name": "stdout"
        }
      ]
    },
    {
      "cell_type": "markdown",
      "metadata": {
        "id": "POqQJU3rl2GF"
      },
      "source": [
        "Dictionaries"
      ]
    },
    {
      "cell_type": "code",
      "metadata": {
        "colab": {
          "base_uri": "https://localhost:8080/"
        },
        "id": "nl6prTxVmUd_",
        "outputId": "81b6d211-9f9f-427d-d7f5-dfe5ffcae7bb"
      },
      "source": [
        "# example from https://www.w3schools.com/python/python_dictionaries.asp\n",
        "thisdict = {\n",
        "  \"brand\": \"Ford\",\n",
        "  \"model\": \"Mustang\",\n",
        "  \"year\": 1964\n",
        "}\n",
        "for spec, data in thisdict.items():\n",
        "  print(spec, data)"
      ],
      "execution_count": 8,
      "outputs": [
        {
          "output_type": "stream",
          "text": [
            "brand Ford\n",
            "model Mustang\n",
            "year 1964\n"
          ],
          "name": "stdout"
        }
      ]
    },
    {
      "cell_type": "code",
      "metadata": {
        "id": "YfKV6qmt2Ohk",
        "colab": {
          "base_uri": "https://localhost:8080/"
        },
        "outputId": "fd69fd53-6559-4ea5-fe20-93d136144edf"
      },
      "source": [
        "for data in thisdict.values():\n",
        "  print(data)"
      ],
      "execution_count": 9,
      "outputs": [
        {
          "output_type": "stream",
          "text": [
            "Ford\n",
            "Mustang\n",
            "1964\n"
          ],
          "name": "stdout"
        }
      ]
    },
    {
      "cell_type": "code",
      "metadata": {
        "colab": {
          "base_uri": "https://localhost:8080/"
        },
        "id": "0sVLhO0mmvDZ",
        "outputId": "a8285ec7-9e41-4f69-809b-4b772e2df4e9"
      },
      "source": [
        "for key in thisdict.keys():\n",
        "  print(key)"
      ],
      "execution_count": 10,
      "outputs": [
        {
          "output_type": "stream",
          "text": [
            "brand\n",
            "model\n",
            "year\n"
          ],
          "name": "stdout"
        }
      ]
    },
    {
      "cell_type": "markdown",
      "metadata": {
        "id": "m6-V5ObcnRjS"
      },
      "source": [
        "Multiple assignments can be done at once."
      ]
    },
    {
      "cell_type": "code",
      "metadata": {
        "colab": {
          "base_uri": "https://localhost:8080/"
        },
        "id": "rv_24TJgnWLq",
        "outputId": "16405259-7520-46e2-93d1-8cfd47bb9ebd"
      },
      "source": [
        "a, b, c = 1, \"abc\", [4, 5]\n",
        "print(a)\n",
        "print(b)\n",
        "print(c)"
      ],
      "execution_count": 11,
      "outputs": [
        {
          "output_type": "stream",
          "text": [
            "1\n",
            "abc\n",
            "[4, 5]\n"
          ],
          "name": "stdout"
        }
      ]
    },
    {
      "cell_type": "markdown",
      "metadata": {
        "id": "g-A2eM26nqiA"
      },
      "source": [
        "## Python More on Strings"
      ]
    },
    {
      "cell_type": "markdown",
      "metadata": {
        "id": "lK5nkyv7ns4S"
      },
      "source": [
        "Video: https://www.coursera.org/learn/python-data-analysis/lecture/HPh3O/python-more-on-strings\n",
        "\n",
        "Strings are Unicode-based. They used to be based on ASCII which was too limited. UTF solves this problem by allowing over a million characters. \n",
        "\n",
        "Python allows placeholders for variables when concatenating strings. The video covers `format()` but we can now use f-strings."
      ]
    },
    {
      "cell_type": "markdown",
      "metadata": {
        "id": "DMjiolkXo2y9"
      },
      "source": [
        "## Python Demonstration: Reading and Writing CSV files"
      ]
    },
    {
      "cell_type": "markdown",
      "metadata": {
        "id": "WcZBH0hbo4mc"
      },
      "source": [
        "Video: https://www.coursera.org/learn/python-data-analysis/lecture/ktRTE/python-demonstration-reading-and-writing-csv-files\n",
        "\n"
      ]
    },
    {
      "cell_type": "code",
      "metadata": {
        "id": "E6_Hl8WJnrqp"
      },
      "source": [
        "# This block will let you upload a file from your local computer.\n",
        "# Instead, we will clone a GitHub repository instead, in the next cell.\n",
        "import csv\n",
        "# mpg.csv\n",
        "from google.colab import files\n",
        "# uploaded = files.upload() # Use GitHub clone instead!"
      ],
      "execution_count": 12,
      "outputs": []
    },
    {
      "cell_type": "code",
      "metadata": {
        "colab": {
          "base_uri": "https://localhost:8080/"
        },
        "id": "o82sg48uVxsB",
        "outputId": "e1e54c0d-9db0-43dc-cda4-4f295d936ee2"
      },
      "source": [
        "!git clone https://github.com/pbeens/Coursera-Introduction-to-Data-Science-with-Python.git"
      ],
      "execution_count": 13,
      "outputs": [
        {
          "output_type": "stream",
          "text": [
            "fatal: destination path 'Coursera-Introduction-to-Data-Science-with-Python' already exists and is not an empty directory.\n"
          ],
          "name": "stdout"
        }
      ]
    },
    {
      "cell_type": "code",
      "metadata": {
        "colab": {
          "base_uri": "https://localhost:8080/"
        },
        "id": "U3mQmc-8sia4",
        "outputId": "10636d5a-521d-4b44-f544-c6dd084e8713"
      },
      "source": [
        "import csv\n",
        "\n",
        "# %precision 2 # not working in Colab?!!\n",
        "mpg_file = '/content/Coursera-Introduction-to-Data-Science-with-Python/resources/datasets/mpg.csv'\n",
        "with open(mpg_file) as csvfile:\n",
        "  mpg = list(csv.DictReader(csvfile))\n",
        "\n",
        "# let's look at the first entry\n",
        "print(mpg[:1])\n",
        "\n",
        "# how many entries?\n",
        "print(len(mpg))\n",
        "\n",
        "# the keys\n",
        "print(mpg[0].keys())\n",
        "\n",
        "# avg mpg, city and highway\n",
        "cty_mpg_avg = sum(float(d['cty']) for d in mpg) / len(mpg) # uses list comprehension\n",
        "print(f'{cty_mpg_avg:.2f}') # Note: %precision 2 did not work \n",
        "hwy_mpg_avg = sum(float(d['hwy']) for d in mpg) / len(mpg) # uses list comprehension\n",
        "print(f'{hwy_mpg_avg:.2f}')\n",
        "\n",
        "# cylinder mpg study\n",
        "cylinders = set(d['cyl'] for d in mpg) # create set of # of cylinders\n",
        "print(cylinders)\n",
        "\n",
        "cty_mpg_by_cyl = []\n",
        "for c in cylinders:\n",
        "  sum_mpg = 0\n",
        "  cyl_type_count = 0\n",
        "  for d in mpg:\n",
        "    if d['cyl'] == c:\n",
        "      sum_mpg += float(d['cty'])\n",
        "      cyl_type_count += 1\n",
        "  cty_mpg_by_cyl.append((c, round(sum_mpg / cyl_type_count, 2)))\n",
        "print(sorted(cty_mpg_by_cyl))\n",
        "\n",
        "# vehicle class study\n",
        "vehicle_classes = set(d['class'] for d in mpg)\n",
        "print(vehicle_classes)\n",
        "\n",
        "hwy_mpg_by_class = []\n",
        "for vc in vehicle_classes:\n",
        "  sum_mpg = 0\n",
        "  vehicle_class_count = 0\n",
        "  for d in mpg:\n",
        "    if d['class'] == vc:\n",
        "      sum_mpg += float(d['hwy'])\n",
        "      vehicle_class_count += 1\n",
        "  hwy_mpg_by_class.append((vc, round(sum_mpg / vehicle_class_count)))\n",
        "print(sorted(hwy_mpg_by_class))\n"
      ],
      "execution_count": 14,
      "outputs": [
        {
          "output_type": "stream",
          "text": [
            "[OrderedDict([('', '1'), ('manufacturer', 'audi'), ('model', 'a4'), ('displ', '1.8'), ('year', '1999'), ('cyl', '4'), ('trans', 'auto(l5)'), ('drv', 'f'), ('cty', '18'), ('hwy', '29'), ('fl', 'p'), ('class', 'compact')])]\n",
            "234\n",
            "odict_keys(['', 'manufacturer', 'model', 'displ', 'year', 'cyl', 'trans', 'drv', 'cty', 'hwy', 'fl', 'class'])\n",
            "16.86\n",
            "23.44\n",
            "{'5', '8', '4', '6'}\n",
            "[('4', 21.01), ('5', 20.5), ('6', 16.22), ('8', 12.57)]\n",
            "{'pickup', 'midsize', 'suv', 'subcompact', 'compact', 'minivan', '2seater'}\n",
            "[('2seater', 25), ('compact', 28), ('midsize', 27), ('minivan', 22), ('pickup', 17), ('subcompact', 28), ('suv', 18)]\n"
          ],
          "name": "stdout"
        }
      ]
    },
    {
      "cell_type": "markdown",
      "metadata": {
        "id": "uo67Qfw3o_MX"
      },
      "source": [
        "## Python Dates and Times"
      ]
    },
    {
      "cell_type": "markdown",
      "metadata": {
        "id": "j9f8XJWzpA5T"
      },
      "source": [
        "Video: https://www.coursera.org/learn/python-data-analysis/lecture/Fpybh/python-dates-and-times\n",
        "\n",
        "Dates and times can be stored in many different days. Some use epoch as a date reference (January 1, 1970). In Python, you can use the time module. "
      ]
    },
    {
      "cell_type": "code",
      "metadata": {
        "id": "TSeABkbXp71u"
      },
      "source": [
        "import datetime as dt\n",
        "import time as tm"
      ],
      "execution_count": 15,
      "outputs": []
    },
    {
      "cell_type": "code",
      "metadata": {
        "colab": {
          "base_uri": "https://localhost:8080/"
        },
        "id": "PwiHyaBNqnSu",
        "outputId": "838278c9-06f5-4c23-8067-752193199e38"
      },
      "source": [
        "tm.time()"
      ],
      "execution_count": 16,
      "outputs": [
        {
          "output_type": "execute_result",
          "data": {
            "text/plain": [
              "1615677237.178462"
            ]
          },
          "metadata": {
            "tags": []
          },
          "execution_count": 16
        }
      ]
    },
    {
      "cell_type": "code",
      "metadata": {
        "colab": {
          "base_uri": "https://localhost:8080/"
        },
        "id": "XIrGfhHBqpth",
        "outputId": "5d08d917-0cdf-4eec-df91-215940ae15ac"
      },
      "source": [
        "# today's date (appears to be UTC)\n",
        "dtnow = dt.datetime.fromtimestamp(tm.time())\n",
        "print(dtnow)"
      ],
      "execution_count": 17,
      "outputs": [
        {
          "output_type": "stream",
          "text": [
            "2021-03-13 23:13:57.187538\n"
          ],
          "name": "stdout"
        }
      ]
    },
    {
      "cell_type": "code",
      "metadata": {
        "colab": {
          "base_uri": "https://localhost:8080/"
        },
        "id": "UwWk8Mvoq8Gq",
        "outputId": "f214fc52-1851-4cc3-fa44-20e700d38b16"
      },
      "source": [
        "# year, month, etc.\n",
        "print(dtnow.year, dtnow.month, dtnow.day, dtnow.hour, dtnow.minute, dtnow.second)"
      ],
      "execution_count": 18,
      "outputs": [
        {
          "output_type": "stream",
          "text": [
            "2021 3 13 23 13 57\n"
          ],
          "name": "stdout"
        }
      ]
    },
    {
      "cell_type": "code",
      "metadata": {
        "colab": {
          "base_uri": "https://localhost:8080/"
        },
        "id": "j-3XHl4wrSK7",
        "outputId": "39a4a497-872d-442f-9061-8f37709c9891"
      },
      "source": [
        "# time shifts\n",
        "delta = dt.timedelta(days=100)\n",
        "print(delta)\n",
        "\n",
        "today = dt.date.today()\n",
        "print(today + delta)"
      ],
      "execution_count": 19,
      "outputs": [
        {
          "output_type": "stream",
          "text": [
            "100 days, 0:00:00\n",
            "2021-06-21\n"
          ],
          "name": "stdout"
        }
      ]
    },
    {
      "cell_type": "code",
      "metadata": {
        "colab": {
          "base_uri": "https://localhost:8080/"
        },
        "id": "NLmoeBXcr5IL",
        "outputId": "82cb9aa9-cf0a-470a-fc89-bbfcaa293a93"
      },
      "source": [
        "print(today > today-delta)"
      ],
      "execution_count": 20,
      "outputs": [
        {
          "output_type": "stream",
          "text": [
            "True\n"
          ],
          "name": "stdout"
        }
      ]
    },
    {
      "cell_type": "markdown",
      "metadata": {
        "id": "dx3XhrXSs-9j"
      },
      "source": [
        "## Advanced Python Objects, map()"
      ]
    },
    {
      "cell_type": "markdown",
      "metadata": {
        "id": "I-h1djrftBH2"
      },
      "source": [
        "Video: https://www.coursera.org/learn/python-data-analysis/lecture/PeW28/advanced-python-objects-map"
      ]
    },
    {
      "cell_type": "code",
      "metadata": {
        "colab": {
          "base_uri": "https://localhost:8080/"
        },
        "id": "QRozzWqZuTGB",
        "outputId": "31df672e-447f-4a8f-c1fb-9ebfd8889ad3"
      },
      "source": [
        "class Person:\n",
        "  department = 'School of Information'\n",
        "\n",
        "  def set_name(self, new_name):\n",
        "    self.name = new_name\n",
        "  def set_location(self, new_location):\n",
        "    self.location = new_location\n",
        "\n",
        "peter = Person()\n",
        "peter.set_name = 'Peter'\n",
        "peter.set_location = 'Canada'\n",
        "print(peter.set_name, peter.set_location)"
      ],
      "execution_count": 21,
      "outputs": [
        {
          "output_type": "stream",
          "text": [
            "Peter Canada\n"
          ],
          "name": "stdout"
        }
      ]
    },
    {
      "cell_type": "markdown",
      "metadata": {
        "id": "H8Ker4sQvJgn"
      },
      "source": [
        "## Advanced Python Lambda and List Comprehensions"
      ]
    },
    {
      "cell_type": "markdown",
      "metadata": {
        "id": "FtJcpIvgvLkk"
      },
      "source": [
        "Video: https://www.coursera.org/learn/python-data-analysis/lecture/AVjRT/advanced-python-lambda-and-list-comprehensions\n",
        "\n",
        "Lambdas are used to create a temporary function."
      ]
    },
    {
      "cell_type": "code",
      "metadata": {
        "colab": {
          "base_uri": "https://localhost:8080/"
        },
        "id": "EwTMpBKXvQWW",
        "outputId": "c9258d29-6c91-4310-ee2a-7b733ce5c7b3"
      },
      "source": [
        "my_function = lambda a, b, c : (a + b) ** c\n",
        "my_function(1, 2, 3)"
      ],
      "execution_count": 22,
      "outputs": [
        {
          "output_type": "execute_result",
          "data": {
            "text/plain": [
              "27"
            ]
          },
          "metadata": {
            "tags": []
          },
          "execution_count": 22
        }
      ]
    },
    {
      "cell_type": "markdown",
      "metadata": {
        "id": "c6pMtzeHzWYZ"
      },
      "source": [
        "List comprehensions are an abbreviated method to created an iterable list. Are created on one line. LCs can include conditonal statements."
      ]
    },
    {
      "cell_type": "code",
      "metadata": {
        "colab": {
          "base_uri": "https://localhost:8080/"
        },
        "id": "zRRH7ly0zaJh",
        "outputId": "d03315cb-e6a6-477a-8cc5-efcbf9669f1d"
      },
      "source": [
        "# conventional way\n",
        "my_list = []\n",
        "for num in range(20):\n",
        "  if num % 2 == 0:\n",
        "    my_list.append(num)\n",
        "print(my_list)\n",
        "\n",
        "# list comprehension way\n",
        "print([n for n in range(20) if n % 2 == 0])"
      ],
      "execution_count": 23,
      "outputs": [
        {
          "output_type": "stream",
          "text": [
            "[0, 2, 4, 6, 8, 10, 12, 14, 16, 18]\n",
            "[0, 2, 4, 6, 8, 10, 12, 14, 16, 18]\n"
          ],
          "name": "stdout"
        }
      ]
    },
    {
      "cell_type": "markdown",
      "metadata": {
        "id": "AzAEylVB1czn"
      },
      "source": [
        "## Numerical Python Library (NumPy)"
      ]
    },
    {
      "cell_type": "markdown",
      "metadata": {
        "id": "8fy8inXE1gcS"
      },
      "source": [
        "Video: https://www.coursera.org/learn/python-data-analysis/lecture/kAQc1/numerical-python-library-numpy\n",
        "\n"
      ]
    },
    {
      "cell_type": "code",
      "metadata": {
        "id": "faHKleti1bsn"
      },
      "source": [
        "import numpy as np\n",
        "import math"
      ],
      "execution_count": 24,
      "outputs": []
    },
    {
      "cell_type": "code",
      "metadata": {
        "colab": {
          "base_uri": "https://localhost:8080/"
        },
        "id": "hi-3yuaM2Ccg",
        "outputId": "1a181b21-6ddb-43dc-8568-abe0cc0e9505"
      },
      "source": [
        "a = np.array([1, 2, 3])\n",
        "print(a)\n",
        "print(a.ndim) # number of dimensions"
      ],
      "execution_count": 25,
      "outputs": [
        {
          "output_type": "stream",
          "text": [
            "[1 2 3]\n",
            "1\n"
          ],
          "name": "stdout"
        }
      ]
    },
    {
      "cell_type": "code",
      "metadata": {
        "colab": {
          "base_uri": "https://localhost:8080/"
        },
        "id": "bLvGauIq2fZc",
        "outputId": "1a12aca5-59f9-438c-97af-4517bf3e7d65"
      },
      "source": [
        "b = np.array([[1,2,3], [4,5,6]])\n",
        "print(b)\n",
        "print(b.shape) # length of each dimension\n",
        "print(b.dtype) # what types of variables\n",
        "\n",
        "# at 2:12 in the video"
      ],
      "execution_count": 26,
      "outputs": [
        {
          "output_type": "stream",
          "text": [
            "[[1 2 3]\n",
            " [4 5 6]]\n",
            "(2, 3)\n",
            "int64\n"
          ],
          "name": "stdout"
        }
      ]
    },
    {
      "cell_type": "markdown",
      "metadata": {
        "id": "O8yFW2d5Y9gI"
      },
      "source": [
        "# Experiments"
      ]
    },
    {
      "cell_type": "code",
      "metadata": {
        "colab": {
          "base_uri": "https://localhost:8080/",
          "height": 38
        },
        "id": "QOYRMZmo8Q17",
        "outputId": "e656e880-15e1-4c57-f5f3-f1b95fd62339"
      },
      "source": [
        "# Marquees are back! 😊\n",
        "%%html\n",
        "<marquee style='width: 50%; color: Green;'>Welcome to Tutorialspoint!</marquee>"
      ],
      "execution_count": 27,
      "outputs": [
        {
          "output_type": "display_data",
          "data": {
            "text/html": [
              "<marquee style='width: 50%; color: Green;'>Welcome to Tutorialspoint!</marquee>"
            ],
            "text/plain": [
              "<IPython.core.display.HTML object>"
            ]
          },
          "metadata": {
            "tags": []
          }
        }
      ]
    },
    {
      "cell_type": "code",
      "metadata": {
        "id": "c5VdEFQSreo6"
      },
      "source": [
        ""
      ],
      "execution_count": 27,
      "outputs": []
    }
  ]
}