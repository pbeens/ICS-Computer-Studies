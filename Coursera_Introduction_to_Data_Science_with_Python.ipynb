{
  "nbformat": 4,
  "nbformat_minor": 0,
  "metadata": {
    "colab": {
      "name": "Coursera Introduction to Data Science with Python.ipynb",
      "provenance": [],
      "collapsed_sections": [],
      "toc_visible": true,
      "authorship_tag": "ABX9TyM3r27nDVpYuHs5Sm01HUrs",
      "include_colab_link": true
    },
    "kernelspec": {
      "name": "python3",
      "display_name": "Python 3"
    }
  },
  "cells": [
    {
      "cell_type": "markdown",
      "metadata": {
        "id": "view-in-github",
        "colab_type": "text"
      },
      "source": [
        "<a href=\"https://colab.research.google.com/github/pbeens/ICS-Computer-Studies/blob/master/Coursera_Introduction_to_Data_Science_with_Python.ipynb\" target=\"_parent\"><img src=\"https://colab.research.google.com/assets/colab-badge.svg\" alt=\"Open In Colab\"/></a>"
      ]
    },
    {
      "cell_type": "markdown",
      "metadata": {
        "id": "uH9yHUZBhSYr"
      },
      "source": [
        "# Week 1"
      ]
    },
    {
      "cell_type": "markdown",
      "metadata": {
        "id": "zjQJRVwalplP"
      },
      "source": [
        "Outline: https://www.coursera.org/learn/python-data-analysis/home/week/1\n",
        "\n",
        "Forum: https://www.coursera.org/learn/python-data-analysis/discussions/weeks/1"
      ]
    },
    {
      "cell_type": "markdown",
      "metadata": {
        "id": "FCPkwWNnhXHo"
      },
      "source": [
        "## Introduction to Specialization"
      ]
    },
    {
      "cell_type": "markdown",
      "metadata": {
        "id": "8upVd8SPhdX-"
      },
      "source": [
        "Video: https://www.coursera.org/learn/python-data-analysis/lecture/TPrDp/introduction-to-specialization\n",
        "\n",
        "- Basic Python\n",
        "- Pandas\n",
        "- Advanced Querying and Manipulation\n",
        "- Basic statistical analysis"
      ]
    },
    {
      "cell_type": "markdown",
      "metadata": {
        "id": "Xkv6An9HhbjQ"
      },
      "source": [
        "## Introduction to the Course"
      ]
    },
    {
      "cell_type": "markdown",
      "metadata": {
        "id": "XVfPAMhxiEkd"
      },
      "source": [
        "Video: https://www.coursera.org/learn/python-data-analysis/lecture/MIvLe/introduction-to-the-course\n",
        "\n",
        "- Data manipulation\n",
        "- Pandas library, defacto standard\n",
        "- Tutorial-style videos, using Jupyter\n",
        "- Strategy for learning: take your own notes using Jupyter"
      ]
    },
    {
      "cell_type": "markdown",
      "metadata": {
        "id": "ufsfPhxpl4iL"
      },
      "source": [
        "## Syllabus"
      ]
    },
    {
      "cell_type": "markdown",
      "metadata": {
        "id": "ICIPM_hhl7LI"
      },
      "source": [
        "Link: https://www.coursera.org/learn/python-data-analysis/supplement/DNjE6/syllabus\n",
        "\n",
        "- Prerequisites\n",
        "- Grading and assignments\n",
        "- Code of Conduct\n",
        "- Working offline\n",
        "- Accessibility\n",
        "- Help!"
      ]
    },
    {
      "cell_type": "markdown",
      "metadata": {
        "id": "7ZpqZwvumSNm"
      },
      "source": [
        "## Notice for Auditing Learners: Assignment Submission"
      ]
    },
    {
      "cell_type": "markdown",
      "metadata": {
        "id": "6QahSlw_mUVH"
      },
      "source": [
        "Can't submit assignments unless you are a verified (paid?) learner. A link is available to pursue this path."
      ]
    },
    {
      "cell_type": "markdown",
      "metadata": {
        "id": "nvdAQyEvmli4"
      },
      "source": [
        "## The Coursera Jupyter Notebook System"
      ]
    },
    {
      "cell_type": "markdown",
      "metadata": {
        "id": "i1Ab_F2Amr0N"
      },
      "source": [
        "Video: https://www.coursera.org/learn/python-data-analysis/lecture/nWh1K/the-coursera-jupyter-notebook-system\n",
        "\n",
        "- code cells and markdown cells\n",
        "- code cells retain what they did in previous cells.\n",
        "- Kernal/Runtime > Interrupt to stop a running process or infinite loop\n"
      ]
    },
    {
      "cell_type": "markdown",
      "metadata": {
        "id": "EFyyrUfMpeHs"
      },
      "source": [
        "## Your Personal Jupyter Notebook Workspace"
      ]
    },
    {
      "cell_type": "markdown",
      "metadata": {
        "id": "37KPxvP8qo8k"
      },
      "source": [
        "Link: https://www.coursera.org/learn/python-data-analysis/ungradedLab/33VUU/your-personal-jupyter-notebook-workspace"
      ]
    },
    {
      "cell_type": "markdown",
      "metadata": {
        "id": "6SFUe1ztqtRZ"
      },
      "source": [
        "## Week 1 Textbook Reading Assignment"
      ]
    },
    {
      "cell_type": "markdown",
      "metadata": {
        "id": "UOah4Tr7qxo7"
      },
      "source": [
        "Link: https://www.coursera.org/learn/python-data-analysis/supplement/fP74v/week-1-textbook-reading-assignment\n",
        "\n",
        "- Chapter Two: Python Language Basics, IPython, and Jupyter Notebooks\n",
        "- Chapter Three: Built-In Data Structures, Functions, and Files\n",
        "- Chapter 4: NumPy Basics: Arrays and Vectorized Computation\n",
        "- Appendix A: Advanced NumPy (optional)"
      ]
    },
    {
      "cell_type": "markdown",
      "metadata": {
        "id": "GKyux24K1DlK"
      },
      "source": [
        "### Magic Commands"
      ]
    },
    {
      "cell_type": "code",
      "metadata": {
        "colab": {
          "base_uri": "https://localhost:8080/"
        },
        "id": "jjLNwTHHtldG",
        "outputId": "18fead36-6846-44e9-c80c-1a3bcae598a5"
      },
      "source": [
        "# Jupyter has magic commands!\n",
        "import numpy as np\n",
        "%timeit a = np.random.randn(100, 100)\n",
        "\n",
        "# magic commands can be assigned to variables\n",
        "foo = %pwd\n",
        "print(f'pwd: {foo}')"
      ],
      "execution_count": 1,
      "outputs": [
        {
          "output_type": "stream",
          "text": [
            "1000 loops, best of 5: 419 µs per loop\n",
            "pwd: /content\n"
          ],
          "name": "stdout"
        }
      ]
    },
    {
      "cell_type": "markdown",
      "metadata": {
        "id": "8bt9E3HBu485"
      },
      "source": [
        "- %quickref\n",
        "- %magic\n",
        "- %debug\n",
        "- %hist\n",
        "%pdb\n",
        "%paste\n",
        "%cpaste\n",
        "%reset\n",
        "%page OBJECT %run script.py %prun statement %time statement %timeit statement\n",
        "%who, %who_ls, %whos \n",
        "%xdel variable\n"
      ]
    },
    {
      "cell_type": "code",
      "metadata": {
        "id": "6lIBMyv7zS3L"
      },
      "source": [
        "# May be useful later...\n",
        "%matplotlib inline"
      ],
      "execution_count": 2,
      "outputs": []
    },
    {
      "cell_type": "markdown",
      "metadata": {
        "id": "3oUBfY7wzu5v"
      },
      "source": [
        "## 50 years of Data Science, David Donoho (Optional)"
      ]
    },
    {
      "cell_type": "markdown",
      "metadata": {
        "id": "TOEdem4Rzwg_"
      },
      "source": [
        "Link: http://courses.csail.mit.edu/18.337/2015/docs/50YearsDataScience.pdf"
      ]
    },
    {
      "cell_type": "markdown",
      "metadata": {
        "id": "114iW3gD0xA7"
      },
      "source": [
        "## Python Functions"
      ]
    },
    {
      "cell_type": "markdown",
      "metadata": {
        "id": "sChy79Pm00ri"
      },
      "source": [
        "Video: https://www.coursera.org/learn/python-data-analysis/lecture/v7PKy/python-functions\n",
        "\n",
        "High-level, interpretted language. Often used interactively, especially in Jupyter. Dynamically-typed, meaning variables are not declared as a specific type. \n",
        "\n",
        "Jupyter is stateful, meaning it retains values run in previous cells. \n",
        "\n",
        "A function returns None if not specified. "
      ]
    },
    {
      "cell_type": "markdown",
      "metadata": {
        "id": "2IFbtFcj12lN"
      },
      "source": [
        "### Examples Demo'd"
      ]
    },
    {
      "cell_type": "code",
      "metadata": {
        "colab": {
          "base_uri": "https://localhost:8080/"
        },
        "id": "r9nM0nQIz0mZ",
        "outputId": "eddd5a25-ace9-4e7b-8d3e-5bb34ab61d7a"
      },
      "source": [
        "x = 1\n",
        "y = 2\n",
        "x + y"
      ],
      "execution_count": 3,
      "outputs": [
        {
          "output_type": "execute_result",
          "data": {
            "text/plain": [
              "3"
            ]
          },
          "metadata": {
            "tags": []
          },
          "execution_count": 3
        }
      ]
    },
    {
      "cell_type": "code",
      "metadata": {
        "colab": {
          "base_uri": "https://localhost:8080/"
        },
        "id": "2mW6JhL_1zit",
        "outputId": "b7ac26ac-7bb1-4936-bce9-672ac7eef787"
      },
      "source": [
        "x"
      ],
      "execution_count": 4,
      "outputs": [
        {
          "output_type": "execute_result",
          "data": {
            "text/plain": [
              "1"
            ]
          },
          "metadata": {
            "tags": []
          },
          "execution_count": 4
        }
      ]
    },
    {
      "cell_type": "code",
      "metadata": {
        "colab": {
          "base_uri": "https://localhost:8080/"
        },
        "id": "E2eXkgLK16NF",
        "outputId": "ac7405e4-ed4b-43c8-ec59-4822a16f688e"
      },
      "source": [
        "# a function, with optional 3rd parameter\n",
        "def add_numbers(x, y, z=None):\n",
        "  if (z == None):\n",
        "    return x + y\n",
        "  else:\n",
        "    return x + y + z\n",
        "\n",
        "print(add_numbers(2, 4, 2))\n",
        "print(add_numbers(2, 4))"
      ],
      "execution_count": 5,
      "outputs": [
        {
          "output_type": "stream",
          "text": [
            "8\n",
            "6\n"
          ],
          "name": "stdout"
        }
      ]
    },
    {
      "cell_type": "markdown",
      "metadata": {
        "id": "FKKc2p8G3TOk"
      },
      "source": [
        "## Python Types and Sequences"
      ]
    },
    {
      "cell_type": "markdown",
      "metadata": {
        "id": "XJTJmYo83U8g"
      },
      "source": [
        "Video: https://www.coursera.org/learn/python-data-analysis/lecture/fZ466/python-types-and-sequences\n",
        "\n",
        "`type()` shows which type a variable is\n",
        "\n",
        "Tuple is immutable (cannot be changed). Created with parentheses. \n",
        "\n",
        "Lists are mutable and created with brackets. `append()` lets you add items to the list.\n",
        "\n",
        "Lists and tuples are iterable types, typically using a `for` loop. Can be accessed via an index. Can be accessed via slicing. "
      ]
    },
    {
      "cell_type": "code",
      "metadata": {
        "colab": {
          "base_uri": "https://localhost:8080/"
        },
        "id": "AiQgkFQAjpvc",
        "outputId": "1ff4b8ac-2f6b-4732-dca7-fb9dc58de412"
      },
      "source": [
        "x = (1, 'a', 2, 'b')\n",
        "print(type(x))\n",
        "x = [1, 'a', 2, 'b']\n",
        "print(type(x))\n",
        "x.append(3.3)\n",
        "print(x)\n",
        "for item in x:\n",
        "  print(item)\n",
        "print(len(x))\n",
        "print('a' in x)\n",
        "print(x[0], x[0:1], x[0:2], x[:2], x[-2:])"
      ],
      "execution_count": 6,
      "outputs": [
        {
          "output_type": "stream",
          "text": [
            "<class 'tuple'>\n",
            "<class 'list'>\n",
            "[1, 'a', 2, 'b', 3.3]\n",
            "1\n",
            "a\n",
            "2\n",
            "b\n",
            "3.3\n",
            "5\n",
            "True\n",
            "1 [1] [1, 'a'] [1, 'a'] ['b', 3.3]\n"
          ],
          "name": "stdout"
        }
      ]
    },
    {
      "cell_type": "markdown",
      "metadata": {
        "id": "lSQoNDBTlA1B"
      },
      "source": [
        "Strings can be split:"
      ]
    },
    {
      "cell_type": "code",
      "metadata": {
        "colab": {
          "base_uri": "https://localhost:8080/"
        },
        "id": "zFGM3AWBlEi_",
        "outputId": "1dd6fdba-61f6-4ef0-dfaa-3b58efb14662"
      },
      "source": [
        "items = 'A B C D'.split()\n",
        "print(items)"
      ],
      "execution_count": 7,
      "outputs": [
        {
          "output_type": "stream",
          "text": [
            "['A', 'B', 'C', 'D']\n"
          ],
          "name": "stdout"
        }
      ]
    },
    {
      "cell_type": "markdown",
      "metadata": {
        "id": "POqQJU3rl2GF"
      },
      "source": [
        "Dictionaries"
      ]
    },
    {
      "cell_type": "code",
      "metadata": {
        "colab": {
          "base_uri": "https://localhost:8080/"
        },
        "id": "nl6prTxVmUd_",
        "outputId": "e86d485f-4335-4762-f680-65764734c8c1"
      },
      "source": [
        "# example from https://www.w3schools.com/python/python_dictionaries.asp\n",
        "thisdict = {\n",
        "  \"brand\": \"Ford\",\n",
        "  \"model\": \"Mustang\",\n",
        "  \"year\": 1964\n",
        "}\n",
        "for spec, data in thisdict.items():\n",
        "  print(spec, data)"
      ],
      "execution_count": 8,
      "outputs": [
        {
          "output_type": "stream",
          "text": [
            "brand Ford\n",
            "model Mustang\n",
            "year 1964\n"
          ],
          "name": "stdout"
        }
      ]
    },
    {
      "cell_type": "code",
      "metadata": {
        "id": "YfKV6qmt2Ohk",
        "colab": {
          "base_uri": "https://localhost:8080/"
        },
        "outputId": "1fc0aa40-57d9-4074-8dd6-ba7484f53dfb"
      },
      "source": [
        "for data in thisdict.values():\n",
        "  print(data)"
      ],
      "execution_count": 9,
      "outputs": [
        {
          "output_type": "stream",
          "text": [
            "Ford\n",
            "Mustang\n",
            "1964\n"
          ],
          "name": "stdout"
        }
      ]
    },
    {
      "cell_type": "code",
      "metadata": {
        "colab": {
          "base_uri": "https://localhost:8080/"
        },
        "id": "0sVLhO0mmvDZ",
        "outputId": "b196dd3d-7e07-4918-eb4e-d91cb36f299c"
      },
      "source": [
        "for key in thisdict.keys():\n",
        "  print(key)"
      ],
      "execution_count": 10,
      "outputs": [
        {
          "output_type": "stream",
          "text": [
            "brand\n",
            "model\n",
            "year\n"
          ],
          "name": "stdout"
        }
      ]
    },
    {
      "cell_type": "markdown",
      "metadata": {
        "id": "m6-V5ObcnRjS"
      },
      "source": [
        "Multiple assignments can be done at once."
      ]
    },
    {
      "cell_type": "code",
      "metadata": {
        "colab": {
          "base_uri": "https://localhost:8080/"
        },
        "id": "rv_24TJgnWLq",
        "outputId": "a74429ee-d549-4d34-8a48-5c086737ac75"
      },
      "source": [
        "a, b, c = 1, \"abc\", [4, 5]\n",
        "print(a)\n",
        "print(b)\n",
        "print(c)"
      ],
      "execution_count": 11,
      "outputs": [
        {
          "output_type": "stream",
          "text": [
            "1\n",
            "abc\n",
            "[4, 5]\n"
          ],
          "name": "stdout"
        }
      ]
    },
    {
      "cell_type": "markdown",
      "metadata": {
        "id": "g-A2eM26nqiA"
      },
      "source": [
        "## Python More on Strings"
      ]
    },
    {
      "cell_type": "markdown",
      "metadata": {
        "id": "lK5nkyv7ns4S"
      },
      "source": [
        "Video: https://www.coursera.org/learn/python-data-analysis/lecture/HPh3O/python-more-on-strings\n",
        "\n",
        "Strings are Unicode-based. They used to be based on ASCII which was too limited. UTF solves this problem by allowing over a million characters. \n",
        "\n",
        "Python allows placeholders for variables when concatenating strings. The video covers `format()` but we can now use f-strings."
      ]
    },
    {
      "cell_type": "markdown",
      "metadata": {
        "id": "DMjiolkXo2y9"
      },
      "source": [
        "## Python Demonstration: Reading and Writing CSV files"
      ]
    },
    {
      "cell_type": "markdown",
      "metadata": {
        "id": "WcZBH0hbo4mc"
      },
      "source": [
        "Video: https://www.coursera.org/learn/python-data-analysis/lecture/ktRTE/python-demonstration-reading-and-writing-csv-files\n",
        "\n"
      ]
    },
    {
      "cell_type": "code",
      "metadata": {
        "id": "E6_Hl8WJnrqp"
      },
      "source": [
        "# This block will let you upload a file from your local computer.\n",
        "# Instead, we will clone a GitHub repository, in the next cell.\n",
        "import csv\n",
        "# mpg.csv\n",
        "from google.colab import files\n",
        "# uploaded = files.upload() # Use GitHub clone instead!"
      ],
      "execution_count": 12,
      "outputs": []
    },
    {
      "cell_type": "code",
      "metadata": {
        "colab": {
          "base_uri": "https://localhost:8080/"
        },
        "id": "o82sg48uVxsB",
        "outputId": "9ec0e0a9-e54b-49c7-bfbb-59af04a8c81c"
      },
      "source": [
        "!git clone https://github.com/pbeens/Coursera-Introduction-to-Data-Science-with-Python.git"
      ],
      "execution_count": 13,
      "outputs": [
        {
          "output_type": "stream",
          "text": [
            "fatal: destination path 'Coursera-Introduction-to-Data-Science-with-Python' already exists and is not an empty directory.\n"
          ],
          "name": "stdout"
        }
      ]
    },
    {
      "cell_type": "code",
      "metadata": {
        "colab": {
          "base_uri": "https://localhost:8080/"
        },
        "id": "VQviJymc8ZDF",
        "outputId": "2983ea0c-7904-47c4-842e-0162bae70187"
      },
      "source": [
        "# Testing another way to get a file from online\n",
        "import urllib.request\n",
        "url = 'https://gist.githubusercontent.com/pbeens/09530d2a47a926940216b971ecdce369/raw/50f899381a90c94cfd130dc41599fb3d51a2d372/mpg.csv'\n",
        "urllib.request.urlretrieve(url, \"mpg.csv\")"
      ],
      "execution_count": 14,
      "outputs": [
        {
          "output_type": "execute_result",
          "data": {
            "text/plain": [
              "('mpg.csv', <http.client.HTTPMessage at 0x7f4899881350>)"
            ]
          },
          "metadata": {
            "tags": []
          },
          "execution_count": 14
        }
      ]
    },
    {
      "cell_type": "code",
      "metadata": {
        "colab": {
          "base_uri": "https://localhost:8080/"
        },
        "id": "U3mQmc-8sia4",
        "outputId": "0c83423c-fa81-4c8d-c0f4-419e1d39650b"
      },
      "source": [
        "import csv\n",
        "\n",
        "# %precision 2 # not working in this cell for some reason\n",
        "mpg_file = '/content/Coursera-Introduction-to-Data-Science-with-Python/resources/datasets/mpg.csv'\n",
        "with open(mpg_file) as csvfile:\n",
        "  mpg = list(csv.DictReader(csvfile))\n",
        "\n",
        "# let's look at the first entry\n",
        "print(mpg[:1])\n",
        "\n",
        "# how many entries?\n",
        "print(len(mpg))\n",
        "\n",
        "# the keys\n",
        "print(mpg[0].keys())\n",
        "\n",
        "# avg mpg, city and highway\n",
        "cty_mpg_avg = sum(float(d['cty']) for d in mpg) / len(mpg) # uses list comprehension\n",
        "print(f'{cty_mpg_avg:.2f}') # Note: %precision 2 did not work \n",
        "hwy_mpg_avg = sum(float(d['hwy']) for d in mpg) / len(mpg) # uses list comprehension\n",
        "print(f'{hwy_mpg_avg:.2f}')\n",
        "\n",
        "# cylinder mpg study\n",
        "cylinders = set(d['cyl'] for d in mpg) # create set of # of cylinders\n",
        "print(cylinders)\n",
        "\n",
        "cty_mpg_by_cyl = []\n",
        "for c in cylinders:\n",
        "  sum_mpg = 0\n",
        "  cyl_type_count = 0\n",
        "  for d in mpg:\n",
        "    if d['cyl'] == c:\n",
        "      sum_mpg += float(d['cty'])\n",
        "      cyl_type_count += 1\n",
        "  cty_mpg_by_cyl.append((c, round(sum_mpg / cyl_type_count, 2)))\n",
        "print(sorted(cty_mpg_by_cyl))\n",
        "\n",
        "# vehicle class study\n",
        "vehicle_classes = set(d['class'] for d in mpg)\n",
        "print(vehicle_classes)\n",
        "\n",
        "hwy_mpg_by_class = []\n",
        "for vc in vehicle_classes:\n",
        "  sum_mpg = 0\n",
        "  vehicle_class_count = 0\n",
        "  for d in mpg:\n",
        "    if d['class'] == vc:\n",
        "      sum_mpg += float(d['hwy'])\n",
        "      vehicle_class_count += 1\n",
        "  hwy_mpg_by_class.append((vc, round(sum_mpg / vehicle_class_count)))\n",
        "print(sorted(hwy_mpg_by_class))\n"
      ],
      "execution_count": 15,
      "outputs": [
        {
          "output_type": "stream",
          "text": [
            "[OrderedDict([('', '1'), ('manufacturer', 'audi'), ('model', 'a4'), ('displ', '1.8'), ('year', '1999'), ('cyl', '4'), ('trans', 'auto(l5)'), ('drv', 'f'), ('cty', '18'), ('hwy', '29'), ('fl', 'p'), ('class', 'compact')])]\n",
            "234\n",
            "odict_keys(['', 'manufacturer', 'model', 'displ', 'year', 'cyl', 'trans', 'drv', 'cty', 'hwy', 'fl', 'class'])\n",
            "16.86\n",
            "23.44\n",
            "{'8', '4', '5', '6'}\n",
            "[('4', 21.01), ('5', 20.5), ('6', 16.22), ('8', 12.57)]\n",
            "{'suv', 'minivan', 'subcompact', 'midsize', 'pickup', 'compact', '2seater'}\n",
            "[('2seater', 25), ('compact', 28), ('midsize', 27), ('minivan', 22), ('pickup', 17), ('subcompact', 28), ('suv', 18)]\n"
          ],
          "name": "stdout"
        }
      ]
    },
    {
      "cell_type": "markdown",
      "metadata": {
        "id": "uo67Qfw3o_MX"
      },
      "source": [
        "## Python Dates and Times"
      ]
    },
    {
      "cell_type": "markdown",
      "metadata": {
        "id": "j9f8XJWzpA5T"
      },
      "source": [
        "Video: https://www.coursera.org/learn/python-data-analysis/lecture/Fpybh/python-dates-and-times\n",
        "\n",
        "Dates and times can be stored in many different days. Some use epoch as a date reference (January 1, 1970). In Python, you can use the time module. "
      ]
    },
    {
      "cell_type": "code",
      "metadata": {
        "id": "TSeABkbXp71u"
      },
      "source": [
        "import datetime as dt\n",
        "import time as tm"
      ],
      "execution_count": 16,
      "outputs": []
    },
    {
      "cell_type": "code",
      "metadata": {
        "colab": {
          "base_uri": "https://localhost:8080/"
        },
        "id": "PwiHyaBNqnSu",
        "outputId": "04c87b72-7515-4bdd-b1a2-6ea7bce93965"
      },
      "source": [
        "tm.time()"
      ],
      "execution_count": 17,
      "outputs": [
        {
          "output_type": "execute_result",
          "data": {
            "text/plain": [
              "1616428571.6228445"
            ]
          },
          "metadata": {
            "tags": []
          },
          "execution_count": 17
        }
      ]
    },
    {
      "cell_type": "code",
      "metadata": {
        "colab": {
          "base_uri": "https://localhost:8080/"
        },
        "id": "XIrGfhHBqpth",
        "outputId": "a923b261-abb4-47e4-d3df-250a022a3f46"
      },
      "source": [
        "# today's date (appears to be UTC)\n",
        "dtnow = dt.datetime.fromtimestamp(tm.time())\n",
        "print(dtnow)"
      ],
      "execution_count": 18,
      "outputs": [
        {
          "output_type": "stream",
          "text": [
            "2021-03-22 15:56:11.633144\n"
          ],
          "name": "stdout"
        }
      ]
    },
    {
      "cell_type": "code",
      "metadata": {
        "colab": {
          "base_uri": "https://localhost:8080/"
        },
        "id": "UwWk8Mvoq8Gq",
        "outputId": "dfb46fc7-90fb-419f-ce52-5397fc928e2f"
      },
      "source": [
        "# year, month, etc.\n",
        "print(dtnow.year, dtnow.month, dtnow.day, dtnow.hour, dtnow.minute, dtnow.second)"
      ],
      "execution_count": 19,
      "outputs": [
        {
          "output_type": "stream",
          "text": [
            "2021 3 22 15 56 11\n"
          ],
          "name": "stdout"
        }
      ]
    },
    {
      "cell_type": "code",
      "metadata": {
        "colab": {
          "base_uri": "https://localhost:8080/"
        },
        "id": "j-3XHl4wrSK7",
        "outputId": "f45217f2-ffb9-4ed8-9a28-94e26254839c"
      },
      "source": [
        "# time shifts\n",
        "delta = dt.timedelta(days=100)\n",
        "print(delta)\n",
        "\n",
        "today = dt.date.today()\n",
        "print(today + delta)"
      ],
      "execution_count": 20,
      "outputs": [
        {
          "output_type": "stream",
          "text": [
            "100 days, 0:00:00\n",
            "2021-06-30\n"
          ],
          "name": "stdout"
        }
      ]
    },
    {
      "cell_type": "code",
      "metadata": {
        "colab": {
          "base_uri": "https://localhost:8080/"
        },
        "id": "NLmoeBXcr5IL",
        "outputId": "37f2085d-b9db-45f4-8eaa-ebb42cdc5a54"
      },
      "source": [
        "print(today > today-delta)"
      ],
      "execution_count": 21,
      "outputs": [
        {
          "output_type": "stream",
          "text": [
            "True\n"
          ],
          "name": "stdout"
        }
      ]
    },
    {
      "cell_type": "markdown",
      "metadata": {
        "id": "dx3XhrXSs-9j"
      },
      "source": [
        "## Advanced Python Objects, map()"
      ]
    },
    {
      "cell_type": "markdown",
      "metadata": {
        "id": "I-h1djrftBH2"
      },
      "source": [
        "Video: https://www.coursera.org/learn/python-data-analysis/lecture/PeW28/advanced-python-objects-map"
      ]
    },
    {
      "cell_type": "code",
      "metadata": {
        "colab": {
          "base_uri": "https://localhost:8080/"
        },
        "id": "QRozzWqZuTGB",
        "outputId": "61d791c6-efca-4a64-9f6b-79fa126f98d0"
      },
      "source": [
        "class Person:\n",
        "  department = 'School of Information'\n",
        "\n",
        "  def set_name(self, new_name):\n",
        "    self.name = new_name\n",
        "  def set_location(self, new_location):\n",
        "    self.location = new_location\n",
        "\n",
        "peter = Person()\n",
        "peter.set_name = 'Peter'\n",
        "peter.set_location = 'Canada'\n",
        "print(peter.set_name, peter.set_location)"
      ],
      "execution_count": 22,
      "outputs": [
        {
          "output_type": "stream",
          "text": [
            "Peter Canada\n"
          ],
          "name": "stdout"
        }
      ]
    },
    {
      "cell_type": "markdown",
      "metadata": {
        "id": "H8Ker4sQvJgn"
      },
      "source": [
        "## Advanced Python Lambda and List Comprehensions"
      ]
    },
    {
      "cell_type": "markdown",
      "metadata": {
        "id": "FtJcpIvgvLkk"
      },
      "source": [
        "Video: https://www.coursera.org/learn/python-data-analysis/lecture/AVjRT/advanced-python-lambda-and-list-comprehensions\n",
        "\n",
        "Lambdas are used to create a temporary function."
      ]
    },
    {
      "cell_type": "code",
      "metadata": {
        "colab": {
          "base_uri": "https://localhost:8080/"
        },
        "id": "EwTMpBKXvQWW",
        "outputId": "9c47d342-1c6d-45d9-924d-457d98fbe1e3"
      },
      "source": [
        "my_function = lambda a, b, c : (a + b) ** c\n",
        "my_function(1, 2, 3)"
      ],
      "execution_count": 23,
      "outputs": [
        {
          "output_type": "execute_result",
          "data": {
            "text/plain": [
              "27"
            ]
          },
          "metadata": {
            "tags": []
          },
          "execution_count": 23
        }
      ]
    },
    {
      "cell_type": "markdown",
      "metadata": {
        "id": "c6pMtzeHzWYZ"
      },
      "source": [
        "List comprehensions are an abbreviated method to created an iterable list. Are created on one line. LCs can include conditonal statements."
      ]
    },
    {
      "cell_type": "code",
      "metadata": {
        "colab": {
          "base_uri": "https://localhost:8080/"
        },
        "id": "zRRH7ly0zaJh",
        "outputId": "d225e4f0-ac04-4bf9-8ee1-8ac9a33d2d40"
      },
      "source": [
        "# conventional way\n",
        "my_list = []\n",
        "for num in range(20):\n",
        "  if num % 2 == 0:\n",
        "    my_list.append(num)\n",
        "print(my_list)\n",
        "\n",
        "# list comprehension way\n",
        "print([n for n in range(20) if n % 2 == 0])"
      ],
      "execution_count": 24,
      "outputs": [
        {
          "output_type": "stream",
          "text": [
            "[0, 2, 4, 6, 8, 10, 12, 14, 16, 18]\n",
            "[0, 2, 4, 6, 8, 10, 12, 14, 16, 18]\n"
          ],
          "name": "stdout"
        }
      ]
    },
    {
      "cell_type": "markdown",
      "metadata": {
        "id": "AzAEylVB1czn"
      },
      "source": [
        "## Numerical Python Library (NumPy)"
      ]
    },
    {
      "cell_type": "markdown",
      "metadata": {
        "id": "8fy8inXE1gcS"
      },
      "source": [
        "Video: https://www.coursera.org/learn/python-data-analysis/lecture/kAQc1/numerical-python-library-numpy\n",
        "\n"
      ]
    },
    {
      "cell_type": "code",
      "metadata": {
        "id": "faHKleti1bsn"
      },
      "source": [
        "import numpy as np\n",
        "import math"
      ],
      "execution_count": 25,
      "outputs": []
    },
    {
      "cell_type": "code",
      "metadata": {
        "colab": {
          "base_uri": "https://localhost:8080/"
        },
        "id": "hi-3yuaM2Ccg",
        "outputId": "b78bfe5d-7139-42b8-9eae-19797bb7b16d"
      },
      "source": [
        "a = np.array([1, 2, 3])\n",
        "print(a)\n",
        "print(a.ndim) # number of dimensions"
      ],
      "execution_count": 26,
      "outputs": [
        {
          "output_type": "stream",
          "text": [
            "[1 2 3]\n",
            "1\n"
          ],
          "name": "stdout"
        }
      ]
    },
    {
      "cell_type": "code",
      "metadata": {
        "colab": {
          "base_uri": "https://localhost:8080/"
        },
        "id": "bLvGauIq2fZc",
        "outputId": "435338f6-84ed-4c14-d8d9-92a3281de44e"
      },
      "source": [
        "b = np.array([[1,2,3], [4,5,6]])\n",
        "print(b)"
      ],
      "execution_count": 27,
      "outputs": [
        {
          "output_type": "stream",
          "text": [
            "[[1 2 3]\n",
            " [4 5 6]]\n"
          ],
          "name": "stdout"
        }
      ]
    },
    {
      "cell_type": "code",
      "metadata": {
        "colab": {
          "base_uri": "https://localhost:8080/"
        },
        "id": "tEo-06knWgFF",
        "outputId": "67493773-122b-40e9-f0bb-014cafe74d91"
      },
      "source": [
        "print(b.shape) # length of each dimension"
      ],
      "execution_count": 28,
      "outputs": [
        {
          "output_type": "stream",
          "text": [
            "(2, 3)\n"
          ],
          "name": "stdout"
        }
      ]
    },
    {
      "cell_type": "code",
      "metadata": {
        "colab": {
          "base_uri": "https://localhost:8080/"
        },
        "id": "rNvaVHX-Wns9",
        "outputId": "4202f903-740d-4ef4-9555-9124e14d3669"
      },
      "source": [
        "print(b.dtype) # what types of variables"
      ],
      "execution_count": 29,
      "outputs": [
        {
          "output_type": "stream",
          "text": [
            "int64\n"
          ],
          "name": "stdout"
        }
      ]
    },
    {
      "cell_type": "code",
      "metadata": {
        "colab": {
          "base_uri": "https://localhost:8080/"
        },
        "id": "zpCSlCU_Wrf-",
        "outputId": "2523311b-f125-4229-dbf2-2e0617ea137f"
      },
      "source": [
        "# also floats\n",
        "c = np.array([2.2, 5, 1.1])\n",
        "print(c.dtype.name) # same o/p as w/o .name?"
      ],
      "execution_count": 30,
      "outputs": [
        {
          "output_type": "stream",
          "text": [
            "float64\n"
          ],
          "name": "stdout"
        }
      ]
    },
    {
      "cell_type": "code",
      "metadata": {
        "colab": {
          "base_uri": "https://localhost:8080/"
        },
        "id": "oWuwBv4UXJxr",
        "outputId": "f9a73312-e7f0-4e60-cf7a-37a227c767db"
      },
      "source": [
        "# create according to shape\n",
        "d = np.zeros((2,3)) # must pass a tuple\n",
        "print(d)\n",
        "e = np.ones((2,3))\n",
        "print(e)\n",
        "f = np.random.rand(2,3) # not a tuple! \n",
        "print(f)\n",
        "print(type(f))"
      ],
      "execution_count": 31,
      "outputs": [
        {
          "output_type": "stream",
          "text": [
            "[[0. 0. 0.]\n",
            " [0. 0. 0.]]\n",
            "[[1. 1. 1.]\n",
            " [1. 1. 1.]]\n",
            "[[0.60297469 0.81354453 0.76786491]\n",
            " [0.77567121 0.04742916 0.29907072]]\n",
            "<class 'numpy.ndarray'>\n"
          ],
          "name": "stdout"
        }
      ]
    },
    {
      "cell_type": "code",
      "metadata": {
        "colab": {
          "base_uri": "https://localhost:8080/"
        },
        "id": "xH3gnpRsXhWW",
        "outputId": "86d0b49c-0f5f-477d-8840-2961b5a041f1"
      },
      "source": [
        "# range of integers\n",
        "f = np.arange(10, 20, 2) # 2nd parm is exclusive\n",
        "print(f)\n",
        "print(type(f))"
      ],
      "execution_count": 32,
      "outputs": [
        {
          "output_type": "stream",
          "text": [
            "[10 12 14 16 18]\n",
            "<class 'numpy.ndarray'>\n"
          ],
          "name": "stdout"
        }
      ]
    },
    {
      "cell_type": "code",
      "metadata": {
        "colab": {
          "base_uri": "https://localhost:8080/"
        },
        "id": "qjOrQqWld-P1",
        "outputId": "5e8d1a21-7722-4637-f7cb-7452189addf8"
      },
      "source": [
        "# a range of floats\n",
        "np.linspace(0, 2, 15) # 15 numbers from 0 to 2"
      ],
      "execution_count": 33,
      "outputs": [
        {
          "output_type": "execute_result",
          "data": {
            "text/plain": [
              "array([0.        , 0.14285714, 0.28571429, 0.42857143, 0.57142857,\n",
              "       0.71428571, 0.85714286, 1.        , 1.14285714, 1.28571429,\n",
              "       1.42857143, 1.57142857, 1.71428571, 1.85714286, 2.        ])"
            ]
          },
          "metadata": {
            "tags": []
          },
          "execution_count": 33
        }
      ]
    },
    {
      "cell_type": "code",
      "metadata": {
        "colab": {
          "base_uri": "https://localhost:8080/"
        },
        "id": "5K6PDEGdeYba",
        "outputId": "68e9085a-6ff1-4d3b-d057-f2f8c2c3c4ac"
      },
      "source": [
        "# Array Operations\n",
        "\n",
        "a = np.array([10,20,30,40])\n",
        "b = np.array([1,2,3,4])\n",
        "\n",
        "c = a + b\n",
        "print(c)\n",
        "d = a * b\n",
        "print(d)"
      ],
      "execution_count": 34,
      "outputs": [
        {
          "output_type": "stream",
          "text": [
            "[11 22 33 44]\n",
            "[ 10  40  90 160]\n"
          ],
          "name": "stdout"
        }
      ]
    },
    {
      "cell_type": "code",
      "metadata": {
        "colab": {
          "base_uri": "https://localhost:8080/"
        },
        "id": "g-dD8Ddzc9rQ",
        "outputId": "3d017668-635b-4941-9c10-f2a1c7f207bd"
      },
      "source": [
        "deg_f = np.array([0,-10,-5,-15,0])\n",
        "deg_c = (deg_f -32) * (5/9)\n",
        "%precision 2\n",
        "print(deg_c)"
      ],
      "execution_count": 35,
      "outputs": [
        {
          "output_type": "stream",
          "text": [
            "[-17.78 -23.33 -20.56 -26.11 -17.78]\n"
          ],
          "name": "stdout"
        }
      ]
    },
    {
      "cell_type": "code",
      "metadata": {
        "colab": {
          "base_uri": "https://localhost:8080/"
        },
        "id": "X8mjCcubhbeD",
        "outputId": "a9253e6d-a2ea-49ac-c558-9f607fbc97f9"
      },
      "source": [
        "# Boolean expressions on NP arrays\n",
        "deg_c > -20"
      ],
      "execution_count": 36,
      "outputs": [
        {
          "output_type": "execute_result",
          "data": {
            "text/plain": [
              "array([ True, False, False, False,  True])"
            ]
          },
          "metadata": {
            "tags": []
          },
          "execution_count": 36
        }
      ]
    },
    {
      "cell_type": "code",
      "metadata": {
        "colab": {
          "base_uri": "https://localhost:8080/"
        },
        "id": "gcVBGGX0exiZ",
        "outputId": "077f3b30-4c83-4d4b-d9e6-83e2611199e7"
      },
      "source": [
        "# Matrix Manipulation\n",
        "A = np.array([[1,1],[0,1]]) \n",
        "B = np.array([[2,0],[3,4]])\n",
        "print(A * B)\n",
        "# Matrix Product - Note the '@'\n",
        "print(A@B)"
      ],
      "execution_count": 37,
      "outputs": [
        {
          "output_type": "stream",
          "text": [
            "[[2 0]\n",
            " [0 4]]\n",
            "[[5 4]\n",
            " [3 4]]\n"
          ],
          "name": "stdout"
        }
      ]
    },
    {
      "cell_type": "code",
      "metadata": {
        "id": "T9TvwYZKi7Eo"
      },
      "source": [
        "# Video completed to 8:07 only"
      ],
      "execution_count": 38,
      "outputs": []
    },
    {
      "cell_type": "markdown",
      "metadata": {
        "id": "ErziVvfZjH7C"
      },
      "source": [
        "## Manipulating Text with Regular Expression"
      ]
    },
    {
      "cell_type": "markdown",
      "metadata": {
        "id": "lUBCSVc_jJ2M"
      },
      "source": [
        "Video: https://www.coursera.org/learn/python-data-analysis/lecture/aSuH7/manipulating-text-with-regular-expression\n",
        "\n",
        "AKA Regex. Pattern matching. Returns chunks of text. Why use? To check if pattern exists, or return instances of text, or clean up data. "
      ]
    },
    {
      "cell_type": "code",
      "metadata": {
        "id": "c-gXUKVyjlbg"
      },
      "source": [
        "import re\n",
        "\n",
        "# match() returns a boolean"
      ],
      "execution_count": 39,
      "outputs": []
    },
    {
      "cell_type": "markdown",
      "metadata": {
        "id": "fFJpx0aSrznl"
      },
      "source": [
        "### re.search()"
      ]
    },
    {
      "cell_type": "code",
      "metadata": {
        "colab": {
          "base_uri": "https://localhost:8080/"
        },
        "id": "oJJeRcTCh3Bz",
        "outputId": "78a4d25b-0ad9-4c7c-a784-9634184ffdf8"
      },
      "source": [
        "# search returns a boolean\n",
        "\n",
        "text = 'This is a good day'\n",
        "if re.search('good', text):\n",
        "  print('Wonderful!')\n",
        "else:\n",
        "  print('Alas :(')"
      ],
      "execution_count": 40,
      "outputs": [
        {
          "output_type": "stream",
          "text": [
            "Wonderful!\n"
          ],
          "name": "stdout"
        }
      ]
    },
    {
      "cell_type": "markdown",
      "metadata": {
        "id": "7mSQXiuzr6rM"
      },
      "source": [
        "### findall() and split()"
      ]
    },
    {
      "cell_type": "code",
      "metadata": {
        "colab": {
          "base_uri": "https://localhost:8080/"
        },
        "id": "oQPfbHilh6-j",
        "outputId": "1397c577-a2a0-4c55-f94b-a9e5dff9aada"
      },
      "source": [
        "# findall() and split() return chunks\n",
        "\n",
        "text = 'Amy works diligently. Amy gets good grades. Our student Amy is successful'\n",
        "print(re.split('Amy', text)) # returns chunks split on 'Amy'\n",
        "print(re.findall('Amy', text))\n",
        "print(len(re.findall('Amy', text))) # number of occurrences"
      ],
      "execution_count": 41,
      "outputs": [
        {
          "output_type": "stream",
          "text": [
            "['', ' works diligently. ', ' gets good grades. Our student ', ' is successful']\n",
            "['Amy', 'Amy', 'Amy']\n",
            "3\n"
          ],
          "name": "stdout"
        }
      ]
    },
    {
      "cell_type": "markdown",
      "metadata": {
        "id": "LObb845esGUE"
      },
      "source": [
        "### Anchors"
      ]
    },
    {
      "cell_type": "code",
      "metadata": {
        "colab": {
          "base_uri": "https://localhost:8080/"
        },
        "id": "ixf9g5q-iBOx",
        "outputId": "cc0c3078-3695-4403-f171-273116f317fb"
      },
      "source": [
        "# Anchors, ^ = at start, $ = at end\n",
        "\n",
        "print(re.search('^Amy', text)) # returns a re object"
      ],
      "execution_count": 42,
      "outputs": [
        {
          "output_type": "stream",
          "text": [
            "<re.Match object; span=(0, 3), match='Amy'>\n"
          ],
          "name": "stdout"
        }
      ]
    },
    {
      "cell_type": "markdown",
      "metadata": {
        "id": "wFOogQ7ksK3y"
      },
      "source": [
        "### Patterns and Character Classes"
      ]
    },
    {
      "cell_type": "code",
      "metadata": {
        "colab": {
          "base_uri": "https://localhost:8080/"
        },
        "id": "L4xFbl9hiIaD",
        "outputId": "8e850f58-0056-4029-f82c-e6f87a98b6ae"
      },
      "source": [
        "# Patterns and Character Classes\n",
        "\n",
        "grades = 'ACAAAABCBCBAA'\n",
        "\n",
        "print(re.findall('B', grades)) # ['B', 'B', 'B']\n",
        "\n",
        "# [] are used for options (or)\n",
        "\n",
        "print(re.findall('[BC]', grades)) # ['C', 'B', 'C', 'B', 'C', 'B']\n",
        "\n",
        "print(re.findall('[A][BC]', grades)) # ['AC', 'AB']\n",
        "print(re.findall('[A][B-C]', grades)) # [B-C] is the range from B-C\n",
        "\n",
        "# | = OR\n",
        "\n",
        "print(re.findall('BC|BA', grades)) # ['BC', 'BC', 'BA']\n",
        "\n",
        "# A carat can be used to negate inside of a set operator\n",
        "\n",
        "print(re.findall('[^A]', grades)) # ['C', 'B', 'C', 'B', 'C', 'B']\n",
        "print(re.findall('^[^A]', grades)) # produces [] empty list (starts with A)"
      ],
      "execution_count": 43,
      "outputs": [
        {
          "output_type": "stream",
          "text": [
            "['B', 'B', 'B']\n",
            "['C', 'B', 'C', 'B', 'C', 'B']\n",
            "['AC', 'AB']\n",
            "['AC', 'AB']\n",
            "['BC', 'BC', 'BA']\n",
            "['C', 'B', 'C', 'B', 'C', 'B']\n",
            "[]\n"
          ],
          "name": "stdout"
        }
      ]
    },
    {
      "cell_type": "markdown",
      "metadata": {
        "id": "fjCMVhZ-sQEk"
      },
      "source": [
        "### Quantifiers"
      ]
    },
    {
      "cell_type": "code",
      "metadata": {
        "colab": {
          "base_uri": "https://localhost:8080/"
        },
        "id": "ZgqXppDviS3U",
        "outputId": "a7513485-b15e-43b6-fda9-9fb2e9fe6a09"
      },
      "source": [
        "import re\n",
        "\n",
        "# Quantifiers - number of times e{m,n} e=expression, m=minTimes, n=MaxTimes \n",
        "\n",
        "grades = 'ACAAAABCBCBAA'\n",
        "\n",
        "# streaks of a character\n",
        "print(re.findall('A{2,10}', grades)) # between 2 and 10 A's = ['AAAA', 'AA']\n",
        "print(re.findall('A{1,1}A{1,1}', grades)) # ['AA', 'AA', 'AA']\n",
        "\n",
        "# regex \"consumes\" strings (i.e., characters are not reused)\n",
        "\n",
        "# watching extra space!\n",
        "print(re.findall('A{2,2}', grades)) # ['AA', 'AA', 'AA']\n",
        "print(re.findall('A{2, 2}', grades)) # []\n",
        "\n",
        "# one number in braces is considered min and max\n",
        "\n",
        "print(re.findall('A{2}', grades)) # ['AA', 'AA', 'AA']\n",
        "\n",
        "# * = 0 times\n",
        "# ? = one or more times\n",
        "# + = one or more times\n",
        "# \\w = any pattern of number or character\n",
        "# \\s = any whitespace\n",
        "\n",
        "# remember to re-read in GitHub repository\n",
        "ferpa = '/content/Coursera-Introduction-to-Data-Science-with-Python/resources/week-1/datasets/ferpa.txt'\n",
        "with open(ferpa) as file:\n",
        "  wiki = file.read()\n",
        "\n",
        "# headers in this article look like this: Overview[edit]\n",
        "\n",
        "# -> ['Overview[edit]', 'records[edit]', 'records[edit]']\n",
        "# note that brackets must be escaped\n",
        "print(re.findall('[a-z|A-Z]{1,100}\\[edit\\]', wiki))\n",
        "\n",
        "# equivalent of previous example (with \\w) Note: [\\w] = [a-z|A-Z] \n",
        "print(re.findall('[\\w]{1,100}\\[edit\\]', wiki))\n",
        "\n",
        "# equivalent again! (with *)\n",
        "print(re.findall('[\\w]*\\[edit\\]', wiki))\n",
        "\n",
        "# now let's include spaces to get entire headers\n",
        "print(re.findall('[\\w ]*\\[edit\\]', wiki)) # ['Overview[edit]', 'Access to public records[edit]', 'Student medical records[edit]']\n",
        "\n",
        "# Let's extract the titles, splitting on the '[' at the beginning of [edit]\n",
        "print('=== Titles ===')\n",
        "for title in re.findall('[\\w ]*\\[edit\\]', wiki):\n",
        "  print(re.split('[\\[]', title)[0])"
      ],
      "execution_count": 44,
      "outputs": [
        {
          "output_type": "stream",
          "text": [
            "['AAAA', 'AA']\n",
            "['AA', 'AA', 'AA']\n",
            "['AA', 'AA', 'AA']\n",
            "[]\n",
            "['AA', 'AA', 'AA']\n",
            "['Overview[edit]', 'records[edit]', 'records[edit]']\n",
            "['Overview[edit]', 'records[edit]', 'records[edit]']\n",
            "['Overview[edit]', 'records[edit]', 'records[edit]']\n",
            "['Overview[edit]', 'Access to public records[edit]', 'Student medical records[edit]']\n",
            "=== Titles ===\n",
            "Overview\n",
            "Access to public records\n",
            "Student medical records\n"
          ],
          "name": "stdout"
        }
      ]
    },
    {
      "cell_type": "markdown",
      "metadata": {
        "id": "4dogZ2AGsWbJ"
      },
      "source": [
        "### Groups"
      ]
    },
    {
      "cell_type": "code",
      "metadata": {
        "colab": {
          "base_uri": "https://localhost:8080/"
        },
        "id": "J5m-GkokRKDm",
        "outputId": "a2260bd9-2a7c-4ffe-ac94-29f301e18157"
      },
      "source": [
        "# Groups\n",
        "\n",
        "# Let's improve upone the previous example by creating groups (in parentheses)\n",
        "# item.groups() returns a tuple of each group item\n",
        "# group(0) is the entire item, group(1) is first, etc.\n",
        "\n",
        "print('=== Old way ===')\n",
        "print(re.findall('[\\w ]*\\[edit\\]', wiki))\n",
        "\n",
        "print('=== item.groups() ===')\n",
        "for item in re.finditer('([\\w ]*)(\\[edit\\])', wiki):\n",
        "  print(item.groups())\n",
        "\n",
        "print('=== item.group(1) ===')\n",
        "for item in re.finditer('([\\w ]*)(\\[edit\\])', wiki):\n",
        "  print(item.group(1))\n",
        "\n",
        "# groups can be named with ?P<name> and use of groupdict()[]\n",
        "\n",
        "print('=== named with ?P<name> ===')\n",
        "for item in re.finditer('(?P<title>[\\w ]*)(?P<edit_link>\\[edit\\])', wiki):\n",
        "  print(item.groupdict()['title'])\n",
        "\n",
        "print('=== groupdict() ===')\n",
        "for item in re.finditer('(?P<title>[\\w ]*)(?P<edit_link>\\[edit\\])', wiki):\n",
        "  print(item.groupdict())\n",
        "\n",
        "# . = single character\n",
        "# /d = digit\n",
        "# /s = white space"
      ],
      "execution_count": 45,
      "outputs": [
        {
          "output_type": "stream",
          "text": [
            "=== Old way ===\n",
            "['Overview[edit]', 'Access to public records[edit]', 'Student medical records[edit]']\n",
            "=== item.groups() ===\n",
            "('Overview', '[edit]')\n",
            "('Access to public records', '[edit]')\n",
            "('Student medical records', '[edit]')\n",
            "=== item.group(1) ===\n",
            "Overview\n",
            "Access to public records\n",
            "Student medical records\n",
            "=== named with ?P<name> ===\n",
            "Overview\n",
            "Access to public records\n",
            "Student medical records\n",
            "=== groupdict() ===\n",
            "{'title': 'Overview', 'edit_link': '[edit]'}\n",
            "{'title': 'Access to public records', 'edit_link': '[edit]'}\n",
            "{'title': 'Student medical records', 'edit_link': '[edit]'}\n"
          ],
          "name": "stdout"
        }
      ]
    },
    {
      "cell_type": "markdown",
      "metadata": {
        "id": "wQqsOpSesbcU"
      },
      "source": [
        "### Look-ahead and Look-behind (stuff to ignore)"
      ]
    },
    {
      "cell_type": "code",
      "metadata": {
        "colab": {
          "base_uri": "https://localhost:8080/"
        },
        "id": "EKyWCFSAkERi",
        "outputId": "eb7dbf61-0d44-44c6-e670-2f7811546631"
      },
      "source": [
        "# Look-ahead and Look-behind with ?=\n",
        "# This example ignores [edit]\n",
        "\n",
        "for item in re.finditer('(?P<title>[\\w ]+)(?=\\[edit\\])', wiki):\n",
        "  print(item)"
      ],
      "execution_count": 46,
      "outputs": [
        {
          "output_type": "stream",
          "text": [
            "<re.Match object; span=(0, 8), match='Overview'>\n",
            "<re.Match object; span=(2715, 2739), match='Access to public records'>\n",
            "<re.Match object; span=(3692, 3715), match='Student medical records'>\n"
          ],
          "name": "stdout"
        }
      ]
    },
    {
      "cell_type": "markdown",
      "metadata": {
        "id": "3Rtr_LrisgGl"
      },
      "source": [
        "### Example : Wikipedia Data"
      ]
    },
    {
      "cell_type": "code",
      "metadata": {
        "colab": {
          "base_uri": "https://localhost:8080/"
        },
        "id": "IkXtAjywl093",
        "outputId": "00e2b233-da5d-4973-bfb7-7f64cde5446b"
      },
      "source": [
        "# Example : Wikipedia Data\n",
        "\n",
        "import re\n",
        "\n",
        "file = '/content/Coursera-Introduction-to-Data-Science-with-Python/resources/week-1/datasets/buddhist.txt'\n",
        "with open(file) as f:\n",
        "  wiki = f.read()\n",
        "\n",
        "# print(wiki[:1000])\n",
        "\n",
        "pattern = \"\"\"\n",
        "(?P<title>.*)       # the university title\n",
        "(–\\ located\\ in\\ )  # an indicator of the location (Note: copy correct dash type!)\n",
        "(?P<city>\\w*)       # city the university is in\n",
        "(,\\ )               # separator for the state\n",
        "(?P<state>\\w*)      # the state the university is located in\n",
        "\"\"\"\n",
        "\n",
        "print('=== re.finditer(pattern, wiki, re.VERBOSE) ===')\n",
        "for item in re.finditer(pattern, wiki, re.VERBOSE):\n",
        "  print(item.groupdict())"
      ],
      "execution_count": 47,
      "outputs": [
        {
          "output_type": "stream",
          "text": [
            "=== re.finditer(pattern, wiki, re.VERBOSE) ===\n",
            "{'title': 'Dhammakaya Open University ', 'city': 'Azusa', 'state': 'California'}\n",
            "{'title': 'Dharmakirti College ', 'city': 'Tucson', 'state': 'Arizona'}\n",
            "{'title': 'Dharma Realm Buddhist University ', 'city': 'Ukiah', 'state': 'California'}\n",
            "{'title': 'Ewam Buddhist Institute ', 'city': 'Arlee', 'state': 'Montana'}\n",
            "{'title': 'Institute of Buddhist Studies ', 'city': 'Berkeley', 'state': 'California'}\n",
            "{'title': 'Maitripa College ', 'city': 'Portland', 'state': 'Oregon'}\n",
            "{'title': 'University of the West ', 'city': 'Rosemead', 'state': 'California'}\n",
            "{'title': 'Won Institute of Graduate Studies ', 'city': 'Glenside', 'state': 'Pennsylvania'}\n"
          ],
          "name": "stdout"
        }
      ]
    },
    {
      "cell_type": "markdown",
      "metadata": {
        "id": "s4c0oAGaWwXQ"
      },
      "source": [
        "### Example: New York Times and Hashtags"
      ]
    },
    {
      "cell_type": "code",
      "metadata": {
        "colab": {
          "base_uri": "https://localhost:8080/"
        },
        "id": "o0QbkHmxqgVY",
        "outputId": "71fd0361-be55-4751-b77d-6097ca8238c2"
      },
      "source": [
        "# Example: New York Times and Hashtags\n",
        "\n",
        "file = '/content/Coursera-Introduction-to-Data-Science-with-Python/resources/week-1/datasets/nytimeshealth.txt'\n",
        "with open(file) as f:\n",
        "  health = f.read()\n",
        "\n",
        "print('=== health[:500] ===')\n",
        "print(health[:500])\n",
        "\n",
        "# let's grab hashtags\n",
        "\n",
        "pattern = '#[\\w\\d]*(?=\\s)'\n",
        "\n",
        "print(re.findall(pattern, health))\n",
        "print(set(re.findall(pattern, health))) # get rid of dupes\n"
      ],
      "execution_count": 48,
      "outputs": [
        {
          "output_type": "stream",
          "text": [
            "=== health[:500] ===\n",
            "548662191340421120|Sat Dec 27 02:10:34 +0000 2014|Risks in Using Social Media to Spot Signs of Mental Distress http://nyti.ms/1rqi9I1\n",
            "548579831169163265|Fri Dec 26 20:43:18 +0000 2014|RT @paula_span: The most effective nationwide diabetes prevention program you've probably never heard of:  http://newoldage.blogs.nytimes.com/2014/12/26/diabetes-prevention-that-works/\n",
            "548579045269852161|Fri Dec 26 20:40:11 +0000 2014|The New Old Age Blog: Diabetes Prevention That Works http://nyti.ms/1xm7fTi\n",
            "54844\n",
            "['#askwell', '#pregnancy', '#Colorado', '#VegetarianThanksgiving', '#FallPrevention', '#Ebola', '#Ebola', '#ebola', '#Ebola', '#Ebola', '#EbolaHysteria', '#AskNYT', '#Ebola', '#Ebola', '#Liberia', '#Excalibur', '#ebola', '#Ebola', '#dallas', '#nobelprize2014', '#ebola', '#ebola', '#monrovia', '#ebola', '#nobelprize2014', '#ebola', '#nobelprize2014', '#Medicine', '#Ebola', '#Monrovia', '#Ebola', '#smell', '#Ebola', '#Ebola', '#Ebola', '#Monrovia', '#Ebola', '#ebola', '#monrovia', '#liberia', '#benzos', '#ClimateChange', '#Whole', '#Wheat', '#Focaccia', '#Tomatoes', '#Olives', '#Recipes', '#Health', '#Ebola', '#Monrovia', '#Liberia', '#Ebola', '#Ebola', '#Liberia', '#Ebola', '#blood', '#Ebola', '#organtrafficking', '#EbolaOutbreak', '#SierraLeone', '#Freetown', '#SierraLeone', '#ebolaoutbreak', '#kenema', '#ebola', '#Ebola', '#ebola', '#ebola', '#Ebola', '#ASMR', '#AIDS2014', '#AIDS', '#MH17', '#benzos']\n",
            "{'#ASMR', '#Medicine', '#Wheat', '#dallas', '#Liberia', '#Tomatoes', '#MH17', '#ClimateChange', '#monrovia', '#SierraLeone', '#smell', '#askwell', '#blood', '#Ebola', '#benzos', '#Colorado', '#Focaccia', '#organtrafficking', '#VegetarianThanksgiving', '#AskNYT', '#nobelprize2014', '#Health', '#FallPrevention', '#pregnancy', '#Excalibur', '#ebolaoutbreak', '#ebola', '#AIDS', '#AIDS2014', '#kenema', '#Olives', '#Monrovia', '#EbolaOutbreak', '#Freetown', '#Whole', '#liberia', '#EbolaHysteria', '#Recipes'}\n"
          ],
          "name": "stdout"
        }
      ]
    },
    {
      "cell_type": "markdown",
      "metadata": {
        "id": "Cmt6KDQqjT0d"
      },
      "source": [
        "## Regular Expression Operations Documentation"
      ]
    },
    {
      "cell_type": "markdown",
      "metadata": {
        "id": "4rvEvATRjg7R"
      },
      "source": [
        "See https://docs.python.org/3/library/re.html"
      ]
    },
    {
      "cell_type": "markdown",
      "metadata": {
        "id": "n5C0H29ejoww"
      },
      "source": [
        "## Regular Expressions Debugging"
      ]
    },
    {
      "cell_type": "markdown",
      "metadata": {
        "id": "jAY2PZzDjqlR"
      },
      "source": [
        "See https://regex101.com/"
      ]
    },
    {
      "cell_type": "markdown",
      "metadata": {
        "id": "n4i7XW06L1LI"
      },
      "source": [
        "# Week 2: Basic Data Processing with Pandas\n",
        "\n"
      ]
    },
    {
      "cell_type": "markdown",
      "metadata": {
        "id": "Wg0l5qBVL_Wt"
      },
      "source": [
        "Week 2: https://www.coursera.org/learn/python-data-analysis/home/week/2\n",
        "\n",
        "Discussion Forum: https://www.coursera.org/learn/python-data-analysis/discussions/weeks/2\n",
        "\n",
        "In this week of the course you'll learn the fundamentals of one of the most important toolkits Python has for data cleaning and processing -- pandas. You'll learn how to read in data into DataFrame structures, how to query these structures, and the details about such structures are indexed.\n",
        "\n",
        "Learning Objectives\n",
        "- Demonstrate how the series class builds on top of numpy datatypes\n",
        "- Remember that the series class is a numpy array\n",
        "- Demonstrate the basics of how to query a series structure\n",
        "- Remember the dataframe as the principle data science structure\n",
        "- Define the various features of a dataframe\n",
        "- Demonstrate what an axis is in relation to dataframes\n",
        "- Demonstrate the difference between the series and dataframe classes\n",
        "- Create and use pandas DataFrames to represent raw data"
      ]
    },
    {
      "cell_type": "markdown",
      "metadata": {
        "id": "eZO9J4enNJbt"
      },
      "source": [
        "## Week 2 Reading Assignments\n",
        "\n",
        "Course Textbook\n",
        "[Python for Data Analysis](https://wesmckinney.com/pages/book.html) by Wes McKinney (O’Reilly). Copyright 2017 Wes McKinney, 978-1-491-95766-0.\n",
        "\n",
        "- Chapter Five: Getting started with pandas\n",
        "- Chapter Seven: Data Cleaning and Preparation"
      ]
    },
    {
      "cell_type": "markdown",
      "metadata": {
        "id": "4O7a3C3HNs5m"
      },
      "source": [
        "## Introduction to Pandas\n",
        "\n",
        "Video: https://www.coursera.org/learn/python-data-analysis/lecture/khJPQ/introduction-to-pandas\n",
        "\n",
        "Stack Overflow Reference: https://stackoverflow.com/questions/tagged/pandas\n",
        "\n",
        "Open Source, created in 2008 by Wes McKinney (the same author as the referece book)\n",
        "\n",
        "See https://planetpython.org/ \n",
        "\n"
      ]
    },
    {
      "cell_type": "markdown",
      "metadata": {
        "id": "iSrzd8l3adOf"
      },
      "source": [
        "## The Series Data Structure\n"
      ]
    },
    {
      "cell_type": "markdown",
      "metadata": {
        "id": "cUzWBO2jamD8"
      },
      "source": [
        "Video: https://www.coursera.org/learn/python-data-analysis/lecture/lhVO7/the-series-data-structure\n",
        "\n"
      ]
    },
    {
      "cell_type": "code",
      "metadata": {
        "colab": {
          "base_uri": "https://localhost:8080/"
        },
        "id": "mmfYGw-DNo_w",
        "outputId": "dce5eb6c-bab5-4dcc-ae21-740a0c15776a"
      },
      "source": [
        "import pandas as pd\n",
        "\n",
        "students = ['Alice', 'Jack', 'Molly']\n",
        "pd.Series(students)"
      ],
      "execution_count": 49,
      "outputs": [
        {
          "output_type": "execute_result",
          "data": {
            "text/plain": [
              "0    Alice\n",
              "1     Jack\n",
              "2    Molly\n",
              "dtype: object"
            ]
          },
          "metadata": {
            "tags": []
          },
          "execution_count": 49
        }
      ]
    },
    {
      "cell_type": "code",
      "metadata": {
        "colab": {
          "base_uri": "https://localhost:8080/"
        },
        "id": "I_x55_CCbKVg",
        "outputId": "8cd856e2-dccb-44ea-9b72-1e22a7f66df0"
      },
      "source": [
        "numbers = [1, 2, 3]\n",
        "pd.Series(numbers)"
      ],
      "execution_count": 50,
      "outputs": [
        {
          "output_type": "execute_result",
          "data": {
            "text/plain": [
              "0    1\n",
              "1    2\n",
              "2    3\n",
              "dtype: int64"
            ]
          },
          "metadata": {
            "tags": []
          },
          "execution_count": 50
        }
      ]
    },
    {
      "cell_type": "code",
      "metadata": {
        "colab": {
          "base_uri": "https://localhost:8080/"
        },
        "id": "Owecyub-bjKy",
        "outputId": "434e10e0-15f0-4bac-d922-e11ffecb942b"
      },
      "source": [
        "students = ['Alice', 'Jack', None]\n",
        "pd.Series(students)"
      ],
      "execution_count": 51,
      "outputs": [
        {
          "output_type": "execute_result",
          "data": {
            "text/plain": [
              "0    Alice\n",
              "1     Jack\n",
              "2     None\n",
              "dtype: object"
            ]
          },
          "metadata": {
            "tags": []
          },
          "execution_count": 51
        }
      ]
    },
    {
      "cell_type": "code",
      "metadata": {
        "colab": {
          "base_uri": "https://localhost:8080/"
        },
        "id": "Yu0Bw2JabpWQ",
        "outputId": "1054c069-aa12-42d7-8c47-2a3e371572fd"
      },
      "source": [
        "numbers = [1, 2, None]\n",
        "pd.Series(numbers)"
      ],
      "execution_count": 52,
      "outputs": [
        {
          "output_type": "execute_result",
          "data": {
            "text/plain": [
              "0    1.0\n",
              "1    2.0\n",
              "2    NaN\n",
              "dtype: float64"
            ]
          },
          "metadata": {
            "tags": []
          },
          "execution_count": 52
        }
      ]
    },
    {
      "cell_type": "code",
      "metadata": {
        "colab": {
          "base_uri": "https://localhost:8080/"
        },
        "id": "s_PsKH1tNVL9",
        "outputId": "7ee3c304-5442-4b4c-b2f9-74cb48a3a74f"
      },
      "source": [
        "import numpy as np\n",
        "\n",
        "print(np.nan == None) # False\n",
        "print(np.nan == np.nan) # False (what?!! You can't do an equiality test to NaN...)\n",
        "print(np.isnan(np.nan)) # True (this works this way)"
      ],
      "execution_count": 53,
      "outputs": [
        {
          "output_type": "stream",
          "text": [
            "False\n",
            "False\n",
            "True\n"
          ],
          "name": "stdout"
        }
      ]
    },
    {
      "cell_type": "code",
      "metadata": {
        "colab": {
          "base_uri": "https://localhost:8080/"
        },
        "id": "aC2rBGjCOG1W",
        "outputId": "5cf4dfb4-0e57-41ce-f34d-f45db384293a"
      },
      "source": [
        "import pandas as pd\n",
        "\n",
        "student_scores = {'Alice': 'Physics',\n",
        "                  'Jack': 'Chemistry',\n",
        "                  'MOlly': 'English'}\n",
        "\n",
        "s = pd.Series(student_scores)\n",
        "print(s)"
      ],
      "execution_count": 54,
      "outputs": [
        {
          "output_type": "stream",
          "text": [
            "Alice      Physics\n",
            "Jack     Chemistry\n",
            "MOlly      English\n",
            "dtype: object\n"
          ],
          "name": "stdout"
        }
      ]
    },
    {
      "cell_type": "code",
      "metadata": {
        "colab": {
          "base_uri": "https://localhost:8080/"
        },
        "id": "RxVLBf6YOoJ_",
        "outputId": "727a96ef-4927-4b9c-ac00-a62df11bd9c4"
      },
      "source": [
        "print(s.index)"
      ],
      "execution_count": 55,
      "outputs": [
        {
          "output_type": "stream",
          "text": [
            "Index(['Alice', 'Jack', 'MOlly'], dtype='object')\n"
          ],
          "name": "stdout"
        }
      ]
    },
    {
      "cell_type": "code",
      "metadata": {
        "colab": {
          "base_uri": "https://localhost:8080/"
        },
        "id": "qus2Zs7mOw78",
        "outputId": "a7e65341-a651-4e94-f73d-fdaf3e748d10"
      },
      "source": [
        "students = [('Alice', 'Brown'), ('Jack', 'White'), ('Molly', 'Green')] # list of Tuples\n",
        "print(pd.Series(students))"
      ],
      "execution_count": 56,
      "outputs": [
        {
          "output_type": "stream",
          "text": [
            "0    (Alice, Brown)\n",
            "1     (Jack, White)\n",
            "2    (Molly, Green)\n",
            "dtype: object\n"
          ],
          "name": "stdout"
        }
      ]
    },
    {
      "cell_type": "code",
      "metadata": {
        "colab": {
          "base_uri": "https://localhost:8080/"
        },
        "id": "4Fz0_EgnWPsg",
        "outputId": "e324e3c2-17d9-4a79-8c31-9c7ddb4cec19"
      },
      "source": [
        "s = pd.Series(['Physics', 'Chemistry', 'English'], index = ['Alice', 'Jack', 'Molly'])\n",
        "print(s)"
      ],
      "execution_count": 57,
      "outputs": [
        {
          "output_type": "stream",
          "text": [
            "Alice      Physics\n",
            "Jack     Chemistry\n",
            "Molly      English\n",
            "dtype: object\n"
          ],
          "name": "stdout"
        }
      ]
    },
    {
      "cell_type": "code",
      "metadata": {
        "colab": {
          "base_uri": "https://localhost:8080/"
        },
        "id": "El6csOqOWkz0",
        "outputId": "68e28b69-42a0-479f-8739-72523ac141c0"
      },
      "source": [
        "# What happens when series doesn't agree with index? NaN\n",
        "student_scores = {'Alice': 'Physics',\n",
        "                  'Jack': 'Chemistry',\n",
        "                  'Molly': 'English'}\n",
        "s = pd.Series(student_scores, index = ['Alice', 'Molly', 'Sam'])\n",
        "print(s)"
      ],
      "execution_count": 58,
      "outputs": [
        {
          "output_type": "stream",
          "text": [
            "Alice    Physics\n",
            "Molly    English\n",
            "Sam          NaN\n",
            "dtype: object\n"
          ],
          "name": "stdout"
        }
      ]
    },
    {
      "cell_type": "markdown",
      "metadata": {
        "id": "jerZBdyEXXWd"
      },
      "source": [
        "## Querying a Series"
      ]
    },
    {
      "cell_type": "markdown",
      "metadata": {
        "id": "OA_-AATVXZ-c"
      },
      "source": [
        "Video: https://www.coursera.org/learn/python-data-analysis/lecture/3Fk9W/querying-a-series\n",
        "\n",
        "Can query by index position (iloc) or index label (loc).\n",
        "\n",
        "What does the term “broadcasting” mean in Pandas documentation?\n",
        "https://stackoverflow.com/questions/29954263/what-does-the-term-broadcasting-mean-in-pandas-documentation\n"
      ]
    },
    {
      "cell_type": "code",
      "metadata": {
        "colab": {
          "base_uri": "https://localhost:8080/"
        },
        "id": "wwXt8tXKWk6e",
        "outputId": "ca65eaa6-f645-4de4-dac6-ab7ab269cd34"
      },
      "source": [
        "import pandas as pd\n",
        "\n",
        "student_classes = pd.Series(['Physics', 'Chemistry', 'English', 'History'], index = ['Alice', 'Jack', 'Molly', 'Sam'])\n",
        "s = pd.Series(student_classes)\n",
        "print(s)\n"
      ],
      "execution_count": 59,
      "outputs": [
        {
          "output_type": "stream",
          "text": [
            "Alice      Physics\n",
            "Jack     Chemistry\n",
            "Molly      English\n",
            "Sam        History\n",
            "dtype: object\n"
          ],
          "name": "stdout"
        }
      ]
    },
    {
      "cell_type": "code",
      "metadata": {
        "colab": {
          "base_uri": "https://localhost:8080/"
        },
        "id": "JQrJkWLtXmYb",
        "outputId": "3f880929-4535-43ba-e193-ef369102fc50"
      },
      "source": [
        "print(s.iloc[3]) # index #3"
      ],
      "execution_count": 60,
      "outputs": [
        {
          "output_type": "stream",
          "text": [
            "History\n"
          ],
          "name": "stdout"
        }
      ]
    },
    {
      "cell_type": "code",
      "metadata": {
        "colab": {
          "base_uri": "https://localhost:8080/"
        },
        "id": "OtLdfMRTWk_6",
        "outputId": "ff9f0b0e-9b34-4cd8-99e3-c767fb980824"
      },
      "source": [
        "print(s.loc['Molly']) # index 'Molly'"
      ],
      "execution_count": 61,
      "outputs": [
        {
          "output_type": "stream",
          "text": [
            "English\n"
          ],
          "name": "stdout"
        }
      ]
    },
    {
      "cell_type": "code",
      "metadata": {
        "colab": {
          "base_uri": "https://localhost:8080/"
        },
        "id": "J3ZizDbyYrIO",
        "outputId": "06c92f23-4bb9-44f6-a93b-a09c04af16eb"
      },
      "source": [
        "print(s[0])     # both work! \n",
        "print(s['Alice'])"
      ],
      "execution_count": 62,
      "outputs": [
        {
          "output_type": "stream",
          "text": [
            "Physics\n",
            "Physics\n"
          ],
          "name": "stdout"
        }
      ]
    },
    {
      "cell_type": "code",
      "metadata": {
        "colab": {
          "base_uri": "https://localhost:8080/"
        },
        "id": "-07X2L2bY2w-",
        "outputId": "2aef3d57-52fb-4d86-91a5-607e8c2612dc"
      },
      "source": [
        "class_code = {99: 'Physics',\n",
        "              100: 'Chemistry',\n",
        "              101: 'English',\n",
        "              102: 'History'}\n",
        "# print(class_code[0]) # won't work in this case because indices are numbers\n",
        "print(class_code[99]) # works"
      ],
      "execution_count": 63,
      "outputs": [
        {
          "output_type": "stream",
          "text": [
            "Physics\n"
          ],
          "name": "stdout"
        }
      ]
    },
    {
      "cell_type": "code",
      "metadata": {
        "colab": {
          "base_uri": "https://localhost:8080/"
        },
        "id": "ezzIhGTsZmkh",
        "outputId": "2ea79adc-2225-4665-a7a0-0cba789bb0f2"
      },
      "source": [
        "# iterate over list - long way\n",
        "\n",
        "grades = pd.Series([90, 80, 70, 60])\n",
        "\n",
        "total = 0\n",
        "for grade in grades:\n",
        "  total += grade\n",
        "print(total/len(grades))"
      ],
      "execution_count": 64,
      "outputs": [
        {
          "output_type": "stream",
          "text": [
            "75.0\n"
          ],
          "name": "stdout"
        }
      ]
    },
    {
      "cell_type": "code",
      "metadata": {
        "colab": {
          "base_uri": "https://localhost:8080/"
        },
        "id": "tD3kHtataHV6",
        "outputId": "4e73af65-e8b3-457e-9bd6-f748f97da61e"
      },
      "source": [
        "# iterate over list - better way\n",
        "\n",
        "import numpy as np\n",
        "\n",
        "total = np.sum(grades)\n",
        "print(total / len(grades))"
      ],
      "execution_count": 65,
      "outputs": [
        {
          "output_type": "stream",
          "text": [
            "75.0\n"
          ],
          "name": "stdout"
        }
      ]
    },
    {
      "cell_type": "code",
      "metadata": {
        "colab": {
          "base_uri": "https://localhost:8080/"
        },
        "id": "ZlpkdOVKa35P",
        "outputId": "c0fef81d-2ca9-4123-ab54-d68f3a9c1ce5"
      },
      "source": [
        "# Let's set up to time the different methods to show which is faster\n",
        "\n",
        "numbers = pd.Series(np.random.randint(0, 1000, 10000))\n",
        "print(len(numbers))\n",
        "print(numbers.head())"
      ],
      "execution_count": 66,
      "outputs": [
        {
          "output_type": "stream",
          "text": [
            "10000\n",
            "0     23\n",
            "1    981\n",
            "2    111\n",
            "3     56\n",
            "4    744\n",
            "dtype: int64\n"
          ],
          "name": "stdout"
        }
      ]
    },
    {
      "cell_type": "code",
      "metadata": {
        "colab": {
          "base_uri": "https://localhost:8080/"
        },
        "id": "QGlZELy_aE5I",
        "outputId": "44e4ea8c-889c-402c-cccb-c0c5171cb0df"
      },
      "source": [
        "%%timeit -n100\n",
        "\n",
        "# iterative way\n",
        "\n",
        "total = 0\n",
        "for number in numbers:\n",
        "  total += number\n",
        "total / len(numbers)"
      ],
      "execution_count": 67,
      "outputs": [
        {
          "output_type": "stream",
          "text": [
            "100 loops, best of 5: 1.32 ms per loop\n"
          ],
          "name": "stdout"
        }
      ]
    },
    {
      "cell_type": "code",
      "metadata": {
        "colab": {
          "base_uri": "https://localhost:8080/"
        },
        "id": "wpejmtWAbcAp",
        "outputId": "eb24dab7-ff34-492c-9474-31e511534ff5"
      },
      "source": [
        "%%timeit -n100\n",
        "\n",
        "# better way - way faster! (uses numpy broadcasting)\n",
        "\n",
        "total = np.sum(numbers)\n",
        "total/len(numbers)"
      ],
      "execution_count": 68,
      "outputs": [
        {
          "output_type": "stream",
          "text": [
            "100 loops, best of 5: 66.9 µs per loop\n"
          ],
          "name": "stdout"
        }
      ]
    },
    {
      "cell_type": "code",
      "metadata": {
        "colab": {
          "base_uri": "https://localhost:8080/"
        },
        "id": "hbBv76UsiL8J",
        "outputId": "a8abb12c-6fa2-425f-98ab-1da01dd8397c"
      },
      "source": [
        "print(numbers.head())"
      ],
      "execution_count": 69,
      "outputs": [
        {
          "output_type": "stream",
          "text": [
            "0     23\n",
            "1    981\n",
            "2    111\n",
            "3     56\n",
            "4    744\n",
            "dtype: int64\n"
          ],
          "name": "stdout"
        }
      ]
    },
    {
      "cell_type": "code",
      "metadata": {
        "colab": {
          "base_uri": "https://localhost:8080/"
        },
        "id": "v5BXDtpjidQx",
        "outputId": "ca79835b-525a-4e1d-aa34-f1a9d845a1fe"
      },
      "source": [
        "# let's add 2 to all items\n",
        "numbers += 2 # works fast on a np.Series! \n",
        "print(numbers.head())"
      ],
      "execution_count": 70,
      "outputs": [
        {
          "output_type": "stream",
          "text": [
            "0     25\n",
            "1    983\n",
            "2    113\n",
            "3     58\n",
            "4    746\n",
            "dtype: int64\n"
          ],
          "name": "stdout"
        }
      ]
    },
    {
      "cell_type": "code",
      "metadata": {
        "colab": {
          "base_uri": "https://localhost:8080/"
        },
        "id": "Ejj1g8NKi1bq",
        "outputId": "212748b4-98c5-4b9e-bdb5-e324704b9bf9"
      },
      "source": [
        "%%timeit n=10\n",
        "\n",
        "# slow iterative approach\n",
        "\n",
        "s = pd.Series(np.random.randint(0, 1000, 10000))\n",
        "for label, value in s.iteritems():\n",
        "  s.loc[label] = value + 2"
      ],
      "execution_count": 71,
      "outputs": [
        {
          "output_type": "stream",
          "text": [
            "1 loop, best of 5: 489 ms per loop\n"
          ],
          "name": "stdout"
        }
      ]
    },
    {
      "cell_type": "code",
      "metadata": {
        "colab": {
          "base_uri": "https://localhost:8080/"
        },
        "id": "3M3mYVosjWgS",
        "outputId": "0c54761c-1d94-4ce4-b428-6bcce82da1d6"
      },
      "source": [
        "%%timeit -n10\n",
        "\n",
        "# waaaay faster way!\n",
        "\n",
        "s = pd.Series(np.random.randint(0, 1000, 10000))\n",
        "s += 2\n"
      ],
      "execution_count": 72,
      "outputs": [
        {
          "output_type": "stream",
          "text": [
            "10 loops, best of 5: 378 µs per loop\n"
          ],
          "name": "stdout"
        }
      ]
    },
    {
      "cell_type": "code",
      "metadata": {
        "colab": {
          "base_uri": "https://localhost:8080/"
        },
        "id": "x_4Q0u4wLhH0",
        "outputId": "0dc1356f-7833-4a46-9869-18c334e712e7"
      },
      "source": [
        "s = pd.Series([1,2,3])\n",
        "s.loc['History'] = 102 # add new index. Not a problem\n",
        "print(s)"
      ],
      "execution_count": 73,
      "outputs": [
        {
          "output_type": "stream",
          "text": [
            "0            1\n",
            "1            2\n",
            "2            3\n",
            "History    102\n",
            "dtype: int64\n"
          ],
          "name": "stdout"
        }
      ]
    },
    {
      "cell_type": "code",
      "metadata": {
        "colab": {
          "base_uri": "https://localhost:8080/"
        },
        "id": "qvhh5DkgW9W8",
        "outputId": "4555555f-2362-4d17-94da-79f625ed388a"
      },
      "source": [
        "# unique indexes\n",
        "students_classes = pd.Series({'Alice': 'Physics',\n",
        "                              'Jack': 'Chemistry',\n",
        "                              'Molly': 'English',\n",
        "                              'Sam': 'History'})\n",
        "print(student_classes)"
      ],
      "execution_count": 74,
      "outputs": [
        {
          "output_type": "stream",
          "text": [
            "Alice      Physics\n",
            "Jack     Chemistry\n",
            "Molly      English\n",
            "Sam        History\n",
            "dtype: object\n"
          ],
          "name": "stdout"
        }
      ]
    },
    {
      "cell_type": "code",
      "metadata": {
        "colab": {
          "base_uri": "https://localhost:8080/"
        },
        "id": "18DPdSXfXY6T",
        "outputId": "5fda0d34-0838-401c-e108-56622715022f"
      },
      "source": [
        "# identtical indexes\n",
        "kelly_classes = pd.Series(['Philosophy', 'Arts', 'Math'], index = ['Kelly', 'Kelly', 'Kelly'])\n",
        "print(kelly_classes)"
      ],
      "execution_count": 75,
      "outputs": [
        {
          "output_type": "stream",
          "text": [
            "Kelly    Philosophy\n",
            "Kelly          Arts\n",
            "Kelly          Math\n",
            "dtype: object\n"
          ],
          "name": "stdout"
        }
      ]
    },
    {
      "cell_type": "code",
      "metadata": {
        "colab": {
          "base_uri": "https://localhost:8080/"
        },
        "id": "Ao4r5Op5X3BF",
        "outputId": "07bc91b5-96e5-45d5-ee25-2238939dfc7c"
      },
      "source": [
        "# merge the dissimilar Series - not a problem!\n",
        "# Pandas always does its best to merge series\n",
        "all_students_classes = students_classes.append(kelly_classes)\n",
        "print(all_students_classes)"
      ],
      "execution_count": 76,
      "outputs": [
        {
          "output_type": "stream",
          "text": [
            "Alice       Physics\n",
            "Jack      Chemistry\n",
            "Molly       English\n",
            "Sam         History\n",
            "Kelly    Philosophy\n",
            "Kelly          Arts\n",
            "Kelly          Math\n",
            "dtype: object\n"
          ],
          "name": "stdout"
        }
      ]
    },
    {
      "cell_type": "markdown",
      "metadata": {
        "id": "afFXpsaKYmLM"
      },
      "source": [
        "## DataFrame Data Structure\n"
      ]
    },
    {
      "cell_type": "markdown",
      "metadata": {
        "id": "flFr-evkYqUF"
      },
      "source": [
        "Video: https://www.coursera.org/learn/python-data-analysis/lecture/J8MzB/dataframe-data-structure\n",
        "\n",
        "Dataframes are the heart of the panda library. A 2-dimensional series, with an index and multiple columns of data."
      ]
    },
    {
      "cell_type": "code",
      "metadata": {
        "id": "LgDHh6rOYj-Z"
      },
      "source": [
        "import pandas as pd\n",
        "\n",
        "# let's set up some data to use (multiple dictionaries)\n",
        "\n",
        "record1 = pd.Series({'Name': 'Alice',\n",
        "                     'Class': 'Physics',\n",
        "                     'Score': 85})\n",
        "record2 = pd.Series({'Name': 'Jack',\n",
        "                     'Class': 'Chemistry',\n",
        "                     'Score': 82})\n",
        "record3 = pd.Series({'Name': 'Helen',\n",
        "                     'Class': 'Biology',\n",
        "                     'Score': 90})\n",
        "\n",
        "df = pd.DataFrame([record1, record2, record3], \n",
        "                  index = ['school1', 'school2', 'school3'])"
      ],
      "execution_count": 77,
      "outputs": []
    },
    {
      "cell_type": "code",
      "metadata": {
        "colab": {
          "base_uri": "https://localhost:8080/",
          "height": 142
        },
        "id": "ImSfk2VUYlKg",
        "outputId": "3107766f-8e1c-4fcb-ef48-0f95651f389a"
      },
      "source": [
        "df.head()"
      ],
      "execution_count": 78,
      "outputs": [
        {
          "output_type": "execute_result",
          "data": {
            "text/html": [
              "<div>\n",
              "<style scoped>\n",
              "    .dataframe tbody tr th:only-of-type {\n",
              "        vertical-align: middle;\n",
              "    }\n",
              "\n",
              "    .dataframe tbody tr th {\n",
              "        vertical-align: top;\n",
              "    }\n",
              "\n",
              "    .dataframe thead th {\n",
              "        text-align: right;\n",
              "    }\n",
              "</style>\n",
              "<table border=\"1\" class=\"dataframe\">\n",
              "  <thead>\n",
              "    <tr style=\"text-align: right;\">\n",
              "      <th></th>\n",
              "      <th>Name</th>\n",
              "      <th>Class</th>\n",
              "      <th>Score</th>\n",
              "    </tr>\n",
              "  </thead>\n",
              "  <tbody>\n",
              "    <tr>\n",
              "      <th>school1</th>\n",
              "      <td>Alice</td>\n",
              "      <td>Physics</td>\n",
              "      <td>85</td>\n",
              "    </tr>\n",
              "    <tr>\n",
              "      <th>school2</th>\n",
              "      <td>Jack</td>\n",
              "      <td>Chemistry</td>\n",
              "      <td>82</td>\n",
              "    </tr>\n",
              "    <tr>\n",
              "      <th>school3</th>\n",
              "      <td>Helen</td>\n",
              "      <td>Biology</td>\n",
              "      <td>90</td>\n",
              "    </tr>\n",
              "  </tbody>\n",
              "</table>\n",
              "</div>"
            ],
            "text/plain": [
              "          Name      Class  Score\n",
              "school1  Alice    Physics     85\n",
              "school2   Jack  Chemistry     82\n",
              "school3  Helen    Biology     90"
            ]
          },
          "metadata": {
            "tags": []
          },
          "execution_count": 78
        }
      ]
    },
    {
      "cell_type": "code",
      "metadata": {
        "colab": {
          "base_uri": "https://localhost:8080/",
          "height": 142
        },
        "id": "PUx8XFBYYlQd",
        "outputId": "5578701d-c9e9-40b3-f6fb-12f4e33ad216"
      },
      "source": [
        "# Another way to enter the data (list of dictionaries)\n",
        "\n",
        "students = [{'Name': 'Alice',\n",
        "                     'Class': 'Physics',\n",
        "                     'Score': 85},\n",
        "            {'Name': 'Jack',\n",
        "             'Class': 'Chemistry',\n",
        "                     'Score': 82},\n",
        "            {'Name': 'Helen',\n",
        "             'Class': 'Biology',\n",
        "             'Score': 90}]\n",
        "\n",
        "df = pd.DataFrame(students, index = ['school1', 'school2', 'school1']) # two school 1's\n",
        "df.head()"
      ],
      "execution_count": 79,
      "outputs": [
        {
          "output_type": "execute_result",
          "data": {
            "text/html": [
              "<div>\n",
              "<style scoped>\n",
              "    .dataframe tbody tr th:only-of-type {\n",
              "        vertical-align: middle;\n",
              "    }\n",
              "\n",
              "    .dataframe tbody tr th {\n",
              "        vertical-align: top;\n",
              "    }\n",
              "\n",
              "    .dataframe thead th {\n",
              "        text-align: right;\n",
              "    }\n",
              "</style>\n",
              "<table border=\"1\" class=\"dataframe\">\n",
              "  <thead>\n",
              "    <tr style=\"text-align: right;\">\n",
              "      <th></th>\n",
              "      <th>Name</th>\n",
              "      <th>Class</th>\n",
              "      <th>Score</th>\n",
              "    </tr>\n",
              "  </thead>\n",
              "  <tbody>\n",
              "    <tr>\n",
              "      <th>school1</th>\n",
              "      <td>Alice</td>\n",
              "      <td>Physics</td>\n",
              "      <td>85</td>\n",
              "    </tr>\n",
              "    <tr>\n",
              "      <th>school2</th>\n",
              "      <td>Jack</td>\n",
              "      <td>Chemistry</td>\n",
              "      <td>82</td>\n",
              "    </tr>\n",
              "    <tr>\n",
              "      <th>school1</th>\n",
              "      <td>Helen</td>\n",
              "      <td>Biology</td>\n",
              "      <td>90</td>\n",
              "    </tr>\n",
              "  </tbody>\n",
              "</table>\n",
              "</div>"
            ],
            "text/plain": [
              "          Name      Class  Score\n",
              "school1  Alice    Physics     85\n",
              "school2   Jack  Chemistry     82\n",
              "school1  Helen    Biology     90"
            ]
          },
          "metadata": {
            "tags": []
          },
          "execution_count": 79
        }
      ]
    },
    {
      "cell_type": "code",
      "metadata": {
        "colab": {
          "base_uri": "https://localhost:8080/"
        },
        "id": "c1fjRru0YlUz",
        "outputId": "45fb318d-2ca7-443c-c929-c82a936e9606"
      },
      "source": [
        "# accessing by index\n",
        "\n",
        "df.loc['school2']"
      ],
      "execution_count": 80,
      "outputs": [
        {
          "output_type": "execute_result",
          "data": {
            "text/plain": [
              "Name          Jack\n",
              "Class    Chemistry\n",
              "Score           82\n",
              "Name: school2, dtype: object"
            ]
          },
          "metadata": {
            "tags": []
          },
          "execution_count": 80
        }
      ]
    },
    {
      "cell_type": "code",
      "metadata": {
        "colab": {
          "base_uri": "https://localhost:8080/"
        },
        "id": "C5BxK_hBKbCI",
        "outputId": "7592467d-2c4f-42b2-da92-70b76dcee556"
      },
      "source": [
        "# what type is the data?\n",
        "\n",
        "print(type(df.loc['school2'])) # one record, so it's a Series\n",
        "print(type(df.loc['school1'])) # two records, do it's a DataFrame"
      ],
      "execution_count": 81,
      "outputs": [
        {
          "output_type": "stream",
          "text": [
            "<class 'pandas.core.series.Series'>\n",
            "<class 'pandas.core.frame.DataFrame'>\n"
          ],
          "name": "stdout"
        }
      ]
    },
    {
      "cell_type": "code",
      "metadata": {
        "colab": {
          "base_uri": "https://localhost:8080/",
          "height": 111
        },
        "id": "4Gdt9wFpKbGX",
        "outputId": "fcd45594-9084-498b-970b-e0061516def5"
      },
      "source": [
        "df.loc['school1'] "
      ],
      "execution_count": 82,
      "outputs": [
        {
          "output_type": "execute_result",
          "data": {
            "text/html": [
              "<div>\n",
              "<style scoped>\n",
              "    .dataframe tbody tr th:only-of-type {\n",
              "        vertical-align: middle;\n",
              "    }\n",
              "\n",
              "    .dataframe tbody tr th {\n",
              "        vertical-align: top;\n",
              "    }\n",
              "\n",
              "    .dataframe thead th {\n",
              "        text-align: right;\n",
              "    }\n",
              "</style>\n",
              "<table border=\"1\" class=\"dataframe\">\n",
              "  <thead>\n",
              "    <tr style=\"text-align: right;\">\n",
              "      <th></th>\n",
              "      <th>Name</th>\n",
              "      <th>Class</th>\n",
              "      <th>Score</th>\n",
              "    </tr>\n",
              "  </thead>\n",
              "  <tbody>\n",
              "    <tr>\n",
              "      <th>school1</th>\n",
              "      <td>Alice</td>\n",
              "      <td>Physics</td>\n",
              "      <td>85</td>\n",
              "    </tr>\n",
              "    <tr>\n",
              "      <th>school1</th>\n",
              "      <td>Helen</td>\n",
              "      <td>Biology</td>\n",
              "      <td>90</td>\n",
              "    </tr>\n",
              "  </tbody>\n",
              "</table>\n",
              "</div>"
            ],
            "text/plain": [
              "          Name    Class  Score\n",
              "school1  Alice  Physics     85\n",
              "school1  Helen  Biology     90"
            ]
          },
          "metadata": {
            "tags": []
          },
          "execution_count": 82
        }
      ]
    },
    {
      "cell_type": "code",
      "metadata": {
        "colab": {
          "base_uri": "https://localhost:8080/"
        },
        "id": "j8WtKtWLKbJc",
        "outputId": "62df7d8d-6217-4863-d887-e32d5729c1b7"
      },
      "source": [
        "# only return specific data, not entire record\n",
        "\n",
        "df.loc['school1', 'Name']"
      ],
      "execution_count": 83,
      "outputs": [
        {
          "output_type": "execute_result",
          "data": {
            "text/plain": [
              "school1    Alice\n",
              "school1    Helen\n",
              "Name: Name, dtype: object"
            ]
          },
          "metadata": {
            "tags": []
          },
          "execution_count": 83
        }
      ]
    },
    {
      "cell_type": "code",
      "metadata": {
        "colab": {
          "base_uri": "https://localhost:8080/",
          "height": 142
        },
        "id": "G9Kdqyk2MUPk",
        "outputId": "f5700247-61ee-4090-cd19-7760cb12855b"
      },
      "source": [
        "# how to transpose the data\n",
        "\n",
        "df.T"
      ],
      "execution_count": 84,
      "outputs": [
        {
          "output_type": "execute_result",
          "data": {
            "text/html": [
              "<div>\n",
              "<style scoped>\n",
              "    .dataframe tbody tr th:only-of-type {\n",
              "        vertical-align: middle;\n",
              "    }\n",
              "\n",
              "    .dataframe tbody tr th {\n",
              "        vertical-align: top;\n",
              "    }\n",
              "\n",
              "    .dataframe thead th {\n",
              "        text-align: right;\n",
              "    }\n",
              "</style>\n",
              "<table border=\"1\" class=\"dataframe\">\n",
              "  <thead>\n",
              "    <tr style=\"text-align: right;\">\n",
              "      <th></th>\n",
              "      <th>school1</th>\n",
              "      <th>school2</th>\n",
              "      <th>school1</th>\n",
              "    </tr>\n",
              "  </thead>\n",
              "  <tbody>\n",
              "    <tr>\n",
              "      <th>Name</th>\n",
              "      <td>Alice</td>\n",
              "      <td>Jack</td>\n",
              "      <td>Helen</td>\n",
              "    </tr>\n",
              "    <tr>\n",
              "      <th>Class</th>\n",
              "      <td>Physics</td>\n",
              "      <td>Chemistry</td>\n",
              "      <td>Biology</td>\n",
              "    </tr>\n",
              "    <tr>\n",
              "      <th>Score</th>\n",
              "      <td>85</td>\n",
              "      <td>82</td>\n",
              "      <td>90</td>\n",
              "    </tr>\n",
              "  </tbody>\n",
              "</table>\n",
              "</div>"
            ],
            "text/plain": [
              "       school1    school2  school1\n",
              "Name     Alice       Jack    Helen\n",
              "Class  Physics  Chemistry  Biology\n",
              "Score       85         82       90"
            ]
          },
          "metadata": {
            "tags": []
          },
          "execution_count": 84
        }
      ]
    },
    {
      "cell_type": "code",
      "metadata": {
        "colab": {
          "base_uri": "https://localhost:8080/"
        },
        "id": "1zpJm4tyStNm",
        "outputId": "e4f498be-01f4-4078-be89-cbd3f5372d51"
      },
      "source": [
        "# What if we want all the contents of a column? Transpose first....\n",
        "\n",
        "df.T.loc['Name']"
      ],
      "execution_count": 85,
      "outputs": [
        {
          "output_type": "execute_result",
          "data": {
            "text/plain": [
              "school1    Alice\n",
              "school2     Jack\n",
              "school1    Helen\n",
              "Name: Name, dtype: object"
            ]
          },
          "metadata": {
            "tags": []
          },
          "execution_count": 85
        }
      ]
    },
    {
      "cell_type": "code",
      "metadata": {
        "colab": {
          "base_uri": "https://localhost:8080/"
        },
        "id": "7DdpOyA0StU4",
        "outputId": "9615c95f-d443-401b-803b-0433ce635e1e"
      },
      "source": [
        "# but this does the same...! (why transpose then????)\n",
        "# note: .loc() not used to get the columnar data\n",
        "\n",
        "df['Name']"
      ],
      "execution_count": 86,
      "outputs": [
        {
          "output_type": "execute_result",
          "data": {
            "text/plain": [
              "school1    Alice\n",
              "school2     Jack\n",
              "school1    Helen\n",
              "Name: Name, dtype: object"
            ]
          },
          "metadata": {
            "tags": []
          },
          "execution_count": 86
        }
      ]
    },
    {
      "cell_type": "code",
      "metadata": {
        "colab": {
          "base_uri": "https://localhost:8080/"
        },
        "id": "hgI6xWI8T_Bo",
        "outputId": "9ff17639-a178-4a4c-9790-c7cc57c9d680"
      },
      "source": [
        "# Columnar selection returns a Series, not a DataFrame\n",
        "\n",
        "type(df['Name'])\n",
        "\n",
        "# Just use type() to check what something returns"
      ],
      "execution_count": 87,
      "outputs": [
        {
          "output_type": "execute_result",
          "data": {
            "text/plain": [
              "pandas.core.series.Series"
            ]
          },
          "metadata": {
            "tags": []
          },
          "execution_count": 87
        }
      ]
    },
    {
      "cell_type": "code",
      "metadata": {
        "colab": {
          "base_uri": "https://localhost:8080/",
          "height": 142
        },
        "id": "y9Hj051yUQUw",
        "outputId": "f0d69055-bea3-455d-e2bc-02c299174c45"
      },
      "source": [
        "# .loc() can use slicing\n",
        "\n",
        "df.loc[:,['Name', 'Score']]"
      ],
      "execution_count": 88,
      "outputs": [
        {
          "output_type": "execute_result",
          "data": {
            "text/html": [
              "<div>\n",
              "<style scoped>\n",
              "    .dataframe tbody tr th:only-of-type {\n",
              "        vertical-align: middle;\n",
              "    }\n",
              "\n",
              "    .dataframe tbody tr th {\n",
              "        vertical-align: top;\n",
              "    }\n",
              "\n",
              "    .dataframe thead th {\n",
              "        text-align: right;\n",
              "    }\n",
              "</style>\n",
              "<table border=\"1\" class=\"dataframe\">\n",
              "  <thead>\n",
              "    <tr style=\"text-align: right;\">\n",
              "      <th></th>\n",
              "      <th>Name</th>\n",
              "      <th>Score</th>\n",
              "    </tr>\n",
              "  </thead>\n",
              "  <tbody>\n",
              "    <tr>\n",
              "      <th>school1</th>\n",
              "      <td>Alice</td>\n",
              "      <td>85</td>\n",
              "    </tr>\n",
              "    <tr>\n",
              "      <th>school2</th>\n",
              "      <td>Jack</td>\n",
              "      <td>82</td>\n",
              "    </tr>\n",
              "    <tr>\n",
              "      <th>school1</th>\n",
              "      <td>Helen</td>\n",
              "      <td>90</td>\n",
              "    </tr>\n",
              "  </tbody>\n",
              "</table>\n",
              "</div>"
            ],
            "text/plain": [
              "          Name  Score\n",
              "school1  Alice     85\n",
              "school2   Jack     82\n",
              "school1  Helen     90"
            ]
          },
          "metadata": {
            "tags": []
          },
          "execution_count": 88
        }
      ]
    },
    {
      "cell_type": "code",
      "metadata": {
        "colab": {
          "base_uri": "https://localhost:8080/",
          "height": 111
        },
        "id": "o_SDBZa8StdF",
        "outputId": "762ff45e-7c54-4a65-b9d1-ceb967bf8b73"
      },
      "source": [
        "# data can be dropped\n",
        "\n",
        "df.drop('school2')"
      ],
      "execution_count": 89,
      "outputs": [
        {
          "output_type": "execute_result",
          "data": {
            "text/html": [
              "<div>\n",
              "<style scoped>\n",
              "    .dataframe tbody tr th:only-of-type {\n",
              "        vertical-align: middle;\n",
              "    }\n",
              "\n",
              "    .dataframe tbody tr th {\n",
              "        vertical-align: top;\n",
              "    }\n",
              "\n",
              "    .dataframe thead th {\n",
              "        text-align: right;\n",
              "    }\n",
              "</style>\n",
              "<table border=\"1\" class=\"dataframe\">\n",
              "  <thead>\n",
              "    <tr style=\"text-align: right;\">\n",
              "      <th></th>\n",
              "      <th>Name</th>\n",
              "      <th>Class</th>\n",
              "      <th>Score</th>\n",
              "    </tr>\n",
              "  </thead>\n",
              "  <tbody>\n",
              "    <tr>\n",
              "      <th>school1</th>\n",
              "      <td>Alice</td>\n",
              "      <td>Physics</td>\n",
              "      <td>85</td>\n",
              "    </tr>\n",
              "    <tr>\n",
              "      <th>school1</th>\n",
              "      <td>Helen</td>\n",
              "      <td>Biology</td>\n",
              "      <td>90</td>\n",
              "    </tr>\n",
              "  </tbody>\n",
              "</table>\n",
              "</div>"
            ],
            "text/plain": [
              "          Name    Class  Score\n",
              "school1  Alice  Physics     85\n",
              "school1  Helen  Biology     90"
            ]
          },
          "metadata": {
            "tags": []
          },
          "execution_count": 89
        }
      ]
    },
    {
      "cell_type": "code",
      "metadata": {
        "colab": {
          "base_uri": "https://localhost:8080/",
          "height": 142
        },
        "id": "EUxzJ5HmVASl",
        "outputId": "cf6e004d-9c57-447b-ef7f-d6c56306fc44"
      },
      "source": [
        "# ...but the dropped data is still there!\n",
        "# (returns a copy)\n",
        "\n",
        "df"
      ],
      "execution_count": 90,
      "outputs": [
        {
          "output_type": "execute_result",
          "data": {
            "text/html": [
              "<div>\n",
              "<style scoped>\n",
              "    .dataframe tbody tr th:only-of-type {\n",
              "        vertical-align: middle;\n",
              "    }\n",
              "\n",
              "    .dataframe tbody tr th {\n",
              "        vertical-align: top;\n",
              "    }\n",
              "\n",
              "    .dataframe thead th {\n",
              "        text-align: right;\n",
              "    }\n",
              "</style>\n",
              "<table border=\"1\" class=\"dataframe\">\n",
              "  <thead>\n",
              "    <tr style=\"text-align: right;\">\n",
              "      <th></th>\n",
              "      <th>Name</th>\n",
              "      <th>Class</th>\n",
              "      <th>Score</th>\n",
              "    </tr>\n",
              "  </thead>\n",
              "  <tbody>\n",
              "    <tr>\n",
              "      <th>school1</th>\n",
              "      <td>Alice</td>\n",
              "      <td>Physics</td>\n",
              "      <td>85</td>\n",
              "    </tr>\n",
              "    <tr>\n",
              "      <th>school2</th>\n",
              "      <td>Jack</td>\n",
              "      <td>Chemistry</td>\n",
              "      <td>82</td>\n",
              "    </tr>\n",
              "    <tr>\n",
              "      <th>school1</th>\n",
              "      <td>Helen</td>\n",
              "      <td>Biology</td>\n",
              "      <td>90</td>\n",
              "    </tr>\n",
              "  </tbody>\n",
              "</table>\n",
              "</div>"
            ],
            "text/plain": [
              "          Name      Class  Score\n",
              "school1  Alice    Physics     85\n",
              "school2   Jack  Chemistry     82\n",
              "school1  Helen    Biology     90"
            ]
          },
          "metadata": {
            "tags": []
          },
          "execution_count": 90
        }
      ]
    },
    {
      "cell_type": "code",
      "metadata": {
        "colab": {
          "base_uri": "https://localhost:8080/",
          "height": 142
        },
        "id": "JhmsXdgVVAVa",
        "outputId": "30e08c4b-1e73-4064-92db-8d692e1fa222"
      },
      "source": [
        "# Use inpalce=True to really drop the data!\n",
        "# axis=0 is a row (default), axis=1 is a column\n",
        "# Using a copy of the data here\n",
        "\n",
        "copy_df = df.copy()\n",
        "copy_df.drop('Name', inplace=True, axis=1)\n",
        "copy_df"
      ],
      "execution_count": 91,
      "outputs": [
        {
          "output_type": "execute_result",
          "data": {
            "text/html": [
              "<div>\n",
              "<style scoped>\n",
              "    .dataframe tbody tr th:only-of-type {\n",
              "        vertical-align: middle;\n",
              "    }\n",
              "\n",
              "    .dataframe tbody tr th {\n",
              "        vertical-align: top;\n",
              "    }\n",
              "\n",
              "    .dataframe thead th {\n",
              "        text-align: right;\n",
              "    }\n",
              "</style>\n",
              "<table border=\"1\" class=\"dataframe\">\n",
              "  <thead>\n",
              "    <tr style=\"text-align: right;\">\n",
              "      <th></th>\n",
              "      <th>Class</th>\n",
              "      <th>Score</th>\n",
              "    </tr>\n",
              "  </thead>\n",
              "  <tbody>\n",
              "    <tr>\n",
              "      <th>school1</th>\n",
              "      <td>Physics</td>\n",
              "      <td>85</td>\n",
              "    </tr>\n",
              "    <tr>\n",
              "      <th>school2</th>\n",
              "      <td>Chemistry</td>\n",
              "      <td>82</td>\n",
              "    </tr>\n",
              "    <tr>\n",
              "      <th>school1</th>\n",
              "      <td>Biology</td>\n",
              "      <td>90</td>\n",
              "    </tr>\n",
              "  </tbody>\n",
              "</table>\n",
              "</div>"
            ],
            "text/plain": [
              "             Class  Score\n",
              "school1    Physics     85\n",
              "school2  Chemistry     82\n",
              "school1    Biology     90"
            ]
          },
          "metadata": {
            "tags": []
          },
          "execution_count": 91
        }
      ]
    },
    {
      "cell_type": "code",
      "metadata": {
        "colab": {
          "base_uri": "https://localhost:8080/",
          "height": 142
        },
        "id": "0HglubL8U9kv",
        "outputId": "911f35cb-f5c0-44dc-bab4-d45accbbbf00"
      },
      "source": [
        "# A 2nd way to drop a column\n",
        "# This is permanent. A copy is NOT returned.\n",
        "\n",
        "del copy_df['Class']\n",
        "copy_df"
      ],
      "execution_count": 92,
      "outputs": [
        {
          "output_type": "execute_result",
          "data": {
            "text/html": [
              "<div>\n",
              "<style scoped>\n",
              "    .dataframe tbody tr th:only-of-type {\n",
              "        vertical-align: middle;\n",
              "    }\n",
              "\n",
              "    .dataframe tbody tr th {\n",
              "        vertical-align: top;\n",
              "    }\n",
              "\n",
              "    .dataframe thead th {\n",
              "        text-align: right;\n",
              "    }\n",
              "</style>\n",
              "<table border=\"1\" class=\"dataframe\">\n",
              "  <thead>\n",
              "    <tr style=\"text-align: right;\">\n",
              "      <th></th>\n",
              "      <th>Score</th>\n",
              "    </tr>\n",
              "  </thead>\n",
              "  <tbody>\n",
              "    <tr>\n",
              "      <th>school1</th>\n",
              "      <td>85</td>\n",
              "    </tr>\n",
              "    <tr>\n",
              "      <th>school2</th>\n",
              "      <td>82</td>\n",
              "    </tr>\n",
              "    <tr>\n",
              "      <th>school1</th>\n",
              "      <td>90</td>\n",
              "    </tr>\n",
              "  </tbody>\n",
              "</table>\n",
              "</div>"
            ],
            "text/plain": [
              "         Score\n",
              "school1     85\n",
              "school2     82\n",
              "school1     90"
            ]
          },
          "metadata": {
            "tags": []
          },
          "execution_count": 92
        }
      ]
    },
    {
      "cell_type": "code",
      "metadata": {
        "colab": {
          "base_uri": "https://localhost:8080/",
          "height": 142
        },
        "id": "WoQdZIdpWvNn",
        "outputId": "ed3158aa-ff26-4884-d954-2b7b8966ab7f"
      },
      "source": [
        "# Add a column. \n",
        "\n",
        "df['ClassRanking'] = None\n",
        "df"
      ],
      "execution_count": 93,
      "outputs": [
        {
          "output_type": "execute_result",
          "data": {
            "text/html": [
              "<div>\n",
              "<style scoped>\n",
              "    .dataframe tbody tr th:only-of-type {\n",
              "        vertical-align: middle;\n",
              "    }\n",
              "\n",
              "    .dataframe tbody tr th {\n",
              "        vertical-align: top;\n",
              "    }\n",
              "\n",
              "    .dataframe thead th {\n",
              "        text-align: right;\n",
              "    }\n",
              "</style>\n",
              "<table border=\"1\" class=\"dataframe\">\n",
              "  <thead>\n",
              "    <tr style=\"text-align: right;\">\n",
              "      <th></th>\n",
              "      <th>Name</th>\n",
              "      <th>Class</th>\n",
              "      <th>Score</th>\n",
              "      <th>ClassRanking</th>\n",
              "    </tr>\n",
              "  </thead>\n",
              "  <tbody>\n",
              "    <tr>\n",
              "      <th>school1</th>\n",
              "      <td>Alice</td>\n",
              "      <td>Physics</td>\n",
              "      <td>85</td>\n",
              "      <td>None</td>\n",
              "    </tr>\n",
              "    <tr>\n",
              "      <th>school2</th>\n",
              "      <td>Jack</td>\n",
              "      <td>Chemistry</td>\n",
              "      <td>82</td>\n",
              "      <td>None</td>\n",
              "    </tr>\n",
              "    <tr>\n",
              "      <th>school1</th>\n",
              "      <td>Helen</td>\n",
              "      <td>Biology</td>\n",
              "      <td>90</td>\n",
              "      <td>None</td>\n",
              "    </tr>\n",
              "  </tbody>\n",
              "</table>\n",
              "</div>"
            ],
            "text/plain": [
              "          Name      Class  Score ClassRanking\n",
              "school1  Alice    Physics     85         None\n",
              "school2   Jack  Chemistry     82         None\n",
              "school1  Helen    Biology     90         None"
            ]
          },
          "metadata": {
            "tags": []
          },
          "execution_count": 93
        }
      ]
    },
    {
      "cell_type": "markdown",
      "metadata": {
        "id": "bg2knx7zXRU_"
      },
      "source": [
        "## DataFrame Indexing and Loading"
      ]
    },
    {
      "cell_type": "markdown",
      "metadata": {
        "id": "htE3PoPhXSwM"
      },
      "source": [
        "Video: https://www.coursera.org/learn/python-data-analysis/lecture/BLY4L/dataframe-indexing-and-loading\n",
        "\n",
        "Basic process:\n",
        "\n",
        "- read data in, usually from external file (CSV, Excel)\n",
        "- clean and manipulate the dataset for analysis"
      ]
    },
    {
      "cell_type": "code",
      "metadata": {
        "id": "Cx4g7IGAWvT3",
        "colab": {
          "base_uri": "https://localhost:8080/"
        },
        "outputId": "f3538615-1ab8-416f-f273-e891677eb316"
      },
      "source": [
        "!cat /content/Coursera-Introduction-to-Data-Science-with-Python/resources/week-2/datasets/Admission_Predict.csv | head"
      ],
      "execution_count": 94,
      "outputs": [
        {
          "output_type": "stream",
          "text": [
            "Serial No.,GRE Score,TOEFL Score,University Rating,SOP,LOR ,CGPA,Research,Chance of Admit \r\n",
            "1,337,118,4,4.5,4.5,9.65,1,0.92\r\n",
            "2,324,107,4,4,4.5,8.87,1,0.76\r\n",
            "3,316,104,3,3,3.5,8,1,0.72\r\n",
            "4,322,110,3,3.5,2.5,8.67,1,0.8\r\n",
            "5,314,103,2,2,3,8.21,0,0.65\r\n",
            "6,330,115,5,4.5,3,9.34,1,0.9\r\n",
            "7,321,109,3,3,4,8.2,1,0.75\r\n",
            "8,308,101,2,3,4,7.9,0,0.68\r\n",
            "9,302,102,1,2,1.5,8,0,0.5\r\n"
          ],
          "name": "stdout"
        }
      ]
    },
    {
      "cell_type": "code",
      "metadata": {
        "id": "m6o06abqWvQw",
        "colab": {
          "base_uri": "https://localhost:8080/",
          "height": 235
        },
        "outputId": "362db42d-6528-4635-8791-de68ef98636a"
      },
      "source": [
        "# loading a dataset from CSV\n",
        "\n",
        "import pandas as pd\n",
        "\n",
        "file = '/content/Coursera-Introduction-to-Data-Science-with-Python/resources/week-2/datasets/Admission_Predict.csv'\n",
        "# assign an index when reading in the CSV. Can be indexed or numeric\n",
        "df = pd.read_csv(file, index_col = 'Serial No.') # index_col = 0 also works\n",
        "\n",
        "df.head()\n"
      ],
      "execution_count": 95,
      "outputs": [
        {
          "output_type": "execute_result",
          "data": {
            "text/html": [
              "<div>\n",
              "<style scoped>\n",
              "    .dataframe tbody tr th:only-of-type {\n",
              "        vertical-align: middle;\n",
              "    }\n",
              "\n",
              "    .dataframe tbody tr th {\n",
              "        vertical-align: top;\n",
              "    }\n",
              "\n",
              "    .dataframe thead th {\n",
              "        text-align: right;\n",
              "    }\n",
              "</style>\n",
              "<table border=\"1\" class=\"dataframe\">\n",
              "  <thead>\n",
              "    <tr style=\"text-align: right;\">\n",
              "      <th></th>\n",
              "      <th>GRE Score</th>\n",
              "      <th>TOEFL Score</th>\n",
              "      <th>University Rating</th>\n",
              "      <th>SOP</th>\n",
              "      <th>LOR</th>\n",
              "      <th>CGPA</th>\n",
              "      <th>Research</th>\n",
              "      <th>Chance of Admit</th>\n",
              "    </tr>\n",
              "    <tr>\n",
              "      <th>Serial No.</th>\n",
              "      <th></th>\n",
              "      <th></th>\n",
              "      <th></th>\n",
              "      <th></th>\n",
              "      <th></th>\n",
              "      <th></th>\n",
              "      <th></th>\n",
              "      <th></th>\n",
              "    </tr>\n",
              "  </thead>\n",
              "  <tbody>\n",
              "    <tr>\n",
              "      <th>1</th>\n",
              "      <td>337</td>\n",
              "      <td>118</td>\n",
              "      <td>4</td>\n",
              "      <td>4.5</td>\n",
              "      <td>4.5</td>\n",
              "      <td>9.65</td>\n",
              "      <td>1</td>\n",
              "      <td>0.92</td>\n",
              "    </tr>\n",
              "    <tr>\n",
              "      <th>2</th>\n",
              "      <td>324</td>\n",
              "      <td>107</td>\n",
              "      <td>4</td>\n",
              "      <td>4.0</td>\n",
              "      <td>4.5</td>\n",
              "      <td>8.87</td>\n",
              "      <td>1</td>\n",
              "      <td>0.76</td>\n",
              "    </tr>\n",
              "    <tr>\n",
              "      <th>3</th>\n",
              "      <td>316</td>\n",
              "      <td>104</td>\n",
              "      <td>3</td>\n",
              "      <td>3.0</td>\n",
              "      <td>3.5</td>\n",
              "      <td>8.00</td>\n",
              "      <td>1</td>\n",
              "      <td>0.72</td>\n",
              "    </tr>\n",
              "    <tr>\n",
              "      <th>4</th>\n",
              "      <td>322</td>\n",
              "      <td>110</td>\n",
              "      <td>3</td>\n",
              "      <td>3.5</td>\n",
              "      <td>2.5</td>\n",
              "      <td>8.67</td>\n",
              "      <td>1</td>\n",
              "      <td>0.80</td>\n",
              "    </tr>\n",
              "    <tr>\n",
              "      <th>5</th>\n",
              "      <td>314</td>\n",
              "      <td>103</td>\n",
              "      <td>2</td>\n",
              "      <td>2.0</td>\n",
              "      <td>3.0</td>\n",
              "      <td>8.21</td>\n",
              "      <td>0</td>\n",
              "      <td>0.65</td>\n",
              "    </tr>\n",
              "  </tbody>\n",
              "</table>\n",
              "</div>"
            ],
            "text/plain": [
              "            GRE Score  TOEFL Score  ...  Research  Chance of Admit \n",
              "Serial No.                          ...                            \n",
              "1                 337          118  ...         1              0.92\n",
              "2                 324          107  ...         1              0.76\n",
              "3                 316          104  ...         1              0.72\n",
              "4                 322          110  ...         1              0.80\n",
              "5                 314          103  ...         0              0.65\n",
              "\n",
              "[5 rows x 8 columns]"
            ]
          },
          "metadata": {
            "tags": []
          },
          "execution_count": 95
        }
      ]
    },
    {
      "cell_type": "code",
      "metadata": {
        "id": "B3QIc3t2WvXV",
        "colab": {
          "base_uri": "https://localhost:8080/",
          "height": 235
        },
        "outputId": "e462226f-21f7-409e-e0c1-b2333422b8de"
      },
      "source": [
        "# Let's create a new DF and do a cleanup\n",
        "new_df = df.rename(columns = {'GRE Score': 'GRE Score',\n",
        "                              'TOEFL Score': 'TOEFL Score',\n",
        "                              'University Rating': 'University Rating',\n",
        "                              'SOP': 'Statement of Purpose',\n",
        "                              'LOR': 'Letter of Recommendation',\n",
        "                              'CGPA': 'CGPA',\n",
        "                              'Research': 'Research',\n",
        "                              'Chance of Admit': 'Chance of Admit'})\n",
        "new_df.head()\n",
        "            "
      ],
      "execution_count": 96,
      "outputs": [
        {
          "output_type": "execute_result",
          "data": {
            "text/html": [
              "<div>\n",
              "<style scoped>\n",
              "    .dataframe tbody tr th:only-of-type {\n",
              "        vertical-align: middle;\n",
              "    }\n",
              "\n",
              "    .dataframe tbody tr th {\n",
              "        vertical-align: top;\n",
              "    }\n",
              "\n",
              "    .dataframe thead th {\n",
              "        text-align: right;\n",
              "    }\n",
              "</style>\n",
              "<table border=\"1\" class=\"dataframe\">\n",
              "  <thead>\n",
              "    <tr style=\"text-align: right;\">\n",
              "      <th></th>\n",
              "      <th>GRE Score</th>\n",
              "      <th>TOEFL Score</th>\n",
              "      <th>University Rating</th>\n",
              "      <th>Statement of Purpose</th>\n",
              "      <th>LOR</th>\n",
              "      <th>CGPA</th>\n",
              "      <th>Research</th>\n",
              "      <th>Chance of Admit</th>\n",
              "    </tr>\n",
              "    <tr>\n",
              "      <th>Serial No.</th>\n",
              "      <th></th>\n",
              "      <th></th>\n",
              "      <th></th>\n",
              "      <th></th>\n",
              "      <th></th>\n",
              "      <th></th>\n",
              "      <th></th>\n",
              "      <th></th>\n",
              "    </tr>\n",
              "  </thead>\n",
              "  <tbody>\n",
              "    <tr>\n",
              "      <th>1</th>\n",
              "      <td>337</td>\n",
              "      <td>118</td>\n",
              "      <td>4</td>\n",
              "      <td>4.5</td>\n",
              "      <td>4.5</td>\n",
              "      <td>9.65</td>\n",
              "      <td>1</td>\n",
              "      <td>0.92</td>\n",
              "    </tr>\n",
              "    <tr>\n",
              "      <th>2</th>\n",
              "      <td>324</td>\n",
              "      <td>107</td>\n",
              "      <td>4</td>\n",
              "      <td>4.0</td>\n",
              "      <td>4.5</td>\n",
              "      <td>8.87</td>\n",
              "      <td>1</td>\n",
              "      <td>0.76</td>\n",
              "    </tr>\n",
              "    <tr>\n",
              "      <th>3</th>\n",
              "      <td>316</td>\n",
              "      <td>104</td>\n",
              "      <td>3</td>\n",
              "      <td>3.0</td>\n",
              "      <td>3.5</td>\n",
              "      <td>8.00</td>\n",
              "      <td>1</td>\n",
              "      <td>0.72</td>\n",
              "    </tr>\n",
              "    <tr>\n",
              "      <th>4</th>\n",
              "      <td>322</td>\n",
              "      <td>110</td>\n",
              "      <td>3</td>\n",
              "      <td>3.5</td>\n",
              "      <td>2.5</td>\n",
              "      <td>8.67</td>\n",
              "      <td>1</td>\n",
              "      <td>0.80</td>\n",
              "    </tr>\n",
              "    <tr>\n",
              "      <th>5</th>\n",
              "      <td>314</td>\n",
              "      <td>103</td>\n",
              "      <td>2</td>\n",
              "      <td>2.0</td>\n",
              "      <td>3.0</td>\n",
              "      <td>8.21</td>\n",
              "      <td>0</td>\n",
              "      <td>0.65</td>\n",
              "    </tr>\n",
              "  </tbody>\n",
              "</table>\n",
              "</div>"
            ],
            "text/plain": [
              "            GRE Score  TOEFL Score  ...  Research  Chance of Admit \n",
              "Serial No.                          ...                            \n",
              "1                 337          118  ...         1              0.92\n",
              "2                 324          107  ...         1              0.76\n",
              "3                 316          104  ...         1              0.72\n",
              "4                 322          110  ...         1              0.80\n",
              "5                 314          103  ...         0              0.65\n",
              "\n",
              "[5 rows x 8 columns]"
            ]
          },
          "metadata": {
            "tags": []
          },
          "execution_count": 96
        }
      ]
    },
    {
      "cell_type": "code",
      "metadata": {
        "id": "g695aWNaMUSy",
        "colab": {
          "base_uri": "https://localhost:8080/"
        },
        "outputId": "1198471e-9b88-431e-c63f-6505ca75881f"
      },
      "source": [
        "# Some did not rename. Why not? Note the extra space in some column titles\n",
        "\n",
        "new_df.columns"
      ],
      "execution_count": 97,
      "outputs": [
        {
          "output_type": "execute_result",
          "data": {
            "text/plain": [
              "Index(['GRE Score', 'TOEFL Score', 'University Rating', 'Statement of Purpose',\n",
              "       'LOR ', 'CGPA', 'Research', 'Chance of Admit '],\n",
              "      dtype='object')"
            ]
          },
          "metadata": {
            "tags": []
          },
          "execution_count": 97
        }
      ]
    },
    {
      "cell_type": "code",
      "metadata": {
        "id": "w-vSBu3rMUZp",
        "colab": {
          "base_uri": "https://localhost:8080/",
          "height": 252
        },
        "outputId": "93969910-385f-4f03-d1d9-bd557672bc07"
      },
      "source": [
        "# Fixing the column names should work\n",
        "\n",
        "new_df = df.rename(columns = {'GRE Score': 'GRE Score',\n",
        "                              'TOEFL Score': 'TOEFL Score',\n",
        "                              'University Rating': 'University Rating',\n",
        "                              'SOP': 'Statement of Purpose',\n",
        "                              'LOR ': 'Letter of Recommendation',\n",
        "                              'CGPA': 'CGPA',\n",
        "                              'Research': 'Research',\n",
        "                              'Chance of Admit ': 'Chance of Admit'})\n",
        "new_df.head()"
      ],
      "execution_count": 98,
      "outputs": [
        {
          "output_type": "execute_result",
          "data": {
            "text/html": [
              "<div>\n",
              "<style scoped>\n",
              "    .dataframe tbody tr th:only-of-type {\n",
              "        vertical-align: middle;\n",
              "    }\n",
              "\n",
              "    .dataframe tbody tr th {\n",
              "        vertical-align: top;\n",
              "    }\n",
              "\n",
              "    .dataframe thead th {\n",
              "        text-align: right;\n",
              "    }\n",
              "</style>\n",
              "<table border=\"1\" class=\"dataframe\">\n",
              "  <thead>\n",
              "    <tr style=\"text-align: right;\">\n",
              "      <th></th>\n",
              "      <th>GRE Score</th>\n",
              "      <th>TOEFL Score</th>\n",
              "      <th>University Rating</th>\n",
              "      <th>Statement of Purpose</th>\n",
              "      <th>Letter of Recommendation</th>\n",
              "      <th>CGPA</th>\n",
              "      <th>Research</th>\n",
              "      <th>Chance of Admit</th>\n",
              "    </tr>\n",
              "    <tr>\n",
              "      <th>Serial No.</th>\n",
              "      <th></th>\n",
              "      <th></th>\n",
              "      <th></th>\n",
              "      <th></th>\n",
              "      <th></th>\n",
              "      <th></th>\n",
              "      <th></th>\n",
              "      <th></th>\n",
              "    </tr>\n",
              "  </thead>\n",
              "  <tbody>\n",
              "    <tr>\n",
              "      <th>1</th>\n",
              "      <td>337</td>\n",
              "      <td>118</td>\n",
              "      <td>4</td>\n",
              "      <td>4.5</td>\n",
              "      <td>4.5</td>\n",
              "      <td>9.65</td>\n",
              "      <td>1</td>\n",
              "      <td>0.92</td>\n",
              "    </tr>\n",
              "    <tr>\n",
              "      <th>2</th>\n",
              "      <td>324</td>\n",
              "      <td>107</td>\n",
              "      <td>4</td>\n",
              "      <td>4.0</td>\n",
              "      <td>4.5</td>\n",
              "      <td>8.87</td>\n",
              "      <td>1</td>\n",
              "      <td>0.76</td>\n",
              "    </tr>\n",
              "    <tr>\n",
              "      <th>3</th>\n",
              "      <td>316</td>\n",
              "      <td>104</td>\n",
              "      <td>3</td>\n",
              "      <td>3.0</td>\n",
              "      <td>3.5</td>\n",
              "      <td>8.00</td>\n",
              "      <td>1</td>\n",
              "      <td>0.72</td>\n",
              "    </tr>\n",
              "    <tr>\n",
              "      <th>4</th>\n",
              "      <td>322</td>\n",
              "      <td>110</td>\n",
              "      <td>3</td>\n",
              "      <td>3.5</td>\n",
              "      <td>2.5</td>\n",
              "      <td>8.67</td>\n",
              "      <td>1</td>\n",
              "      <td>0.80</td>\n",
              "    </tr>\n",
              "    <tr>\n",
              "      <th>5</th>\n",
              "      <td>314</td>\n",
              "      <td>103</td>\n",
              "      <td>2</td>\n",
              "      <td>2.0</td>\n",
              "      <td>3.0</td>\n",
              "      <td>8.21</td>\n",
              "      <td>0</td>\n",
              "      <td>0.65</td>\n",
              "    </tr>\n",
              "  </tbody>\n",
              "</table>\n",
              "</div>"
            ],
            "text/plain": [
              "            GRE Score  TOEFL Score  ...  Research  Chance of Admit\n",
              "Serial No.                          ...                           \n",
              "1                 337          118  ...         1             0.92\n",
              "2                 324          107  ...         1             0.76\n",
              "3                 316          104  ...         1             0.72\n",
              "4                 322          110  ...         1             0.80\n",
              "5                 314          103  ...         0             0.65\n",
              "\n",
              "[5 rows x 8 columns]"
            ]
          },
          "metadata": {
            "tags": []
          },
          "execution_count": 98
        }
      ]
    },
    {
      "cell_type": "code",
      "metadata": {
        "id": "D_PDrHWHYlYl",
        "colab": {
          "base_uri": "https://localhost:8080/",
          "height": 252
        },
        "outputId": "8bc49cae-476d-46e1-a4e9-37ff7d3feb76"
      },
      "source": [
        "# We could have also used strip() before renaming\n",
        "\n",
        "new_df = new_df.rename(mapper=str.strip, axis='columns')\n",
        "new_df.head()"
      ],
      "execution_count": 99,
      "outputs": [
        {
          "output_type": "execute_result",
          "data": {
            "text/html": [
              "<div>\n",
              "<style scoped>\n",
              "    .dataframe tbody tr th:only-of-type {\n",
              "        vertical-align: middle;\n",
              "    }\n",
              "\n",
              "    .dataframe tbody tr th {\n",
              "        vertical-align: top;\n",
              "    }\n",
              "\n",
              "    .dataframe thead th {\n",
              "        text-align: right;\n",
              "    }\n",
              "</style>\n",
              "<table border=\"1\" class=\"dataframe\">\n",
              "  <thead>\n",
              "    <tr style=\"text-align: right;\">\n",
              "      <th></th>\n",
              "      <th>GRE Score</th>\n",
              "      <th>TOEFL Score</th>\n",
              "      <th>University Rating</th>\n",
              "      <th>Statement of Purpose</th>\n",
              "      <th>Letter of Recommendation</th>\n",
              "      <th>CGPA</th>\n",
              "      <th>Research</th>\n",
              "      <th>Chance of Admit</th>\n",
              "    </tr>\n",
              "    <tr>\n",
              "      <th>Serial No.</th>\n",
              "      <th></th>\n",
              "      <th></th>\n",
              "      <th></th>\n",
              "      <th></th>\n",
              "      <th></th>\n",
              "      <th></th>\n",
              "      <th></th>\n",
              "      <th></th>\n",
              "    </tr>\n",
              "  </thead>\n",
              "  <tbody>\n",
              "    <tr>\n",
              "      <th>1</th>\n",
              "      <td>337</td>\n",
              "      <td>118</td>\n",
              "      <td>4</td>\n",
              "      <td>4.5</td>\n",
              "      <td>4.5</td>\n",
              "      <td>9.65</td>\n",
              "      <td>1</td>\n",
              "      <td>0.92</td>\n",
              "    </tr>\n",
              "    <tr>\n",
              "      <th>2</th>\n",
              "      <td>324</td>\n",
              "      <td>107</td>\n",
              "      <td>4</td>\n",
              "      <td>4.0</td>\n",
              "      <td>4.5</td>\n",
              "      <td>8.87</td>\n",
              "      <td>1</td>\n",
              "      <td>0.76</td>\n",
              "    </tr>\n",
              "    <tr>\n",
              "      <th>3</th>\n",
              "      <td>316</td>\n",
              "      <td>104</td>\n",
              "      <td>3</td>\n",
              "      <td>3.0</td>\n",
              "      <td>3.5</td>\n",
              "      <td>8.00</td>\n",
              "      <td>1</td>\n",
              "      <td>0.72</td>\n",
              "    </tr>\n",
              "    <tr>\n",
              "      <th>4</th>\n",
              "      <td>322</td>\n",
              "      <td>110</td>\n",
              "      <td>3</td>\n",
              "      <td>3.5</td>\n",
              "      <td>2.5</td>\n",
              "      <td>8.67</td>\n",
              "      <td>1</td>\n",
              "      <td>0.80</td>\n",
              "    </tr>\n",
              "    <tr>\n",
              "      <th>5</th>\n",
              "      <td>314</td>\n",
              "      <td>103</td>\n",
              "      <td>2</td>\n",
              "      <td>2.0</td>\n",
              "      <td>3.0</td>\n",
              "      <td>8.21</td>\n",
              "      <td>0</td>\n",
              "      <td>0.65</td>\n",
              "    </tr>\n",
              "  </tbody>\n",
              "</table>\n",
              "</div>"
            ],
            "text/plain": [
              "            GRE Score  TOEFL Score  ...  Research  Chance of Admit\n",
              "Serial No.                          ...                           \n",
              "1                 337          118  ...         1             0.92\n",
              "2                 324          107  ...         1             0.76\n",
              "3                 316          104  ...         1             0.72\n",
              "4                 322          110  ...         1             0.80\n",
              "5                 314          103  ...         0             0.65\n",
              "\n",
              "[5 rows x 8 columns]"
            ]
          },
          "metadata": {
            "tags": []
          },
          "execution_count": 99
        }
      ]
    },
    {
      "cell_type": "code",
      "metadata": {
        "colab": {
          "base_uri": "https://localhost:8080/"
        },
        "id": "ZGi9e1kDoPsh",
        "outputId": "39b5a711-42e5-482d-ebd7-e1701aed9de7"
      },
      "source": [
        "df.columns"
      ],
      "execution_count": 100,
      "outputs": [
        {
          "output_type": "execute_result",
          "data": {
            "text/plain": [
              "Index(['GRE Score', 'TOEFL Score', 'University Rating', 'SOP', 'LOR ', 'CGPA',\n",
              "       'Research', 'Chance of Admit '],\n",
              "      dtype='object')"
            ]
          },
          "metadata": {
            "tags": []
          },
          "execution_count": 100
        }
      ]
    },
    {
      "cell_type": "code",
      "metadata": {
        "colab": {
          "base_uri": "https://localhost:8080/"
        },
        "id": "LvDR5sfmoPzp",
        "outputId": "f17b7105-9001-46fc-9b76-5c7f0a8807de"
      },
      "source": [
        "# Another way to clean up the column names\n",
        "\n",
        "cols = list(df.columns)\n",
        "cols = [x.strip() for x in cols]\n",
        "df.columns = cols \n",
        "df.columns # no spaces now"
      ],
      "execution_count": 101,
      "outputs": [
        {
          "output_type": "execute_result",
          "data": {
            "text/plain": [
              "Index(['GRE Score', 'TOEFL Score', 'University Rating', 'SOP', 'LOR', 'CGPA',\n",
              "       'Research', 'Chance of Admit'],\n",
              "      dtype='object')"
            ]
          },
          "metadata": {
            "tags": []
          },
          "execution_count": 101
        }
      ]
    },
    {
      "cell_type": "markdown",
      "metadata": {
        "id": "tCMyonPYpdFv"
      },
      "source": [
        "## Querying a DataFrame"
      ]
    },
    {
      "cell_type": "markdown",
      "metadata": {
        "id": "b1rH90HXpe-s"
      },
      "source": [
        "Video: https://www.coursera.org/learn/python-data-analysis/lecture/SnkqS/querying-a-dataframe"
      ]
    },
    {
      "cell_type": "code",
      "metadata": {
        "id": "SquzNLEloP4A"
      },
      "source": [
        ""
      ],
      "execution_count": 101,
      "outputs": []
    },
    {
      "cell_type": "code",
      "metadata": {
        "id": "e0bKd8JIoP7M"
      },
      "source": [
        ""
      ],
      "execution_count": 101,
      "outputs": []
    },
    {
      "cell_type": "code",
      "metadata": {
        "id": "tmH6Stk3YQng"
      },
      "source": [
        ""
      ],
      "execution_count": 101,
      "outputs": []
    },
    {
      "cell_type": "markdown",
      "metadata": {
        "id": "Ryc7zgE8axN0"
      },
      "source": [
        "# Experiments"
      ]
    },
    {
      "cell_type": "code",
      "metadata": {
        "colab": {
          "base_uri": "https://localhost:8080/",
          "height": 38
        },
        "id": "QOYRMZmo8Q17",
        "outputId": "8dc4008e-af9b-4563-e102-848b33297411"
      },
      "source": [
        "# Marquees are back! 😊\n",
        "%%html\n",
        "<marquee style='width: 50%; color: Green;'>Welcome to Tutorialspoint!</marquee>"
      ],
      "execution_count": 102,
      "outputs": [
        {
          "output_type": "display_data",
          "data": {
            "text/html": [
              "<marquee style='width: 50%; color: Green;'>Welcome to Tutorialspoint!</marquee>"
            ],
            "text/plain": [
              "<IPython.core.display.HTML object>"
            ]
          },
          "metadata": {
            "tags": []
          }
        }
      ]
    },
    {
      "cell_type": "code",
      "metadata": {
        "id": "c5VdEFQSreo6",
        "colab": {
          "base_uri": "https://localhost:8080/"
        },
        "outputId": "807a2484-cfbe-48bb-e8d9-2dc98dc9d113"
      },
      "source": [
        "import numpy as np\n",
        "\n",
        "a = np.zeros([20,20])\n",
        "b = np.ones([20,20])\n",
        "\n",
        "print(a + b)"
      ],
      "execution_count": 103,
      "outputs": [
        {
          "output_type": "stream",
          "text": [
            "[[1. 1. 1. 1. 1. 1. 1. 1. 1. 1. 1. 1. 1. 1. 1. 1. 1. 1. 1. 1.]\n",
            " [1. 1. 1. 1. 1. 1. 1. 1. 1. 1. 1. 1. 1. 1. 1. 1. 1. 1. 1. 1.]\n",
            " [1. 1. 1. 1. 1. 1. 1. 1. 1. 1. 1. 1. 1. 1. 1. 1. 1. 1. 1. 1.]\n",
            " [1. 1. 1. 1. 1. 1. 1. 1. 1. 1. 1. 1. 1. 1. 1. 1. 1. 1. 1. 1.]\n",
            " [1. 1. 1. 1. 1. 1. 1. 1. 1. 1. 1. 1. 1. 1. 1. 1. 1. 1. 1. 1.]\n",
            " [1. 1. 1. 1. 1. 1. 1. 1. 1. 1. 1. 1. 1. 1. 1. 1. 1. 1. 1. 1.]\n",
            " [1. 1. 1. 1. 1. 1. 1. 1. 1. 1. 1. 1. 1. 1. 1. 1. 1. 1. 1. 1.]\n",
            " [1. 1. 1. 1. 1. 1. 1. 1. 1. 1. 1. 1. 1. 1. 1. 1. 1. 1. 1. 1.]\n",
            " [1. 1. 1. 1. 1. 1. 1. 1. 1. 1. 1. 1. 1. 1. 1. 1. 1. 1. 1. 1.]\n",
            " [1. 1. 1. 1. 1. 1. 1. 1. 1. 1. 1. 1. 1. 1. 1. 1. 1. 1. 1. 1.]\n",
            " [1. 1. 1. 1. 1. 1. 1. 1. 1. 1. 1. 1. 1. 1. 1. 1. 1. 1. 1. 1.]\n",
            " [1. 1. 1. 1. 1. 1. 1. 1. 1. 1. 1. 1. 1. 1. 1. 1. 1. 1. 1. 1.]\n",
            " [1. 1. 1. 1. 1. 1. 1. 1. 1. 1. 1. 1. 1. 1. 1. 1. 1. 1. 1. 1.]\n",
            " [1. 1. 1. 1. 1. 1. 1. 1. 1. 1. 1. 1. 1. 1. 1. 1. 1. 1. 1. 1.]\n",
            " [1. 1. 1. 1. 1. 1. 1. 1. 1. 1. 1. 1. 1. 1. 1. 1. 1. 1. 1. 1.]\n",
            " [1. 1. 1. 1. 1. 1. 1. 1. 1. 1. 1. 1. 1. 1. 1. 1. 1. 1. 1. 1.]\n",
            " [1. 1. 1. 1. 1. 1. 1. 1. 1. 1. 1. 1. 1. 1. 1. 1. 1. 1. 1. 1.]\n",
            " [1. 1. 1. 1. 1. 1. 1. 1. 1. 1. 1. 1. 1. 1. 1. 1. 1. 1. 1. 1.]\n",
            " [1. 1. 1. 1. 1. 1. 1. 1. 1. 1. 1. 1. 1. 1. 1. 1. 1. 1. 1. 1.]\n",
            " [1. 1. 1. 1. 1. 1. 1. 1. 1. 1. 1. 1. 1. 1. 1. 1. 1. 1. 1. 1.]]\n"
          ],
          "name": "stdout"
        }
      ]
    },
    {
      "cell_type": "code",
      "metadata": {
        "id": "cbuTiCJxAk5u"
      },
      "source": [
        ""
      ],
      "execution_count": 103,
      "outputs": []
    }
  ]
}