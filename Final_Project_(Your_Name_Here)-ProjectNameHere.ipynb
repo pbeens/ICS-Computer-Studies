{
  "nbformat": 4,
  "nbformat_minor": 0,
  "metadata": {
    "colab": {
      "name": "Final Project (Your Name Here).ipynb",
      "version": "0.3.2",
      "provenance": [],
      "collapsed_sections": []
    },
    "kernelspec": {
      "name": "python3",
      "display_name": "Python 3"
    }
  },
  "cells": [
    {
      "cell_type": "markdown",
      "metadata": {
        "id": "42Dtx-uOs3gX",
        "colab_type": "text"
      },
      "source": [
        "# MAKE A COPY OF THIS NOTEBOOK AND RENAME ACCORDINGLY. \n",
        "# SHARE IT WITH YOUR INSTRUCTOR IMMEDIATELY."
      ]
    },
    {
      "cell_type": "markdown",
      "metadata": {
        "id": "Irxqh2KninMf",
        "colab_type": "text"
      },
      "source": [
        "Be sure that each \"chunk\" of code is appropriately documented and that you are following all standard Python conventions (https://www.python.org/dev/peps/pep-0008/). Use functions and classes as appropriate for cleanliness and efficiency. \n",
        "\n",
        "This template version is 2019-05-27 and the master can be found at http://bit.ly/2HDqlko. Always be sure you are adhering to the latest notebook template requirements. "
      ]
    },
    {
      "cell_type": "markdown",
      "metadata": {
        "id": "AhpZeXalmGxd",
        "colab_type": "text"
      },
      "source": [
        "## Project Journal\n",
        "\n",
        "2019-05-27 Started researching which project I am doing... (replace this with your own comment(s))\n",
        "\n",
        "2019-05-28..."
      ]
    },
    {
      "cell_type": "markdown",
      "metadata": {
        "id": "puIfqLiHmaZw",
        "colab_type": "text"
      },
      "source": [
        "## Program Header\n",
        "\n",
        "Your Name: \n",
        "\n",
        "Project Name:\n",
        "\n",
        "Project URL: *(be sure the URL goes directly to the challenge, not just the page the challenge is on)*\n",
        "\n",
        "Project Description: "
      ]
    },
    {
      "cell_type": "markdown",
      "metadata": {
        "id": "N92Wx--MmemM",
        "colab_type": "text"
      },
      "source": [
        "## References Used While Programming\n",
        "\n",
        "List any websites below that you used to research how to do this challenge.\n",
        "\n",
        "\n",
        "1.   List item\n",
        "2.   List item\n",
        "\n",
        "\n",
        "\n"
      ]
    },
    {
      "cell_type": "markdown",
      "metadata": {
        "id": "a-6Tx0PRnW0Z",
        "colab_type": "text"
      },
      "source": [
        "## My Program"
      ]
    },
    {
      "cell_type": "markdown",
      "metadata": {
        "id": "KbaGkq4-tJG1",
        "colab_type": "text"
      },
      "source": [
        "Section Comment(s)"
      ]
    },
    {
      "cell_type": "code",
      "metadata": {
        "id": "eK7Pc7Y2tSte",
        "colab_type": "code",
        "colab": {}
      },
      "source": [
        "# Code goes here"
      ],
      "execution_count": 0,
      "outputs": []
    },
    {
      "cell_type": "markdown",
      "metadata": {
        "id": "qiXlIdcHtRxb",
        "colab_type": "text"
      },
      "source": [
        "Section Comment(s)"
      ]
    },
    {
      "cell_type": "code",
      "metadata": {
        "id": "OKkj7uZCsQLE",
        "colab_type": "code",
        "colab": {}
      },
      "source": [
        "# Code goes here"
      ],
      "execution_count": 0,
      "outputs": []
    },
    {
      "cell_type": "markdown",
      "metadata": {
        "id": "-nOLaAI3igY6",
        "colab_type": "text"
      },
      "source": [
        "Etc....."
      ]
    },
    {
      "cell_type": "code",
      "metadata": {
        "id": "TcasZsd0iiDZ",
        "colab_type": "code",
        "colab": {}
      },
      "source": [
        ""
      ],
      "execution_count": 0,
      "outputs": []
    }
  ]
}